{
 "cells": [
  {
   "cell_type": "code",
   "execution_count": 7,
   "metadata": {},
   "outputs": [],
   "source": [
    "# 일부만 할당된 GPU 메모리를 실행하는 동안 필요한 만큼 늘릴 수 있도록 설정함\n",
    "import tensorflow as tf\n",
    "\n",
    "config= tf.ConfigProto()\n",
    "config.gpu_options.allow_growth = True\n",
    "session = tf.Session(config=config)\n",
    "\n",
    "#모델 학습 시 불필요한 출력을 끄도록함 (warning)\n",
    "import tensorflow as tf\n",
    "tf.logging.set_verbosity(tf.logging.ERROR)"
   ]
  },
  {
   "cell_type": "markdown",
   "metadata": {},
   "source": [
    "## 1. data 수집"
   ]
  },
  {
   "cell_type": "code",
   "execution_count": 61,
   "metadata": {},
   "outputs": [
    {
     "name": "stderr",
     "output_type": "stream",
     "text": [
      "2019-07-19 12:21:48,077 - INFO - icrawler.crawler - start crawling...\n",
      "2019-07-19 12:21:48,078 - INFO - icrawler.crawler - starting 1 feeder threads...\n",
      "2019-07-19 12:21:48,080 - INFO - feeder - thread feeder-001 exit\n",
      "2019-07-19 12:21:48,082 - INFO - icrawler.crawler - starting 1 parser threads...\n",
      "2019-07-19 12:21:48,084 - INFO - icrawler.crawler - starting 4 downloader threads...\n",
      "2019-07-19 12:21:49,211 - INFO - parser - parsing result page https://www.google.com/search?q=%EB%AC%B4%ED%91%9C%EC%A0%95&ijn=0&start=0&tbs=isz%3Al%2Citp%3Aface%2Csur%3Af%2Ccdr%3A1%2Ccd_min%3A01%2F01%2F2015%2Ccd_max%3A07%2F11%2F2019&tbm=isch&lr=lang_Korean\n",
      "2019-07-19 12:21:50,428 - INFO - downloader - image #1\thttps://i.ytimg.com/vi/P6UUqJSYqak/maxresdefault.jpg\n",
      "2019-07-19 12:21:50,489 - INFO - downloader - image #2\thttp://file3.instiz.net/data/cached_img/upload/2018/05/13/0/87309f396b06afba00e879d9ed5a8dc6.jpg\n",
      "2019-07-19 12:21:50,965 - INFO - downloader - image #3\thttps://pbs.twimg.com/media/DakaZhBUMAARGpC.jpg\n",
      "2019-07-19 12:21:51,080 - INFO - downloader - image #4\thttps://img.theqoo.net/img/TkEoe.jpg\n",
      "2019-07-19 12:21:51,137 - INFO - downloader - image #5\thttps://img.theqoo.net/img/CugSV.jpg\n",
      "2019-07-19 12:21:51,231 - INFO - downloader - image #6\thttps://i.ytimg.com/vi/PlR15tYBEdY/maxresdefault.jpg\n",
      "2019-07-19 12:21:51,916 - INFO - downloader - image #7\thttps://dispatch.cdnser.be/wp-content/uploads/2018/06/20180606204325_20180528003939_cms_1952-copy.jpg\n",
      "2019-07-19 12:21:52,101 - INFO - downloader - image #8\thttp://ph.spotvnews.co.kr/news/photo/201711/176051_211606_3226.jpg\n",
      "2019-07-19 12:21:52,229 - INFO - downloader - image #9\thttp://www.topstarnews.net/news/photo/201806/429516_78201_3357.jpg\n",
      "2019-07-19 12:21:52,661 - INFO - downloader - image #10\thttps://t1.daumcdn.net/cfile/tistory/99D395445B11375604\n",
      "2019-07-19 12:21:52,749 - ERROR - downloader - Response status code 403, file https://scontent-atl3-1.cdninstagram.com/vp/e6684b505592d09258ea0c05fd0485d7/5D1A92AF/t51.2885-15/e35/40463776_163055794585038_7118747547198953977_n.jpg?_nc_ht=scontent-atl3-1.cdninstagram.com\n",
      "2019-07-19 12:21:52,770 - INFO - downloader - image #11\thttps://scontent-atl3-1.cdninstagram.com/vp/fc22f11371b8e9d056ff1fb1f6e0de77/5D865F40/t51.2885-15/e35/30085273_225580934854672_5379400186952941568_n.jpg?_nc_ht=scontent-atl3-1.cdninstagram.com\n",
      "2019-07-19 12:21:53,999 - INFO - downloader - image #12\thttps://scontent-atl3-1.cdninstagram.com/vp/d470770bbf87969d34d4963e9473de5f/5DB24B54/t51.2885-15/e35/58809728_553628215126730_242048034889017440_n.jpg?_nc_ht=scontent-atl3-1.cdninstagram.com\n",
      "2019-07-19 12:21:54,296 - INFO - downloader - image #13\thttps://img.theqoo.net/img/CyQjq.jpg\n",
      "2019-07-19 12:21:54,379 - INFO - downloader - image #14\thttps://scontent-atl3-1.cdninstagram.com/vp/04e1e89cca5cf03cfc27ecbaf0c75438/5DA0926B/t51.2885-15/e35/65124882_2416972015239875_2722095391036365597_n.jpg?_nc_ht=scontent-atl3-1.cdninstagram.com\n",
      "2019-07-19 12:21:54,490 - INFO - downloader - image #15\thttp://www.topstarnews.net/news/photo/201804/400503_46247_2849.jpg\n",
      "2019-07-19 12:21:54,764 - INFO - downloader - image #16\thttps://i.ytimg.com/vi/kYeFy0KaRQ8/maxresdefault.jpg\n",
      "2019-07-19 12:21:54,982 - INFO - downloader - image #17\thttps://pbs.twimg.com/media/DbOzFEUVMAA2Q3m.jpg\n",
      "2019-07-19 12:21:55,690 - INFO - downloader - image #18\thttp://pds.joins.com/news/component/stardailynews/201607/12/103986_126946_5350.jpg\n",
      "2019-07-19 12:21:56,115 - INFO - downloader - image #19\thttps://scontent-lhr3-1.cdninstagram.com/vp/7d553b535e46dd0fb30b109184989b28/5D998667/t51.2885-15/e35/60752206_2041392039503688_5607046576752447586_n.jpg?_nc_ht=scontent-lhr3-1.cdninstagram.com&_nc_cat=100&ig_cache_key=MjA1ODYwNDYwMDI0NDgzNjM3MQ%3D%3D.2\n",
      "2019-07-19 12:21:56,279 - INFO - downloader - image #20\thttps://post-phinf.pstatic.net/MjAxODAxMDJfNDQg/MDAxNTE0ODg0Mjk4NzE4.BJR_ZnkagYe-nLyAGNodqYZxcnnmXfpG3rgsKoEZVaMg.E4JwBzI7gX-jqgZ5twQ3llH-Tl6bahOMjilMtkeWz1Eg.PNG/%EB%A3%A8%EB%8B%88%EB%A7%88%EB%9D%BC.png?type=w1200\n",
      "2019-07-19 12:21:56,519 - ERROR - downloader - Response status code 404, file https://scontent-cdg2-1.cdninstagram.com/vp/b95079a07ad369b031e9b9e6228ae70e/5D9692C7/t51.2885-15/e35/61073481_114850236434077_4233369085033242744_n.jpg?_nc_ht=scontent-cdg2-1.cdninstagram.com&se=7&ig_cache_key=MjA2NDEyMTAzODUyMjI0MDM0Nw%3D%3D.2\n",
      "2019-07-19 12:21:56,905 - INFO - downloader - image #21\thttps://scontent-atl3-1.cdninstagram.com/vp/f2c783c6c18b7f1c540e5ced07c04ea6/5DA24D15/t51.2885-15/e35/61536561_167119020987269_3010733398711811000_n.jpg?_nc_ht=scontent-atl3-1.cdninstagram.com\n",
      "2019-07-19 12:21:56,922 - INFO - downloader - image #22\thttps://scontent-lhr3-1.cdninstagram.com/vp/d46ea229c90e1a7ec770f2d16d60bf5b/5DAE0E74/t51.2885-15/e35/65189278_670743410043547_2562257080255494179_n.jpg?_nc_ht=scontent-lhr3-1.cdninstagram.com&se=7&ig_cache_key=MjA3ODQ4NjA2MDk4NTE5NzYxMQ%3D%3D.2\n",
      "2019-07-19 12:21:57,109 - ERROR - downloader - Response status code 404, file https://scontent-cdg2-1.cdninstagram.com/vp/00165c72bbb09132c939269d16410073/5D88E38E/t51.2885-15/e35/61677244_341163843215888_9150764747213580463_n.jpg?_nc_ht=scontent-cdg2-1.cdninstagram.com&se=7&ig_cache_key=MjA2NDUzMjcyNjQ3Mjg3NjM2Mw%3D%3D.2\n",
      "2019-07-19 12:21:57,138 - INFO - downloader - image #23\thttps://img4.yna.co.kr/photo/yna/YH/2017/05/31/PYH2017053129660001300_P4.jpg\n",
      "2019-07-19 12:21:57,180 - ERROR - downloader - Response status code 401, file http://simg.donga.com/ugc/MLBPARK/Board/15/10/99/18/1510991801849.jpg\n",
      "2019-07-19 12:21:57,307 - INFO - downloader - image #24\thttp://file3.instiz.net/data/cached_img/upload/2019/05/18/2/f3e00d1d6b5925c21062a75c8a574ce8.jpg\n",
      "2019-07-19 12:21:57,406 - ERROR - downloader - Response status code 403, file https://scontent-atl3-1.cdninstagram.com/vp/26ce42087d97ea185e9fa8160883ee51/5D2BDB0D/t51.2885-15/e35/38194813_300135847420867_6005093629679370240_n.jpg?_nc_ht=scontent-atl3-1.cdninstagram.com\n",
      "2019-07-19 12:21:57,439 - INFO - downloader - image #25\thttps://pbs.twimg.com/media/C3b5IiRVcAAJpoE.jpg\n",
      "2019-07-19 12:21:57,607 - INFO - downloader - image #26\thttp://image.xportsnews.com/contents/images/upload/article/2017/0818/1503027537134776.jpg\n",
      "2019-07-19 12:21:57,810 - INFO - downloader - image #27\thttps://img9.yna.co.kr/photo/yna/YH/2018/12/19/PYH2018121905210001300_P4.jpg\n",
      "2019-07-19 12:21:58,021 - INFO - downloader - image #28\thttps://i.pinimg.com/originals/09/02/98/0902989e83fc0cc14d86447ab5e4568a.jpg\n",
      "2019-07-19 12:21:58,415 - INFO - downloader - image #29\thttps://p16-tiktokcdn-com.akamaized.net/obj/v0201/0jqf1pa4smtcdrkgd6jb00004152070v0200029e05\n",
      "2019-07-19 12:21:58,672 - INFO - downloader - image #30\thttps://media-manager.starsinsider.com/1920/na_5c89443641adb.jpg\n",
      "2019-07-19 12:21:58,926 - INFO - downloader - image #31\thttp://pds.joins.com/news/component/stardailynews/201607/01/102650_125346_2129.jpg\n",
      "2019-07-19 12:21:59,618 - INFO - downloader - image #32\thttps://scontent-frx5-1.cdninstagram.com/vp/22347cd26e9074c69333fdf69cdf9b7a/5DB0DBED/t51.2885-15/e35/62438872_917206841949358_4309774520766201749_n.jpg?_nc_ht=scontent-frx5-1.cdninstagram.com&se=7&ig_cache_key=MjA3MDg4MzYyNjc0ODU1ODA0NA%3D%3D.2\n",
      "2019-07-19 12:21:59,629 - INFO - downloader - image #33\thttps://scontent-iad3-1.cdninstagram.com/vp/6f34afbf1592870b90297adf1d1d199c/5DC3C073/t51.2885-15/e35/s1080x1080/61587305_1302018833282554_3439521526011132861_n.jpg?_nc_ht=scontent-iad3-1.cdninstagram.com\n",
      "2019-07-19 12:21:59,722 - INFO - downloader - image #34\thttps://scontent-atl3-1.cdninstagram.com/vp/35ca4a7310c99753d908abda4fc18080/5DBD400C/t51.2885-15/e35/s1080x1080/64785279_144241973355057_9168396239021665463_n.jpg?_nc_ht=scontent-atl3-1.cdninstagram.com\n",
      "2019-07-19 12:22:00,305 - INFO - downloader - image #35\thttps://image.ytn.co.kr/general/jpg/2018/0221/201802211304282079_t.jpg\n",
      "2019-07-19 12:22:00,523 - INFO - downloader - image #36\thttps://howoo.net/files/attach/images/185/229/017/2d504b767cfc435964e94e71cbfd9b4c.jpg\n",
      "2019-07-19 12:22:00,553 - INFO - downloader - image #37\thttps://fimg4.pann.com/new/download.jsp?FileID=43612741\n",
      "2019-07-19 12:22:00,883 - INFO - downloader - image #38\thttps://i.ytimg.com/vi/STHq1wcpd4A/maxresdefault.jpg\n",
      "2019-07-19 12:22:01,580 - INFO - downloader - image #39\thttp://image.cine21.com/resize/cine21/article/2016/1212/15_59_57__584e4aed09d88[H800-].JPG\n"
     ]
    },
    {
     "name": "stderr",
     "output_type": "stream",
     "text": [
      "2019-07-19 12:22:02,036 - INFO - downloader - image #40\thttps://scontent-cdg2-1.cdninstagram.com/vp/65d7c86f8a11114a45fe3618fd67d4d2/5DA07FA6/t51.2885-15/e35/59532428_446771492737085_7562438743870734559_n.jpg?_nc_ht=scontent-cdg2-1.cdninstagram.com&se=8&ig_cache_key=MjA0MzYzMzc5MzEzMjQ0MjEwMA%3D%3D.2\n",
      "2019-07-19 12:22:02,689 - INFO - downloader - image #41\thttps://img.momtalk.kr/post/normal/2015/10/2/7fd92243-c692-417c-9b4f-c07759fa9028_0_14467594.jpg\n",
      "2019-07-19 12:22:02,694 - INFO - downloader - image #42\thttps://scontent-lhr3-1.cdninstagram.com/vp/9f894956a8b6260e4e286561af1d3c64/5D90C2EE/t51.2885-15/e35/55776560_642332579570874_56877098841475780_n.jpg?_nc_ht=scontent-lhr3-1.cdninstagram.com&_nc_cat=106&se=8&ig_cache_key=MjAxNjAzMDE4ODE5MTU5ODI1OA%3D%3D.2\n",
      "2019-07-19 12:22:03,027 - INFO - downloader - image #43\thttps://post-phinf.pstatic.net/MjAxODAzMDhfMTc2/MDAxNTIwNDY2Njg2NDE5.ykIfjoqepY60zukqQyB2inOKvk8bqExwgcvGgQefpCog.dHKG0wvb0HGC1x3VT0VQ2-qGg4uEYgE0o9c6PXx1Ggcg.JPEG/P180307_233124-57.jpg?type=w1200\n",
      "2019-07-19 12:22:03,637 - INFO - downloader - image #44\thttp://upload.inven.co.kr/upload/2014/08/13/bbs/i3758278843.png\n",
      "2019-07-19 12:22:03,809 - INFO - downloader - image #45\thttps://fimg2.pann.com/new/download.jsp?FileID=26496575\n",
      "2019-07-19 12:22:03,840 - INFO - downloader - image #46\thttps://www.instagram.com/p/BlUZB1LFihW/media?size=l\n",
      "2019-07-19 12:22:04,031 - INFO - downloader - image #47\thttps://pbs.twimg.com/media/C54MRmgXEAEkPP3.jpg\n",
      "2019-07-19 12:22:04,043 - INFO - downloader - image #48\thttp://file3.instiz.net/data/file3/2018/02/01/5/4/1/541176985cd9e418758b15461626ac9c.jpg\n",
      "2019-07-19 12:22:04,184 - INFO - downloader - image #49\thttps://pbs.twimg.com/media/D5CP0pEU8AEcn3C.jpg\n",
      "2019-07-19 12:22:04,250 - INFO - downloader - image #50\thttp://t1.daumcdn.net/thumb/R1024x0/?fname=http://i2.ruliweb.com/img/18/06/22/16425483732131b7d.jpg\n",
      "2019-07-19 12:22:04,474 - INFO - downloader - image #51\thttp://www.topstarnews.net/news/photo/201808/463468_117208_93.jpg\n",
      "2019-07-19 12:22:05,023 - INFO - downloader - image #52\thttps://dispatch.cdnser.be/wp-content/uploads/2018/05/20180528152938_2.jpg\n",
      "2019-07-19 12:22:05,357 - INFO - downloader - image #53\thttp://dimg.donga.com/egc/CDB/VODA/Article/S01/V2000009000/5a/d9/41/77/5ad9417724320.jpg\n",
      "2019-07-19 12:22:06,215 - INFO - downloader - image #54\thttps://scontent-ort2-1.cdninstagram.com/vp/af465feda146c37e369e9cb9b4422653/5D710F95/t51.2885-15/e35/42101413_2149834105278674_2537626484262969842_n.jpg?_nc_ht=scontent-ort2-1.cdninstagram.com\n",
      "2019-07-19 12:22:06,452 - INFO - downloader - image #55\thttp://img77.dreamwiz.net/20181001/Z/w/h/ZwhGqfB_o.jpg\n",
      "2019-07-19 12:22:06,919 - INFO - downloader - image #56\thttp://img.asiatoday.co.kr/file/2018y/11m/06d/2018110601000463300030321.jpg\n",
      "2019-07-19 12:22:07,060 - INFO - downloader - image #57\thttp://t1.daumcdn.net/tvpot/thumb/sd00d9hUYc9UzMHaM9hMzlq/thumb.png?ts=1541705376\n",
      "2019-07-19 12:22:07,735 - ERROR - downloader - Response status code 403, file https://scontent-sea1-1.cdninstagram.com/vp/38c65cb59ce676cd950745776c960e61/5CDAFEF3/t51.2885-15/e35/46915112_204934057056062_5918277245251902298_n.jpg?_nc_ht=scontent-sea1-1.cdninstagram.com&se=8&ig_cache_key=MTkzMjA2MDY1NjMwNTc2NTAyMg%3D%3D.2\n",
      "2019-07-19 12:22:07,834 - INFO - downloader - image #58\thttp://harulee.com/wp-content/uploads/2013/04/IMG_1970-e1366308084916.jpg\n",
      "2019-07-19 12:22:08,272 - INFO - downloader - image #59\thttp://static.news.zumst.com/images/67/2018/10/14/20fb02334f5742ce9daad824c880cbad.jpg\n",
      "2019-07-19 12:22:08,291 - INFO - downloader - image #60\thttps://ncache.ilbe.com/files/attach/new/20180802/4255758/3840527457/10655773233/dc4e80c917d717b1a9fe05e0518873cd.jpg\n",
      "2019-07-19 12:22:09,006 - INFO - downloader - image #61\thttps://scontent-yyz1-1.cdninstagram.com/vp/1b5211cdcd243217e6ff8ee5ace77409/5D5964B0/t51.2885-15/e35/s1080x1080/59138433_2280982321990295_8078851569589509694_n.jpg?_nc_ht=scontent-yyz1-1.cdninstagram.com\n",
      "2019-07-19 12:22:09,143 - ERROR - downloader - Response status code 403, file https://scontent-yyz1-1.cdninstagram.com/vp/3fd68ec2091570b5814de2144d63943c/5D1D802A/t51.2885-15/e35/51697150_766235450419461_7906348476814290002_n.jpg?_nc_ht=scontent-yyz1-1.cdninstagram.com&se=8\n",
      "2019-07-19 12:22:09,201 - ERROR - downloader - Response status code 403, file https://scontent-yyz1-1.cdninstagram.com/vp/293d950ecd82626fcb63cd2e73bcdd9a/5CCF8297/t51.2885-15/e35/49443950_612954025821193_7696448817504006367_n.jpg?_nc_ht=scontent-yyz1-1.cdninstagram.com&se=8\n",
      "2019-07-19 12:22:09,704 - INFO - downloader - image #62\thttps://previews.123rf.com/images/warrengoldswain/warrengoldswain1202/warrengoldswain120200112/12347677-%EC%82%B4%EC%95%84%EB%82%A8%EC%9D%84-%EC%95%88%EA%B2%BD%EC%9C%BC%EB%A1%9C-%EA%B7%B8%EB%85%80%EC%9D%98-%EC%96%BC%EA%B5%B4%EC%97%90-%ED%8E%9C%EC%9D%84-%EB%93%A4%EA%B3%A0-%EB%AC%B4%ED%91%9C%EC%A0%95-%EC%97%AC%EC%84%B1.jpg\n",
      "2019-07-19 12:22:09,990 - INFO - downloader - image #63\thttps://scontent-sea1-1.cdninstagram.com/vp/2ceb583e3308d949e335a96823ed83a4/5D8F78FA/t51.2885-15/e35/45468999_1897423823668892_1418662026763417456_n.jpg?_nc_ht=scontent-sea1-1.cdninstagram.com&se=7&ig_cache_key=MTkyMjUyNzkxNjYyMzQ2MDE0NQ%3D%3D.2\n",
      "2019-07-19 12:22:10,141 - INFO - downloader - image #64\thttps://scontent-cdg2-1.cdninstagram.com/vp/43a0cc0baf725fc0e71f77f5f45d6287/5D81D4F0/t51.2885-15/e35/61423281_2306182599629377_4639395613672489983_n.jpg?_nc_ht=scontent-cdg2-1.cdninstagram.com&se=7&ig_cache_key=MjA2Mzk2NDczMjIzODYwODE3NA%3D%3D.2\n",
      "2019-07-19 12:22:10,379 - INFO - downloader - image #65\thttps://scontent-atl3-1.cdninstagram.com/vp/05b4cfda26a5cbdc1b5c7338a4c5582a/5D52AF5E/t51.2885-15/e35/55726588_574553239695005_503590577583707556_n.jpg?_nc_ht=scontent-atl3-1.cdninstagram.com\n",
      "2019-07-19 12:22:10,419 - ERROR - downloader - Response status code 403, file https://scontent-sea1-1.cdninstagram.com/vp/f97fd457ed7f85ba1786680479a47b4e/5CE256F6/t51.2885-15/e35/45736081_334841207338097_8241222843945681814_n.jpg?_nc_ht=scontent-sea1-1.cdninstagram.com&se=8&ig_cache_key=MTkzMjA2MDY1NjI5NzU2Mzc0OQ%3D%3D.2\n",
      "2019-07-19 12:22:10,654 - INFO - downloader - image #66\thttps://pbs.twimg.com/media/C2toLd4XcAMiz99.jpg\n",
      "2019-07-19 12:22:10,655 - ERROR - downloader - Response status code 403, file https://scontent-yyz1-1.cdninstagram.com/vp/c6fbadb04ea722cd25f41abb75c7b4f4/5CCEDA7E/t51.2885-15/e35/47692962_367356474092514_7311711008483640872_n.jpg?_nc_ht=scontent-yyz1-1.cdninstagram.com&se=8\n",
      "2019-07-19 12:22:10,759 - INFO - downloader - image #67\thttps://p16-tiktokcdn-com.akamaized.net/obj/v0201/0rfboseabkmqsb341bib00009352070v0200001905\n",
      "2019-07-19 12:22:10,936 - INFO - downloader - image #68\thttp://img.tvchosun.com/sitedata/image/201809/21/2018092190069_thumb.jpg\n",
      "2019-07-19 12:22:10,970 - ERROR - downloader - Response status code 403, file https://scontent-atl3-1.cdninstagram.com/vp/9a65291b4f82ad175d330a0f3fe79638/5D0A0E00/t51.2885-15/e35/54277560_534050000455997_7481275939598186068_n.jpg?_nc_ht=scontent-atl3-1.cdninstagram.com\n",
      "2019-07-19 12:22:11,024 - ERROR - downloader - Response status code 403, file https://scontent-atl3-1.cdninstagram.com/vp/f5025d02a32d0e1d6d9c9ce3439b51d6/5D111389/t51.2885-15/e35/54512256_2258136454440394_7570732362959981102_n.jpg?_nc_ht=scontent-atl3-1.cdninstagram.com\n",
      "2019-07-19 12:22:11,772 - INFO - downloader - image #69\thttp://www.newsfact.kr/news/photo/201712/24072_43609_3620.jpg\n",
      "2019-07-19 12:22:11,964 - INFO - downloader - image #70\thttps://scontent-sea1-1.cdninstagram.com/vp/140a03bab795810450fef5f64011458d/5DA34F4C/t51.2885-15/e35/49933962_2040112779623806_1613532422979569987_n.jpg?_nc_ht=scontent-sea1-1.cdninstagram.com\n",
      "2019-07-19 12:22:12,601 - INFO - downloader - image #71\thttps://img.theqoo.net/img/RrSAn.jpg\n",
      "2019-07-19 12:22:12,615 - INFO - downloader - image #72\thttps://i.pinimg.com/originals/a5/90/1b/a5901bdeabce58a77b733e554d13f53e.jpg\n",
      "2019-07-19 12:22:12,798 - ERROR - downloader - Response status code 403, file https://scontent-sea1-1.cdninstagram.com/vp/0b98c37cb01b8a31612f0502d97c67b3/5CFAE3F4/t51.2885-15/e35/16583267_234445737015997_1623671566883618816_n.jpg?_nc_ht=scontent-sea1-1.cdninstagram.com&ig_cache_key=MTQ0Nzk5MTMyNDI3MDcxMDE5OQ%3D%3D.2\n",
      "2019-07-19 12:22:12,813 - INFO - downloader - image #73\thttp://img.wantwice.com/files/attach/images/10540308/801/083/022/a7d574b65b3a8c7da9575dbb7e51dbd6.jpg\n"
     ]
    },
    {
     "name": "stderr",
     "output_type": "stream",
     "text": [
      "2019-07-19 12:22:13,051 - INFO - downloader - image #74\thttps://scontent-frt3-1.cdninstagram.com/vp/452f2aecb4828d848cf65a012826372c/5DBAE37C/t51.2885-15/e35/61388489_114384716469464_2861665401322832139_n.jpg?_nc_ht=scontent-frt3-1.cdninstagram.com&se=7&ig_cache_key=MjA1NTE3OTg4MzgwOTg4NDQ2Ng%3D%3D.2\n",
      "2019-07-19 12:22:13,229 - INFO - downloader - image #75\thttps://i.ytimg.com/vi/NPLtktu6dI8/maxresdefault.jpg\n",
      "2019-07-19 12:22:13,289 - ERROR - downloader - Response status code 403, file https://scontent-yyz1-1.cdninstagram.com/vp/8709502aa10d717b9eb87588dd51b1ed/5CB796DD/t51.2885-15/e35/47692394_552135515268177_7374543013216068987_n.jpg?_nc_ht=scontent-yyz1-1.cdninstagram.com&se=8\n",
      "2019-07-19 12:22:14,108 - INFO - parser - parsing result page https://www.google.com/search?q=%EB%AC%B4%ED%91%9C%EC%A0%95&ijn=1&start=100&tbs=isz%3Al%2Citp%3Aface%2Csur%3Af%2Ccdr%3A1%2Ccd_min%3A01%2F01%2F2015%2Ccd_max%3A07%2F11%2F2019&tbm=isch&lr=lang_Korean\n",
      "2019-07-19 12:22:14,401 - INFO - downloader - image #76\thttps://scontent-lga3-1.cdninstagram.com/vp/5d0bc0c82756fbca19cc62d949ff7336/5D7FEFBD/t51.2885-15/e35/60008364_2337885469863605_5282147874468024507_n.jpg?_nc_ht=scontent-lga3-1.cdninstagram.com\n",
      "2019-07-19 12:22:14,825 - INFO - downloader - image #77\thttp://img1.daumcdn.net/thumb/R1024x0/?fname=http://i1.daumcdn.net/cfile299/image/211D0C4257E24D6D22BBCF\n",
      "2019-07-19 12:22:14,951 - INFO - downloader - image #78\thttps://image.fmkorea.com/files/attach/new/20170421/486616/63344964/633353132/b40aa642da9b780a1f1055c5de156587.png\n",
      "2019-07-19 12:22:15,162 - INFO - downloader - image #79\thttp://file3.instiz.net/data/cached_img/upload/2019/03/14/23/24c34f9c341194cb0391a9ede9a216c5.jpg\n",
      "2019-07-19 12:22:15,526 - INFO - downloader - image #80\thttps://pbs.twimg.com/media/C50VGWWWYAELQAn.jpg\n",
      "2019-07-19 12:22:15,531 - INFO - downloader - image #81\thttps://scontent-frx5-1.cdninstagram.com/vp/9226bf7e6c11b89952cb1fc63da9ff0d/5D5AF462/t51.2885-15/e35/53551268_120650309032306_6181206138699437795_n.jpg?_nc_ht=scontent-frx5-1.cdninstagram.com&se=7&ig_cache_key=MTk5NDMzNDg4NDk4MTg5ODYwMg%3D%3D.2\n",
      "2019-07-19 12:22:15,871 - ERROR - downloader - Response status code 403, file https://scontent-atl3-1.cdninstagram.com/vp/5388c520875e989a45d89435b70c4b42/5D1B842D/t51.2885-15/e35/54510833_1230698400412354_5460118962299096039_n.jpg?_nc_ht=scontent-atl3-1.cdninstagram.com\n",
      "2019-07-19 12:22:16,712 - INFO - downloader - image #82\thttp://ph.spotvnews.co.kr/news/photo/201705/131025_159401_2537.jpg\n",
      "2019-07-19 12:22:17,017 - INFO - downloader - image #83\thttp://www.topstarnews.net/news/photo/201807/449510_100995_025.jpg\n",
      "2019-07-19 12:22:17,095 - INFO - downloader - image #84\thttps://fimg2.pann.com/new/download.jsp?FileID=31053161\n",
      "2019-07-19 12:22:17,201 - INFO - downloader - image #85\thttps://scontent-atl3-1.cdninstagram.com/vp/b9a4cee21353edd6f172f0624a832dfd/5D795D09/t51.2885-15/e35/45675914_733465257008819_1777853568340566620_n.jpg?_nc_ht=scontent-atl3-1.cdninstagram.com\n",
      "2019-07-19 12:22:17,208 - INFO - downloader - image #86\thttp://www.biztribune.co.kr/news/photo/201902/201828_51936_3233.jpg\n",
      "2019-07-19 12:22:17,392 - ERROR - downloader - Response status code 403, file https://scontent-frx5-1.cdninstagram.com/vp/8232eef9c7bb6ac7c2e92b21878f6c53/5D007CC3/t51.2885-15/e35/36470153_669729883380662_7476302288575791104_n.jpg?_nc_ht=scontent-frx5-1.cdninstagram.com&se=7&ig_cache_key=MTgxODk1NzM3MDEyNzI2OTk1Mw%3D%3D.2\n",
      "2019-07-19 12:22:19,191 - INFO - downloader - image #87\thttps://scontent-frt3-1.cdninstagram.com/vp/5ea8de837c6842095257ca14c4a9268c/5D7DFAE5/t51.2885-15/e35/s1080x1080/58410995_2343652952513458_7929918000172820901_n.jpg?_nc_ht=scontent-frt3-1.cdninstagram.com\n",
      "2019-07-19 12:22:19,305 - INFO - downloader - image #88\thttps://scontent-frt3-1.cdninstagram.com/vp/370ca08a16659490b530a3f37576f0b0/5DB4421E/t51.2885-15/e35/61957143_130884174768546_19734363248168202_n.jpg?_nc_ht=scontent-frt3-1.cdninstagram.com&se=7&ig_cache_key=MjA1ODk4ODY2ODIwNjY0NTA5OQ%3D%3D.2\n",
      "2019-07-19 12:22:20,034 - INFO - downloader - image #89\thttp://i.imgur.com/JfX01nD.jpg\n",
      "2019-07-19 12:22:20,048 - INFO - downloader - image #90\thttps://scontent-bru2-1.cdninstagram.com/vp/9e19644349ce2350636277354c905f80/5D6D300A/t51.2885-15/e35/57437740_2253521788070010_1745178914071255459_n.jpg?_nc_ht=scontent-bru2-1.cdninstagram.com&se=7&ig_cache_key=MjAyODA2NjE3NjU3MTI5NTYyOQ%3D%3D.2\n",
      "2019-07-19 12:22:20,271 - INFO - downloader - image #91\thttp://cgeimage.commutil.kr/phpwas/restmb_allidxmake.php?idx=3&simg=20180106175840822280ed35aa76getnews_00.jpg\n",
      "2019-07-19 12:22:20,435 - INFO - downloader - image #92\thttps://scontent-frx5-1.cdninstagram.com/vp/590b76139db4346ae1ccc06ae3b60535/5D7562D4/t51.2885-15/e35/p1080x1080/59993774_2152544928370303_2322451584701304632_n.jpg?_nc_ht=scontent-frx5-1.cdninstagram.com&ig_cache_key=MjAzOTg0OTU4OTU1NDQ5ODE0NA%3D%3D.2\n",
      "2019-07-19 12:22:20,594 - INFO - downloader - image #93\thttps://postfiles.pstatic.net/MjAxOTA0MTJfMjQ5/MDAxNTU1MDAwMzI1NDUw.-VEI3QzEhalWYJwuDDZ5_emlcDizvSOQyBnK6t3ydDgg.dMcq6XO9SP4I2priuw0vifxoVySya5ZQXdeadCZJLB0g.JPEG.seosun12/1554050638.jpg?type=w773\n",
      "2019-07-19 12:22:21,046 - INFO - downloader - image #94\thttp://www.newsfact.kr/news/photo/201604/10713_20115_3425.JPG\n",
      "2019-07-19 12:22:21,830 - ERROR - downloader - Response status code 403, file https://scontent-cdg2-1.cdninstagram.com/vp/a3f7bb7b21044678b811f9c63496cc2c/5D1C3351/t51.2885-15/e35/52776072_360279981232484_1699388080751804493_n.jpg?_nc_ht=scontent-cdg2-1.cdninstagram.com&se=7&ig_cache_key=MjAwMzE4NDQ4NDAyODQ0MzM1Ng%3D%3D.2\n",
      "2019-07-19 12:22:21,992 - INFO - downloader - image #95\thttps://scontent-frx5-1.cdninstagram.com/vp/1fc573177cfe74262c157d0ab652c416/5D5B9642/t51.2885-15/e35/40370272_2054398574872941_6006079938854125568_n.jpg?_nc_ht=scontent-frx5-1.cdninstagram.com&se=7&ig_cache_key=MTg1NzQwOTY2OTY4NzgyNTk4OQ%3D%3D.2\n",
      "2019-07-19 12:22:22,137 - INFO - downloader - image #96\thttps://img.theqoo.net/img/NhQDk.jpg\n",
      "2019-07-19 12:22:22,262 - INFO - downloader - image #97\thttps://ncache.ilbe.com/files/attach/new/20170621/4255758/7716469217/9842180817/2916d1dc62f90727d043450ac3d7b347.jpg\n",
      "2019-07-19 12:22:22,771 - INFO - downloader - image #98\thttps://p16-tiktokcdn-com.akamaized.net/obj/v0201/0s24gi4a1kmqsr7b5qib0000ac52070v0200001005\n",
      "2019-07-19 12:22:22,774 - ERROR - downloader - Response status code 403, file https://scontent-sea1-1.cdninstagram.com/vp/e63038fd56dc46e87f64b0ece612031e/5D005027/t51.2885-15/e35/22710665_505852673112101_4843708960735232000_n.jpg?_nc_ht=scontent-sea1-1.cdninstagram.com&se=8&ig_cache_key=MTYzNDcxNTMzMzA1NDI0MjI1NA%3D%3D.2\n",
      "2019-07-19 12:22:23,277 - INFO - downloader - image #99\thttps://scontent-mxp1-1.cdninstagram.com/vp/b40db0bb048137cd4e08e6226c90db40/5D58A065/t51.2885-15/e35/55777066_2007678922861271_7182876904667445346_n.jpg?_nc_ht=scontent-mxp1-1.cdninstagram.com&se=7&ig_cache_key=MjAxNzkzODU3ODEzMDM4NzM3OQ%3D%3D.2\n",
      "2019-07-19 12:22:23,538 - INFO - downloader - image #100\thttps://scontent-cdg2-1.cdninstagram.com/vp/84f08ec234b5722626a8d49df150353b/5D88526B/t51.2885-15/e35/61954222_299712877578627_391841103168135487_n.jpg?_nc_ht=scontent-cdg2-1.cdninstagram.com&se=7&ig_cache_key=MjA2Mzk3Nzg2MzAyNzUwMjc2MQ%3D%3D.2\n",
      "2019-07-19 12:22:24,764 - INFO - downloader - image #101\thttps://p16-tiktokcdn-com.akamaized.net/obj/v0201/ggl9o11gne0ksda5ilib00003352070v0200001805\n",
      "2019-07-19 12:22:24,830 - INFO - downloader - image #102\thttp://t1.daumcdn.net/news/201601/28/newsen/20160128080909872vspd.jpg\n",
      "2019-07-19 12:22:25,489 - INFO - downloader - image #103\thttp://img.asiatoday.co.kr/file/2017y/10m/29d/20171029010011791_1509258024_1.jpg\n",
      "2019-07-19 12:22:25,855 - INFO - downloader - image #104\thttps://scontent-lht6-1.cdninstagram.com/vp/a19bc53c6e13f40724c427536f2594fd/5D406757/t51.2885-15/e35/14733749_1213289715398109_2923660993747746816_n.jpg?_nc_ht=scontent-lht6-1.cdninstagram.com&se=7&ig_cache_key=MTM4MTYyMDE4NTE5NDI5ODU2NQ%3D%3D.2\n",
      "2019-07-19 12:22:25,948 - INFO - downloader - image #105\thttp://bmartcenter.com/web/upload/NNEditor/20170703/%EB%AC%B4%ED%91%9C%EC%A0%95%2000_shop1_161852.jpg\n",
      "2019-07-19 12:22:27,300 - INFO - downloader - image #106\thttps://scontent-lga3-1.cdninstagram.com/vp/53453d2061fae63b9bf3eeb76f26ae9c/5D787C9A/t51.2885-15/e35/p1080x1080/61846311_493656744504909_1850754616945752120_n.jpg?_nc_ht=scontent-lga3-1.cdninstagram.com\n"
     ]
    },
    {
     "name": "stderr",
     "output_type": "stream",
     "text": [
      "2019-07-19 12:22:27,303 - INFO - downloader - image #107\thttps://t1.daumcdn.net/cfile/tistory/997992405B53BD301F\n",
      "2019-07-19 12:22:27,599 - INFO - downloader - image #108\thttps://i.pinimg.com/originals/a8/df/75/a8df75bff042e620d7d5dadbda6be2ce.jpg\n",
      "2019-07-19 12:22:27,716 - INFO - downloader - image #109\thttps://scontent-lhr3-1.cdninstagram.com/vp/3773c4b039e3f97d537cc552b289c932/5DC26968/t51.2885-15/e35/s1080x1080/61975388_2290179501028404_6458946616298586746_n.jpg?_nc_ht=scontent-lhr3-1.cdninstagram.com&ig_cache_key=MjA3MTAxMTAyNDQ1NjAwMjI5Ng%3D%3D.2\n",
      "2019-07-19 12:22:28,745 - INFO - downloader - image #110\thttps://i.imgur.com/mgctoZW.jpg\n",
      "2019-07-19 12:22:29,319 - INFO - downloader - image #111\thttp://harulee.com/wp-content/uploads/2013/04/IMG_0454-e1366308142755.jpg\n",
      "2019-07-19 12:22:29,863 - INFO - downloader - image #112\thttps://images.pexels.com/photos/325895/pexels-photo-325895.jpeg?cs=srgb&dl=-325895.jpg&fm=jpg\n",
      "2019-07-19 12:22:30,001 - INFO - downloader - image #113\thttps://scontent-lhr3-1.cdninstagram.com/vp/06732c9b0c1dfe5e8dafa80d556d18c1/5DAD6840/t51.2885-15/e35/64868581_385980205360220_4666665162549166035_n.jpg?_nc_ht=scontent-lhr3-1.cdninstagram.com&se=7&ig_cache_key=MjA3OTc4MjE2NzA1NTI5NDIyMg%3D%3D.2\n",
      "2019-07-19 12:22:30,126 - INFO - downloader - image #114\thttp://www.topstarnews.net/news/photo/201812/541686_210887_019.jpg\n",
      "2019-07-19 12:22:30,302 - INFO - downloader - image #115\thttps://scontent-mxp1-1.cdninstagram.com/vp/d72f7f79d36054bd820247923d2f3b01/5D4E0217/t51.2885-15/e35/54511829_2242836219309191_1151324677026035112_n.jpg?_nc_ht=scontent-mxp1-1.cdninstagram.com&se=8&ig_cache_key=MjAwNzQ3NTY3OTA1OTAzMTkyMw%3D%3D.2\n",
      "2019-07-19 12:22:30,462 - ERROR - downloader - Response status code 404, file https://pbs.twimg.com/media/DzMsaSzV4AABhNC.jpg\n",
      "2019-07-19 12:22:31,202 - INFO - downloader - image #116\thttps://scontent-sea1-1.cdninstagram.com/vp/59c029ff9b1e6b77a1daef19af0d05cb/5DA7D093/t51.2885-15/e35/64771282_1363702817114783_959625973184821410_n.jpg?_nc_ht=scontent-sea1-1.cdninstagram.com\n",
      "2019-07-19 12:22:32,380 - INFO - downloader - image #117\thttps://scontent-amt2-1.cdninstagram.com/vp/f58477e53f02c7cdb39c90207ec80767/5DA641FB/t51.2885-15/e35/12383530_1576554369335447_608605930_n.jpg?_nc_ht=scontent-amt2-1.cdninstagram.com\n",
      "2019-07-19 12:22:32,564 - INFO - downloader - image #118\thttps://scontent-amt2-1.cdninstagram.com/vp/f38345fa7f5d9d8569cb0eb7b896580a/5DA10348/t51.2885-15/e35/51047066_302857100372379_2733801113272297880_n.jpg?_nc_ht=scontent-amt2-1.cdninstagram.com&se=7&ig_cache_key=MTk3MDM5ODM5NDMyMjk0MjI2Nw%3D%3D.2\n",
      "2019-07-19 12:22:33,666 - INFO - downloader - image #119\thttps://t1.daumcdn.net/thumb/R1280x0/?fname=http://t1.daumcdn.net/brunch/service/user/Tm7/image/brvolXncYe8R3JuT9xnSZ1AjtZ8.jpg\n",
      "2019-07-19 12:22:33,852 - INFO - downloader - image #120\thttps://scontent-lhr3-1.cdninstagram.com/vp/761752c93288717582c7b0b61872c65d/5D7A3473/t51.2885-15/e35/60209806_1559537797514725_5844012060952160867_n.jpg?_nc_ht=scontent-lhr3-1.cdninstagram.com&_nc_cat=101&se=8&ig_cache_key=MjA1NDE4MjkyOTYwMjI5NTE2NQ%3D%3D.2\n",
      "2019-07-19 12:22:33,863 - INFO - downloader - image #121\thttps://scontent-cdg2-1.cdninstagram.com/vp/6bd65c160c960e53d6cafe674657bc49/5D7A7F47/t51.2885-15/e35/s1080x1080/60344159_129398464919134_9201665680988877113_n.jpg?_nc_ht=scontent-cdg2-1.cdninstagram.com&ig_cache_key=MjA1MDY2NTE5NDIyNDQwOTIzNQ%3D%3D.2\n",
      "2019-07-19 12:22:34,173 - ERROR - downloader - Response status code 403, file https://scontent-mxp1-1.cdninstagram.com/vp/60ced6b38c001b18c0f9898f823b7482/5BE473F9/t51.2885-15/e35/17493666_338731203195572_8232629236079263744_n.jpg\n",
      "2019-07-19 12:22:34,200 - INFO - downloader - image #122\thttps://scontent-b-mad.cdninstagram.com/vp/77f259db76dc86227c840ad2b6fc5f22/5DC3979B/t51.2885-15/e35/64283186_148399802965229_9181089739649117801_n.jpg?_nc_ht=scontent-lga3-1.cdninstagram.com&se=7&ig_cache_key=MjA2NjgzNzE2MjE0MzE1NjY3Mg%3D%3D.2\n",
      "2019-07-19 12:22:34,603 - INFO - downloader - image #123\thttps://i.ytimg.com/vi/ch-a4immeg8/maxresdefault.jpg\n",
      "2019-07-19 12:22:34,665 - INFO - downloader - image #124\thttp://cgeimage.commutil.kr/phpwas/restmb_allidxmake.php?idx=3&simg=20180117215450460480ed35aa76getnews_00.jpg\n",
      "2019-07-19 12:22:35,348 - INFO - downloader - image #125\thttp://file3.instiz.net/data/file3/2018/02/01/c/f/5/cf54fdf0bec3dc91b6e3dc92c542b793.jpg\n",
      "2019-07-19 12:22:35,583 - ERROR - downloader - Response status code 403, file https://scontent-yyz1-1.cdninstagram.com/vp/e28e6fae291d71045ab18b8c1ef9cfeb/5D307BFF/t51.2885-15/e35/46618133_351049689026000_7043837053051716622_n.jpg?_nc_ht=scontent-yyz1-1.cdninstagram.com&se=8\n",
      "2019-07-19 12:22:36,056 - INFO - downloader - image #126\thttps://scontent-atl3-1.cdninstagram.com/vp/ac095d2dacb7f92270c50ed9364776f6/5D3532D0/t51.2885-15/e35/49802195_332243424057682_4285694502837811101_n.jpg?_nc_ht=scontent-atl3-1.cdninstagram.com\n",
      "2019-07-19 12:22:36,251 - INFO - downloader - image #127\thttp://image.news1.kr/system/photos/2018/10/16/3345246/high.jpg\n",
      "2019-07-19 12:22:36,576 - INFO - downloader - image #128\thttp://bmartcenter.com/web/upload/NNEditor/20170703/%EB%AC%B4%ED%91%9C%EC%A0%95%2001_shop1_161852.jpg\n",
      "2019-07-19 12:22:37,119 - INFO - downloader - image #129\thttps://scontent-cdt1-1.cdninstagram.com/vp/c2ac6cda39139a027604423496f1fa92/5D81BA07/t51.2885-15/e35/p1080x1080/61233995_471716863591223_1579144632757883525_n.jpg?_nc_ht=scontent-cdt1-1.cdninstagram.com\n",
      "2019-07-19 12:22:37,670 - ERROR - downloader - Response status code 403, file https://scontent-ort2-2.cdninstagram.com/vp/3d21d84c3a20e6c8b5755d6a9ba2fa7b/5C4006AC/t51.2885-15/e35/30841489_216787582239544_691526641309974528_n.jpg\n",
      "2019-07-19 12:22:37,915 - INFO - downloader - image #130\thttps://scontent-atl3-1.cdninstagram.com/vp/73d8057c5228e60f9206378dd3581bf6/5D5F22A6/t51.2885-15/e35/37777797_423247544854800_7962528616963637248_n.jpg?_nc_ht=scontent-atl3-1.cdninstagram.com\n",
      "2019-07-19 12:22:38,214 - INFO - downloader - image #131\thttp://www.topstarnews.net/news/photo/first/201705/img_268245_1.jpg\n",
      "2019-07-19 12:22:38,322 - INFO - downloader - image #132\thttp://alchepist.com/WebContent/product/1677_20151205175422/1677_20151205175422.jpg\n",
      "2019-07-19 12:22:38,717 - INFO - downloader - image #133\thttps://scontent-frt3-2.cdninstagram.com/vp/641b861bb3493b2442b128433294acfc/5D9ED709/t51.2885-15/e35/58410349_2449544961774878_645641937753759311_n.jpg?_nc_ht=scontent-frt3-2.cdninstagram.com&se=7&ig_cache_key=MjA0MDcwMTMzMzc3MjE2NDM5NA%3D%3D.2\n",
      "2019-07-19 12:22:38,910 - INFO - downloader - image #134\thttps://scontent-lhr3-1.cdninstagram.com/vp/09f74c6141dc278797c50360c87eb476/5DAA4287/t51.2885-15/e35/s1080x1080/61553762_957200834479202_7294467834166420756_n.jpg?_nc_ht=scontent-lhr3-1.cdninstagram.com&ig_cache_key=MjA3MTAxMTAyNDQzOTI5MzY2OQ%3D%3D.2\n",
      "2019-07-19 12:22:38,945 - INFO - downloader - image #135\thttps://fimg4.pann.com/new/download.jsp?FileID=43612742\n",
      "2019-07-19 12:22:39,766 - ERROR - downloader - Response status code 403, file https://scontent-sea1-1.cdninstagram.com/vp/fa8432775b6d52e0c7350856ab6024e1/5C785340/t51.2885-15/e35/17437686_1434250416646175_7396575244451840000_n.jpg?se=8&ig_cache_key=MTQ3OTAwNTk0Nzk2Mjg3NTIzMg%3D%3D.2\n",
      "2019-07-19 12:22:40,111 - INFO - downloader - image #136\thttps://scontent-frx5-1.cdninstagram.com/vp/9f57c1a1976cf7c1154238045eb3e49a/5DB4114F/t51.2885-15/e35/65644707_490978165041337_5510349129339627750_n.jpg?_nc_ht=scontent-frx5-1.cdninstagram.com&se=4&ig_cache_key=MjA3NzUyNjMxNDQ3MDI2NTk4Mg%3D%3D.2&_nc_ig_catcb=1\n",
      "2019-07-19 12:22:40,479 - INFO - downloader - image #137\thttp://t1.daumcdn.net/tvpot/thumb/sdd1dBUbFFqDbmUsULgmCCB/thumb.png?ts=1541802936\n",
      "2019-07-19 12:22:40,541 - INFO - downloader - image #138\thttps://scontent-ort2-1.cdninstagram.com/vp/58cab23bd7932099b7527f8c364b267f/5D4B4C44/t51.2885-15/e35/28436395_229517830949287_8386945482584227840_n.jpg?_nc_ht=scontent-ort2-1.cdninstagram.com&se=7&ig_cache_key=MTczMzQ3MTI1MzA1MjI1NzMzMg%3D%3D.2\n",
      "2019-07-19 12:22:40,871 - INFO - downloader - image #139\thttps://i.ytimg.com/vi/DNTetL1Ucyk/maxresdefault.jpg\n",
      "2019-07-19 12:22:41,232 - INFO - downloader - image #140\thttps://scontent-yyz1-1.cdninstagram.com/vp/9474c0fe3768081d8b1430e4cf4d26f9/5D6B2127/t51.2885-15/e35/p1080x1080/58662473_465097067365969_6713345629296596807_n.jpg?_nc_ht=scontent-yyz1-1.cdninstagram.com\n"
     ]
    },
    {
     "name": "stderr",
     "output_type": "stream",
     "text": [
      "2019-07-19 12:22:41,464 - INFO - downloader - image #141\thttp://www.rookie.co.kr/news/photo/201706/10164_6062_5615.jpg\n",
      "2019-07-19 12:22:41,726 - INFO - downloader - image #142\thttp://mblogthumb4.phinf.naver.net/MjAxNzA4MDJfNjQg/MDAxNTAxNjQ3NjI1MTgw.-KSMrOr7JOCNxw16biLiuyqc0bSQaUtSKs1oYN_5D88g.ToItbjQqTxPIRXz7AanBgFpA84Zd9_LdSkA51DWKEwsg.JPEG.qkrwnsehf/%EB%AF%B8%EB%82%98.jpg?type=w2\n",
      "2019-07-19 12:22:41,938 - INFO - downloader - image #143\thttps://scontent-lga3-1.cdninstagram.com/vp/620729f0120f1a4196a9cff8f6b2d43f/5D91E53E/t51.2885-15/e35/59865424_368071290488761_1753775223579017132_n.jpg?_nc_ht=scontent-lga3-1.cdninstagram.com\n",
      "2019-07-19 12:22:42,039 - INFO - downloader - image #144\thttps://ncache.ilbe.com/files/attach/new/20181014/377678/4980566787/10787582392/c9b07f32adc0b6a4875921b9a167b268.jpg\n",
      "2019-07-19 12:22:42,104 - ERROR - downloader - Response status code 403, file https://scontent-frt3-2.cdninstagram.com/vp/35b19f63a7b4c4eb0da62766c48eb454/5C064415/t51.2885-15/e35/36650031_621591401547932_4814102136256200704_n.jpg?se=7&ig_cache_key=MTgyNDQxNjQ2MzM0NDYwODI2Nw%3D%3D.2\n",
      "2019-07-19 12:22:42,479 - INFO - downloader - image #145\thttps://img1.yna.co.kr/photo/yna/YH/2019/03/14/PYH2019031411660001300_P4.jpg\n",
      "2019-07-19 12:22:43,133 - INFO - downloader - image #146\thttp://opsimg.sbs.co.kr/Img/S01/201805/01/426742002/9982b3df-3fe7-4019-8d40-79c84c794a80.jpg\n",
      "2019-07-19 12:22:44,360 - INFO - downloader - image #147\thttps://scontent-mxp1-1.cdninstagram.com/vp/86724aa411e10a148286eb2da883a778/5D314E66/t51.2885-15/e35/53934238_256637911957957_4659957201943250181_n.jpg?_nc_ht=scontent-mxp1-1.cdninstagram.com&se=8&ig_cache_key=MjAwOTQ2OTUzNDM0NDc3MTU3Ng%3D%3D.2\n",
      "2019-07-19 12:22:44,440 - ERROR - downloader - Response status code 403, file https://scontent-mxp1-1.cdninstagram.com/vp/9738fe8b685032c18cc25c80f795c413/5D2B69CD/t51.2885-15/e35/55928065_564044560756346_2582292299794671628_n.jpg?_nc_ht=scontent-mxp1-1.cdninstagram.com&ig_cache_key=MjAwNzQ3NTY3OTAzNDAzMzc3OA%3D%3D.2\n",
      "2019-07-19 12:22:44,518 - INFO - downloader - image #148\thttps://scontent-cdg2-1.cdninstagram.com/vp/59c6078182791cc7c7e9e939103ab54c/5D7E0DC6/t51.2885-15/e35/64593044_176094743393170_1575564173821194892_n.jpg?_nc_ht=scontent-cdg2-1.cdninstagram.com&se=7&ig_cache_key=MjA2Mzk1NzYzNTYzNjg0NjE1Mw%3D%3D.2\n",
      "2019-07-19 12:22:44,835 - INFO - downloader - image #149\thttps://pbs.twimg.com/media/Dr_dYcaV4AA8Iu5.jpg\n",
      "2019-07-19 12:22:44,889 - INFO - downloader - image #150\thttps://img.theqoo.net/img/guFcE.jpg\n",
      "2019-07-19 12:22:45,128 - INFO - downloader - image #151\thttp://file3.instiz.net/data/cached_img/upload/2018/05/27/18/356038cb3e97e0766d45fa98c194c59a.jpg\n",
      "2019-07-19 12:22:45,761 - INFO - downloader - image #152\thttps://scontent-cdg2-1.cdninstagram.com/vp/83cb4d93ce13eeab647d75279b837f79/5DA5D2FC/t51.2885-15/e35/64287027_2118255581805816_7403361287026582554_n.jpg?_nc_ht=scontent-cdg2-1.cdninstagram.com&se=7&ig_cache_key=MjA3NDcxODk0NzAxNTg3NDY4Mw%3D%3D.2\n",
      "2019-07-19 12:22:45,771 - INFO - downloader - image #153\thttps://4.bp.blogspot.com/-hv0ZLOsFLco/We9KNpDYQcI/AAAAAAAAB78/VR8JouW-_SIccKIO8oECd6UhhVd3LH0VQCLcBGAs/s1600/DM6CunIV4AEMAPC.jpg\n",
      "2019-07-19 12:22:45,941 - INFO - downloader - image #154\thttps://i.pinimg.com/originals/1f/0b/6e/1f0b6ef265eb7a68171174930964373c.jpg\n",
      "2019-07-19 12:22:46,737 - ERROR - downloader - Response status code 403, file https://scontent-atl3-1.cdninstagram.com/vp/d4daefa2173668ea45146c7124b96491/5D0D0141/t51.2885-15/e35/53702522_303160093705977_4614821349145571739_n.jpg?_nc_ht=scontent-atl3-1.cdninstagram.com\n",
      "2019-07-19 12:22:46,752 - INFO - downloader - image #155\thttps://scontent-lax3-1.cdninstagram.com/vp/450b8d95bf319580cded03e7d600e782/5D9DE274/t51.2885-15/e35/26070331_170773246865563_2366043925124218880_n.jpg?_nc_ht=scontent-lax3-1.cdninstagram.com\n",
      "2019-07-19 12:22:46,913 - INFO - downloader - image #156\thttps://www.petitbanobagi.com/images/petit/mouth/mouth_bg_3.jpg\n",
      "2019-07-19 12:22:47,067 - INFO - downloader - image #157\thttp://t1.daumcdn.net/thumb/R1024x0/?fname=http://i1.ruliweb.com/img/18/06/22/16425483cfb131b7d.jpg\n",
      "2019-07-19 12:22:47,408 - INFO - downloader - image #158\thttps://scontent-lhr3-1.cdninstagram.com/vp/b74de42e9e0ec4cb6b4600136421dca5/5D97098C/t51.2885-15/e35/56306910_309695886379248_2595693584134987252_n.jpg?_nc_ht=scontent-lhr3-1.cdninstagram.com&_nc_cat=100&se=8&ig_cache_key=MjAxNzkyMzc1NDE1MjYzMDY1OA%3D%3D.2\n",
      "2019-07-19 12:22:47,610 - ERROR - downloader - Response status code 403, file https://scontent-sea1-1.cdninstagram.com/vp/34cf7b96ed489307a515cc0969bef3ae/5CE093AF/t51.2885-15/e35/17438326_1423379811068796_630409011874758656_n.jpg?_nc_ht=scontent-sea1-1.cdninstagram.com&se=8&ig_cache_key=MTQ3NTA1Mzg1NjUyMTMzOTY3Nw%3D%3D.2\n",
      "2019-07-19 12:22:47,612 - INFO - downloader - image #159\thttp://img.wantwice.com/files/attach/images/10540308/801/083/022/b6e1cc5365ea22d0d8ea892cf49d63cd.jpg\n",
      "2019-07-19 12:22:47,823 - INFO - downloader - image #160\thttps://scontent-ort2-1.cdninstagram.com/vp/5acba6203dbd6e4ba08e58121c88c86e/5D71E294/t51.2885-15/e35/s1080x1080/59337503_2983577221684502_5949448979386498736_n.jpg?_nc_ht=scontent-ort2-1.cdninstagram.com\n",
      "2019-07-19 12:22:47,940 - INFO - parser - parsing result page https://www.google.com/search?q=%EB%AC%B4%ED%91%9C%EC%A0%95&ijn=2&start=200&tbs=isz%3Al%2Citp%3Aface%2Csur%3Af%2Ccdr%3A1%2Ccd_min%3A01%2F01%2F2015%2Ccd_max%3A07%2F11%2F2019&tbm=isch&lr=lang_Korean\n",
      "2019-07-19 12:22:48,334 - INFO - downloader - image #161\thttps://scontent-atl3-1.cdninstagram.com/vp/e1dcbf8b59443038b3447134c4865c09/5D961EB2/t51.2885-15/e35/50107749_1501664889967447_7949365122008640626_n.jpg?_nc_ht=scontent-atl3-1.cdninstagram.com\n",
      "2019-07-19 12:22:48,540 - ERROR - downloader - Response status code 403, file https://scontent-sin2-2.cdninstagram.com/vp/115b9592d21e3a12e5db71d148989596/5D2B374F/t51.2885-15/e35/54277670_470861043449892_8452755240962307870_n.jpg?_nc_ht=scontent-sin2-2.cdninstagram.com&se=7&ig_cache_key=MjAxMTY3NzE1NDU5NjczOTc4Mw%3D%3D.2\n",
      "2019-07-19 12:22:48,882 - INFO - downloader - image #162\thttps://img.dmitory.com/img/201907/2a1/XpO/2a1XpOgYaWEySI0SKY2qmQ.jpg\n",
      "2019-07-19 12:22:49,020 - INFO - downloader - image #163\thttps://dispatch.cdnser.be/wp-content/uploads/2017/05/20170517181503_135828869.jpg\n",
      "2019-07-19 12:22:49,023 - INFO - downloader - image #164\thttps://cdnb.pikicast.com/550/2018/06/27/550_28675312_1530091630.webp\n",
      "2019-07-19 12:22:49,051 - INFO - downloader - image #165\thttps://p16-tiktokcdn-com.akamaized.net/obj/v0201/0k1bstt6mnh754n2ipib00009152070v0200001e05\n",
      "2019-07-19 12:22:49,442 - INFO - downloader - image #166\thttps://i.ytimg.com/vi/ROS9k45ylYk/maxresdefault.jpg\n",
      "2019-07-19 12:22:49,733 - ERROR - downloader - Response status code 403, file https://scontent-sjc3-1.cdninstagram.com/vp/6596a731601717b8afe3d1217216f3dc/5CDBC9CE/t51.2885-15/e35/49998213_340800646765939_2321034975357627640_n.jpg?_nc_ht=scontent-sjc3-1.cdninstagram.com&se=7&ig_cache_key=MTk2MzExNzgwNzQ2MzI4NzAyMg%3D%3D.2\n",
      "2019-07-19 12:22:50,124 - INFO - downloader - image #167\thttps://scontent-sin6-1.cdninstagram.com/vp/c5dca76396f66bb22feba2e82adf2ed3/5D8548FB/t51.2885-15/e35/61724768_459429917964188_4125271773408756040_n.jpg?_nc_ht=scontent-sin6-1.cdninstagram.com\n",
      "2019-07-19 12:22:50,368 - INFO - downloader - image #168\thttps://scontent-sin2-2.cdninstagram.com/vp/103f549d3d64eac7c4a2a5f8c087789e/5D67F2AC/t51.2885-15/e35/58423691_351347552252405_5617360378454066380_n.jpg?_nc_ht=scontent-sin2-2.cdninstagram.com&se=7&ig_cache_key=MjAzMzE1NzQwMjQzMzg2ODQ1OA%3D%3D.2\n",
      "2019-07-19 12:22:50,739 - ERROR - downloader - Response status code 404, file https://pbs.twimg.com/profile_images/1125073719771066369/GCkiWilM.jpg\n",
      "2019-07-19 12:22:51,462 - ERROR - downloader - Response status code 403, file https://scontent-sea1-1.cdninstagram.com/vp/1538c54d4783929a2295c4b3c3afe94f/5C82F27D/t51.2885-15/e35/12357555_105954006445432_310393794_n.jpg?se=7&ig_cache_key=MTE0MTY1MTM2OTQ5MzY0MzUzNg%3D%3D.2\n",
      "2019-07-19 12:22:51,490 - INFO - downloader - image #169\thttps://scontent-cdt1-1.cdninstagram.com/vp/99587a288f9c1809b506f5494d1d650a/5D82AF68/t51.2885-15/e35/p1080x1080/61412359_468577000552415_2686451638367009646_n.jpg?_nc_ht=scontent-cdt1-1.cdninstagram.com\n",
      "2019-07-19 12:22:51,512 - INFO - downloader - image #170\thttps://instagram.fhel5-1.fna.fbcdn.net/vp/b0f39e73aaef958670fae88e55f19953/5DAD0147/t51.2885-15/e35/28427108_401821800241624_6684020864167444480_n.jpg?_nc_ht=instagram.fhel5-1.fna.fbcdn.net&se=7&ig_cache_key=MTcyMzUxNDY3OTg0ODE0NDIzOQ%3D%3D.2\n"
     ]
    },
    {
     "name": "stderr",
     "output_type": "stream",
     "text": [
      "2019-07-19 12:22:51,642 - INFO - downloader - image #171\thttp://www.topstarnews.net/news/photo/201803/377972_22454_3715.png\n",
      "2019-07-19 12:22:52,500 - INFO - downloader - image #172\thttps://scontent-frt3-2.cdninstagram.com/vp/0e04d7604a41f7918c24609ee8ca840d/5D8EA1FF/t51.2885-15/e35/61620989_123656898846336_6072974458997270120_n.jpg?_nc_ht=scontent-frt3-2.cdninstagram.com&se=8&ig_cache_key=MjA2MDE4MDgyMTc0NDMwOTczMA%3D%3D.2\n",
      "2019-07-19 12:22:53,201 - INFO - downloader - image #173\thttp://t1.daumcdn.net/tvpot/thumb/sde4310MeSa1D5PZP1D0Yyi/thumb.png?ts=1546148652\n",
      "2019-07-19 12:22:53,211 - INFO - downloader - image #174\thttps://scontent-lga3-1.cdninstagram.com/vp/3f952b284cd26b29fc61b8eb12a964cc/5D8F9726/t51.2885-15/e35/61039005_597883864043267_174358419077068850_n.jpg?_nc_ht=scontent-lga3-1.cdninstagram.com\n",
      "2019-07-19 12:22:53,727 - INFO - downloader - image #175\thttps://scontent-iad3-1.cdninstagram.com/vp/105ac27d0386d6a93bf0d256f27b9828/5D3B8413/t51.2885-15/e35/54513211_407872943331897_7382857331974701168_n.jpg?_nc_ht=scontent-iad3-1.cdninstagram.com&se=8\n",
      "2019-07-19 12:22:53,817 - INFO - downloader - image #176\thttp://bmartcenter.com/web/upload/NNEditor/20170703/%EB%AC%B4%ED%91%9C%EC%A0%95%2002_shop1_161853.jpg\n",
      "2019-07-19 12:22:53,932 - ERROR - downloader - Response status code 403, file https://scontent-sea1-1.cdninstagram.com/vp/dce44d3bfeba3ca8bea5fb402bb7583e/5CD3930D/t51.2885-15/e35/41705523_753674915024638_5149669414283515060_n.jpg?_nc_ht=scontent-sea1-1.cdninstagram.com&se=7&ig_cache_key=MTg3OTA4NjAyMTk5NzQ3NjQyMQ%3D%3D.2\n",
      "2019-07-19 12:22:54,054 - INFO - downloader - image #177\thttps://fimg2.pann.com/new/download.jsp?FileID=31053167\n",
      "2019-07-19 12:22:54,190 - INFO - downloader - image #178\thttps://scontent-frt3-2.cdninstagram.com/vp/a09cf3fd8742fdbe4c0ccb3bbbaa2763/5D549820/t51.2885-15/e35/56165238_271581050419624_3064476570325453662_n.jpg?_nc_ht=scontent-frt3-2.cdninstagram.com\n",
      "2019-07-19 12:22:55,139 - ERROR - downloader - Response status code 403, file https://scontent-bru2-1.cdninstagram.com/vp/3a5d729aaf5584d8726d989bbc48e603/5D2C4BD2/t51.2885-15/e35/54225140_157810545229404_4270955178865164124_n.jpg?_nc_ht=scontent-bru2-1.cdninstagram.com&se=7&ig_cache_key=MjAxNDY3MDM2MjE5NDYzNzAyNw%3D%3D.2\n",
      "2019-07-19 12:22:55,145 - INFO - downloader - image #179\thttps://66.media.tumblr.com/ebd5883385951462e420db011f069fad/tumblr_pml11ez9qI1tyl84co1_1280.jpg\n",
      "2019-07-19 12:22:55,489 - INFO - downloader - image #180\thttp://www.visualdive.co.kr/wp-content/uploads/2015/03/vd-150309-02.jpg\n",
      "2019-07-19 12:22:55,716 - INFO - downloader - image #181\thttp://img1.daumcdn.net/thumb/R1024x0/?fname=http://i1.daumcdn.net/cfile279/image/270B5E4057BBF94109F3D4\n",
      "2019-07-19 12:22:55,720 - INFO - downloader - image #182\thttps://scontent-ort2-1.cdninstagram.com/vp/9342347e963d175f59c204ee9fb58611/5D49E321/t51.2885-15/e35/19228314_1394648647295086_8183404448396083200_n.jpg?_nc_ht=scontent-ort2-1.cdninstagram.com&se=8&ig_cache_key=MTU0MTEwODIzNDY5NjczOTc5OQ%3D%3D.2\n",
      "2019-07-19 12:22:55,854 - INFO - downloader - image #183\thttp://www.topstarnews.net/news/photo/201901/562185_234620_3435.jpg\n",
      "2019-07-19 12:22:56,167 - ERROR - downloader - Response status code 403, file https://scontent-frt3-2.cdninstagram.com/vp/53ba41c967b83b08c363b3e6a681ab4d/5D18AB71/t51.2885-15/e35/51757670_544012312777242_8304263232130299606_n.jpg?_nc_ht=scontent-frt3-2.cdninstagram.com&se=7&ig_cache_key=MTk3ODI4MTI2NjU1MDAyMjM4NA%3D%3D.2\n",
      "2019-07-19 12:22:57,433 - INFO - downloader - image #184\thttps://3.bp.blogspot.com/-n_P8ZojFW2A/Ww-QMJkSvkI/AAAAAAAAAJE/s_CFCjrKWugiQcDF8rxPYQdMoU2b5gVoQCLcBGAs/s1600/14969742013136.jpg\n",
      "2019-07-19 12:22:57,613 - INFO - downloader - image #185\thttps://img.theqoo.net/img/gFaqP.jpg\n",
      "2019-07-19 12:22:57,952 - INFO - downloader - image #186\thttp://dimg.donga.com/egc/CDB/VODA/Article/CS1/C201500062/57/dd/5b/af/57dd5baf0abb0.jpg\n",
      "2019-07-19 12:22:58,149 - INFO - downloader - image #187\thttps://scontent-yyz1-1.cdninstagram.com/vp/a5fd7309fbc72545ccc80e6b33c401c2/5D708031/t51.2885-15/e35/58468714_1192308907604582_3037690966026223438_n.jpg?_nc_ht=scontent-yyz1-1.cdninstagram.com\n",
      "2019-07-19 12:22:58,398 - INFO - downloader - image #188\thttps://scontent-b-gru.cdninstagram.com/vp/54fa4d06fee5245c9aa0619486c99984/5D98A05B/t51.2885-15/e35/64398481_412959922636320_463163362068163272_n.jpg?_nc_ht=scontent-lga3-1.cdninstagram.com&se=7&ig_cache_key=MjA2NjgzNzg1Mjk4Njk1NjkzMQ%3D%3D.2\n",
      "2019-07-19 12:22:58,541 - ERROR - downloader - Response status code 403, file https://scontent-sjc3-1.cdninstagram.com/vp/a46da8b77d8bdc439fe3388bf6d84c84/5CC0259D/t51.2885-15/e35/49303083_1429138450555940_6926848951849969198_n.jpg?_nc_ht=scontent-sjc3-1.cdninstagram.com&se=7&ig_cache_key=MTk0NDMzMjU0MDk4NDAwOTg2OQ%3D%3D.2\n",
      "2019-07-19 12:22:58,945 - INFO - downloader - image #189\thttp://static.storychat.io/1098821_13733620/87b9f0adn7lh1.jpg\n",
      "2019-07-19 12:22:58,947 - ERROR - downloader - Response status code 404, file https://scontent-frx5-1.cdninstagram.com/vp/71a98c21ad574eda0c07086d7a9e5f62/5D9BEF52/t51.2885-15/e35/60816154_347747509202529_8833522221790636171_n.jpg?_nc_ht=scontent-frx5-1.cdninstagram.com&se=4&ig_cache_key=MjA1ODA4NTE4NzgyOTgyMzQ1MA%3D%3D.2\n",
      "2019-07-19 12:22:59,307 - INFO - downloader - image #190\thttp://blogthumb2.naver.net/MjAxNzAyMjZfMjQ4/MDAxNDg4MDM2ODI5NTI3.92y4aAPBEte-H_zl6U8X9v5pcoIQYy9B7AXmmJ75rbIg.xJTN3urexJ79KMO6Lo7G9JcHb8l1mfJKRXHfJZIq0VQg.JPEG.gangaji1104/movie_image.jpg?type=w2\n",
      "2019-07-19 12:22:59,393 - ERROR - downloader - Response status code 403, file https://scontent-atl3-1.cdninstagram.com/vp/7254d13ab37421ab6886fa9a48e467b3/5D0D64D0/t51.2885-15/e35/53036407_2019918181646578_2024455104301283052_n.jpg?_nc_ht=scontent-atl3-1.cdninstagram.com\n",
      "2019-07-19 12:22:59,921 - INFO - downloader - image #191\thttps://scontent-amt2-1.cdninstagram.com/vp/2b5ac1f200bf25d79aa5bbe87a42685e/5D8A5B2E/t51.2885-15/e35/60169860_2241135362642900_4313451841452360963_n.jpg?_nc_ht=scontent-amt2-1.cdninstagram.com&se=7&ig_cache_key=MjA1MDAxNDQ5MzQ1MTU5NjcxMw%3D%3D.2\n",
      "2019-07-19 12:23:00,134 - INFO - downloader - image #192\thttps://t1.daumcdn.net/cfile/tistory/22477C4C5825B45D02\n",
      "2019-07-19 12:23:00,338 - INFO - downloader - image #193\thttp://www.aftertherain.kr/upload/other/20190215153621_.jpg\n",
      "2019-07-19 12:23:01,008 - INFO - downloader - image #194\thttps://scontent-amt2-1.cdninstagram.com/vp/628f39677959a486f49ffb6653c9c3c3/5DB83E30/t51.2885-15/e35/12747723_248898522113610_1153685314_n.jpg?_nc_ht=scontent-amt2-1.cdninstagram.com\n",
      "2019-07-19 12:23:01,142 - INFO - downloader - image #195\thttps://scontent-lhr3-1.cdninstagram.com/vp/2dd27d1fedd50e56954b667548575152/5DB1DCC6/t51.2885-15/e35/55942412_356895418282814_1002847127811186200_n.jpg?_nc_ht=scontent-lhr3-1.cdninstagram.com&se=7&ig_cache_key=MjAxOTU2NjIxOTM2MzE5NDYzNQ%3D%3D.2\n",
      "2019-07-19 12:23:01,249 - INFO - downloader - image #196\thttp://newsimg.hankookilbo.com/2018/02/27/201802272181153567_1.jpg\n",
      "2019-07-19 12:23:01,405 - INFO - downloader - image #197\thttp://img.vogue.co.kr/vogue/2017/10/style_59ed467fd854b-819x1024.jpg\n",
      "2019-07-19 12:23:01,864 - INFO - downloader - image #198\thttps://scontent-lhr3-1.cdninstagram.com/vp/0572e297b552206f97e6791692ddde87/5DA5546E/t51.2885-15/e35/64999835_160016725044196_2691635059456446359_n.jpg?_nc_ht=scontent-lhr3-1.cdninstagram.com&se=7&ig_cache_key=MjA3NjExMjI0OTU3MTcwODkzOA%3D%3D.2\n",
      "2019-07-19 12:23:01,872 - INFO - downloader - image #199\thttps://scontent-lga3-1.cdninstagram.com/vp/b70990e29e2b8c56dded6e763515ea4d/5D80CE04/t51.2885-15/e35/61300028_172941353716388_8947308570448253012_n.jpg?_nc_ht=scontent-lga3-1.cdninstagram.com\n",
      "2019-07-19 12:23:01,960 - INFO - downloader - image #200\thttp://cfile7.uf.tistory.com/image/992BAA505AD7EB2334C9A2\n",
      "2019-07-19 12:23:01,998 - ERROR - downloader - Exception caught when downloading file https://scontent-mrs1-1.cdninstagram.com/vp/6ff7c5c474b508e8cd67a55fb4f5f1c1/5C2AD087/t51.2885-15/e35/39914503_273345039946965_6960766660978409472_n.jpg, error: HTTPSConnectionPool(host='scontent-mrs1-1.cdninstagram.com', port=443): Max retries exceeded with url: /vp/6ff7c5c474b508e8cd67a55fb4f5f1c1/5C2AD087/t51.2885-15/e35/39914503_273345039946965_6960766660978409472_n.jpg (Caused by NewConnectionError('<urllib3.connection.VerifiedHTTPSConnection object at 0x0000022913CD3550>: Failed to establish a new connection: [Errno 11001] getaddrinfo failed',)), remaining retry times: 2\n"
     ]
    },
    {
     "name": "stderr",
     "output_type": "stream",
     "text": [
      "2019-07-19 12:23:02,001 - ERROR - downloader - Exception caught when downloading file https://scontent-mrs1-1.cdninstagram.com/vp/6ff7c5c474b508e8cd67a55fb4f5f1c1/5C2AD087/t51.2885-15/e35/39914503_273345039946965_6960766660978409472_n.jpg, error: HTTPSConnectionPool(host='scontent-mrs1-1.cdninstagram.com', port=443): Max retries exceeded with url: /vp/6ff7c5c474b508e8cd67a55fb4f5f1c1/5C2AD087/t51.2885-15/e35/39914503_273345039946965_6960766660978409472_n.jpg (Caused by NewConnectionError('<urllib3.connection.VerifiedHTTPSConnection object at 0x000002293F06F8D0>: Failed to establish a new connection: [Errno 11001] getaddrinfo failed',)), remaining retry times: 1\n",
      "2019-07-19 12:23:02,004 - ERROR - downloader - Exception caught when downloading file https://scontent-mrs1-1.cdninstagram.com/vp/6ff7c5c474b508e8cd67a55fb4f5f1c1/5C2AD087/t51.2885-15/e35/39914503_273345039946965_6960766660978409472_n.jpg, error: HTTPSConnectionPool(host='scontent-mrs1-1.cdninstagram.com', port=443): Max retries exceeded with url: /vp/6ff7c5c474b508e8cd67a55fb4f5f1c1/5C2AD087/t51.2885-15/e35/39914503_273345039946965_6960766660978409472_n.jpg (Caused by NewConnectionError('<urllib3.connection.VerifiedHTTPSConnection object at 0x0000022913CCE5F8>: Failed to establish a new connection: [Errno 11001] getaddrinfo failed',)), remaining retry times: 0\n",
      "2019-07-19 12:23:02,170 - INFO - downloader - image #201\thttp://knat.kr/data/file/anonymous_01/154619645341.jpg\n",
      "2019-07-19 12:23:02,430 - INFO - downloader - image #202\thttp://file3.instiz.net/data/cached_img/upload/2019/05/28/0/db4024671a0981301720e8f05f814988.jpg\n",
      "2019-07-19 12:23:02,619 - ERROR - downloader - Response status code 403, file https://instagram.fsin2-1.fna.fbcdn.net/vp/b2c2e554b65b43e711907921ba8d7d0d/5CFA60A9/t51.2885-15/e35/21909900_366710933765372_1503064272417062912_n.jpg?_nc_ht=instagram.fsin2-1.fna.fbcdn.net&se=7&ig_cache_key=MTYwODg0NTMzMDUzNTUzODUwMA%3D%3D.2\n",
      "2019-07-19 12:23:02,766 - INFO - downloader - image #203\thttps://scontent-frt3-2.cdninstagram.com/vp/77e78d151a04df85acaec776ff3785ba/5DB53332/t51.2885-15/e35/s1080x1080/60545733_2566591323568025_4338713219577370409_n.jpg?_nc_ht=scontent-frt3-2.cdninstagram.com&ig_cache_key=MjA0NzA5MDc4MTA2NzUyMDEwMQ%3D%3D.2\n",
      "2019-07-19 12:23:03,864 - INFO - downloader - image #204\thttp://clinices.com/uploads/after/untitled2.png\n",
      "2019-07-19 12:23:04,022 - INFO - downloader - image #205\thttps://scontent-lga3-1.cdninstagram.com/vp/5a6e9d2bb8752eef13dbe0f749822b44/5D8014D6/t51.2885-15/e35/p1080x1080/57088330_1709881185825272_3702412686517284854_n.jpg?_nc_ht=scontent-lga3-1.cdninstagram.com\n",
      "2019-07-19 12:23:04,134 - ERROR - downloader - Response status code 403, file https://instagram.fiev1-1.fna.fbcdn.net/vp/b0c79a507ca39b94fd7d240f9df7c07e/5CF2F3EA/t51.2885-15/e35/50795548_120930655637083_8968952093097069680_n.jpg?_nc_ht=instagram.fiev1-1.fna.fbcdn.net&se=7&ig_cache_key=MTk3NjY0MzMyOTMyNDMzNDQxOA%3D%3D.2\n",
      "2019-07-19 12:23:04,402 - INFO - downloader - image #206\thttps://scontent-cdg2-1.cdninstagram.com/vp/09fa72f3e4fd01d130273922f40f9253/5DB82170/t51.2885-15/e35/59803158_886528571692429_6185119245194147397_n.jpg?_nc_ht=scontent-cdg2-1.cdninstagram.com&se=8&ig_cache_key=MjA1MDczOTUwNDIyMjE4MDMzMA%3D%3D.2&_nc_ig_catcb=1\n",
      "2019-07-19 12:23:04,434 - INFO - downloader - image #207\thttp://opsimg.sbs.co.kr/Img/S01/201805/01/426742139/4b7ea766-f9bb-489c-86b1-cfacc172c59e.jpg\n",
      "2019-07-19 12:23:04,453 - INFO - downloader - image #208\thttp://t1.daumcdn.net/thumb/R1024x0/?fname=http://i2.ruliweb.com/img/18/06/22/16425483fd1131b7d.jpg\n",
      "2019-07-19 12:23:04,772 - ERROR - downloader - Response status code 404, file https://scontent-frt3-2.cdninstagram.com/vp/a2ad8cd27313d912d8b1008a4352baa9/5D3E6442/t51.2885-15/e35/50655645_615829015504724_886132889784887261_n.jpg?_nc_ht=scontent-frt3-2.cdninstagram.com&se=7&ig_cache_key=MTk3MTg0NDA2MzQwMTU1Nzg4NQ%3D%3D.2\n",
      "2019-07-19 12:23:05,227 - INFO - downloader - image #209\thttp://img2.sbs.co.kr/img/seditor/VD/2018/01/06/VD29742131_w1280.jpg\n",
      "2019-07-19 12:23:05,230 - INFO - downloader - image #210\thttps://scontent-atl3-1.cdninstagram.com/vp/64bed4f088d301b62c5ec829c3cb087d/5D8CDD31/t51.2885-15/e35/60367226_111481866588334_6100678300824896575_n.jpg?_nc_ht=scontent-atl3-1.cdninstagram.com\n",
      "2019-07-19 12:23:05,279 - INFO - downloader - image #211\thttps://pbs.twimg.com/media/CXXXwDoUsAAgsTp.jpg\n",
      "2019-07-19 12:23:05,399 - INFO - downloader - image #212\thttp://www.topstarnews.net/news/photo/201808/463866_117682_1938.gif\n",
      "2019-07-19 12:23:06,306 - INFO - downloader - image #213\thttp://harulee.com/wp-content/uploads/2013/04/IMG_0197-e1366308028781.jpg\n",
      "2019-07-19 12:23:06,812 - INFO - downloader - image #214\thttps://scontent-yyz1-1.cdninstagram.com/vp/888c01ffd9a37f842e77d0b05c2b28b0/5DC0469E/t51.2885-15/e35/65234143_121422755508679_2853518950248348662_n.jpg?_nc_ht=scontent-yyz1-1.cdninstagram.com\n",
      "2019-07-19 12:23:06,906 - INFO - downloader - image #215\thttps://scontent-cdg2-1.cdninstagram.com/vp/0e56253c8cac824e1d079c9215727876/5D7E8ADC/t51.2885-15/e35/61782069_702956603487021_8306419924619575638_n.jpg?_nc_ht=scontent-cdg2-1.cdninstagram.com&se=7&ig_cache_key=MjA2NDUxMzk3MjU5OTk5NDI5Mg%3D%3D.2\n",
      "2019-07-19 12:23:07,494 - INFO - downloader - image #216\thttp://eng.k-clinics.com/upload/noticelistimage/1557149986604.7_RS1_A7C538E0-F4F9-4CA9-9BA4-A7B869FF06AC.jpeg\n",
      "2019-07-19 12:23:07,570 - INFO - downloader - image #217\thttps://scontent-frx5-1.cdninstagram.com/vp/41f98dc92070129494b9470c479be4aa/5D3230FD/t51.2885-15/e35/54266497_350287635601486_2765618120850194620_n.jpg?_nc_ht=scontent-frx5-1.cdninstagram.com\n",
      "2019-07-19 12:23:07,576 - ERROR - downloader - Exception caught when downloading file https://scontent-ams3-1.cdninstagram.com/vp/aac72fbbe8fd9a3fac7fca423b45500a/5C6864C3/t51.2885-15/e35/38236721_304696470107997_5326412144630038528_n.jpg?se=8&ig_cache_key=MTg0NDg1MDUwNTExMzkyNTE4MQ%3D%3D.2, error: HTTPSConnectionPool(host='scontent-ams3-1.cdninstagram.com', port=443): Max retries exceeded with url: /vp/aac72fbbe8fd9a3fac7fca423b45500a/5C6864C3/t51.2885-15/e35/38236721_304696470107997_5326412144630038528_n.jpg?se=8&ig_cache_key=MTg0NDg1MDUwNTExMzkyNTE4MQ%3D%3D.2 (Caused by NewConnectionError('<urllib3.connection.VerifiedHTTPSConnection object at 0x0000022913D03358>: Failed to establish a new connection: [Errno 11001] getaddrinfo failed',)), remaining retry times: 2\n",
      "2019-07-19 12:23:07,599 - ERROR - downloader - Exception caught when downloading file https://scontent-ams3-1.cdninstagram.com/vp/aac72fbbe8fd9a3fac7fca423b45500a/5C6864C3/t51.2885-15/e35/38236721_304696470107997_5326412144630038528_n.jpg?se=8&ig_cache_key=MTg0NDg1MDUwNTExMzkyNTE4MQ%3D%3D.2, error: HTTPSConnectionPool(host='scontent-ams3-1.cdninstagram.com', port=443): Max retries exceeded with url: /vp/aac72fbbe8fd9a3fac7fca423b45500a/5C6864C3/t51.2885-15/e35/38236721_304696470107997_5326412144630038528_n.jpg?se=8&ig_cache_key=MTg0NDg1MDUwNTExMzkyNTE4MQ%3D%3D.2 (Caused by NewConnectionError('<urllib3.connection.VerifiedHTTPSConnection object at 0x0000022913BFFC88>: Failed to establish a new connection: [Errno 11001] getaddrinfo failed',)), remaining retry times: 1\n",
      "2019-07-19 12:23:07,610 - ERROR - downloader - Exception caught when downloading file https://scontent-ams3-1.cdninstagram.com/vp/aac72fbbe8fd9a3fac7fca423b45500a/5C6864C3/t51.2885-15/e35/38236721_304696470107997_5326412144630038528_n.jpg?se=8&ig_cache_key=MTg0NDg1MDUwNTExMzkyNTE4MQ%3D%3D.2, error: HTTPSConnectionPool(host='scontent-ams3-1.cdninstagram.com', port=443): Max retries exceeded with url: /vp/aac72fbbe8fd9a3fac7fca423b45500a/5C6864C3/t51.2885-15/e35/38236721_304696470107997_5326412144630038528_n.jpg?se=8&ig_cache_key=MTg0NDg1MDUwNTExMzkyNTE4MQ%3D%3D.2 (Caused by NewConnectionError('<urllib3.connection.VerifiedHTTPSConnection object at 0x000002290AA58588>: Failed to establish a new connection: [Errno 11001] getaddrinfo failed',)), remaining retry times: 0\n",
      "2019-07-19 12:23:08,095 - INFO - downloader - image #218\thttps://scontent-ort2-1.cdninstagram.com/vp/f9a62b6adddc31b5c75329fcc755f4ff/5D6917D1/t51.2885-15/e35/43568461_474387913054491_3947049443423341712_n.jpg?_nc_ht=scontent-ort2-1.cdninstagram.com\n",
      "2019-07-19 12:23:08,261 - INFO - downloader - image #219\thttps://scontent-yyz1-1.cdninstagram.com/vp/132c5ec136cd614685175e9e2eb11382/5D464FEB/t51.2885-15/e35/42627899_310634279718458_1810156810692667344_n.jpg?_nc_ht=scontent-yyz1-1.cdninstagram.com&se=8\n"
     ]
    },
    {
     "name": "stderr",
     "output_type": "stream",
     "text": [
      "2019-07-19 12:23:08,302 - INFO - downloader - image #220\thttps://data.ygosu.com/upload_files/board_love/116692/5b59e1fe982e9.jpeg\n",
      "2019-07-19 12:23:09,066 - INFO - downloader - image #221\thttps://scontent-bru2-1.cdninstagram.com/vp/1e2e1397611aece7565b8aab2c056188/5D405C30/t51.2885-15/e35/52633088_648547402245253_480288062030722816_n.jpg?_nc_ht=scontent-bru2-1.cdninstagram.com&se=7&ig_cache_key=MTk5NTAyMDEzNTY1Njg5ODM1MQ%3D%3D.2\n",
      "2019-07-19 12:23:09,190 - INFO - downloader - image #222\thttps://scontent-yyz1-1.cdninstagram.com/vp/f9b63333ed957dfe49329b60ce41399c/5D657DB4/t51.2885-15/e35/s1080x1080/58004206_442713816275735_7867696988333728095_n.jpg?_nc_ht=scontent-yyz1-1.cdninstagram.com\n",
      "2019-07-19 12:23:09,357 - INFO - downloader - image #223\thttp://www.topstarnews.net/news/photo/201812/545885_215823_1141.png\n",
      "2019-07-19 12:23:10,679 - INFO - downloader - image #224\thttps://www.instagram.com/p/9Szgc9kPQV/media?size=l\n",
      "2019-07-19 12:23:10,708 - ERROR - downloader - Exception caught when downloading file http://img.bestpost.co.kr/img/upload/ori/1518518822556_PL8.jpeg, error: HTTPConnectionPool(host='img.bestpost.co.kr', port=80): Max retries exceeded with url: /img/upload/ori/1518518822556_PL8.jpeg (Caused by NewConnectionError('<urllib3.connection.HTTPConnection object at 0x0000022913CD5128>: Failed to establish a new connection: [Errno 11001] getaddrinfo failed',)), remaining retry times: 2\n",
      "2019-07-19 12:23:10,713 - ERROR - downloader - Exception caught when downloading file http://img.bestpost.co.kr/img/upload/ori/1518518822556_PL8.jpeg, error: HTTPConnectionPool(host='img.bestpost.co.kr', port=80): Max retries exceeded with url: /img/upload/ori/1518518822556_PL8.jpeg (Caused by NewConnectionError('<urllib3.connection.HTTPConnection object at 0x000002294F444518>: Failed to establish a new connection: [Errno 11001] getaddrinfo failed',)), remaining retry times: 1\n",
      "2019-07-19 12:23:10,717 - ERROR - downloader - Exception caught when downloading file http://img.bestpost.co.kr/img/upload/ori/1518518822556_PL8.jpeg, error: HTTPConnectionPool(host='img.bestpost.co.kr', port=80): Max retries exceeded with url: /img/upload/ori/1518518822556_PL8.jpeg (Caused by NewConnectionError('<urllib3.connection.HTTPConnection object at 0x0000022913CDC470>: Failed to establish a new connection: [Errno 11001] getaddrinfo failed',)), remaining retry times: 0\n",
      "2019-07-19 12:23:11,166 - INFO - downloader - image #225\thttps://dcimg4.dcinside.co.kr/viewimage.php?id=34a8de35eade&no=24b0d769e1d32ca73cee80fa11d028319ddf853da70007dc53c7bd36ddf0f04d356fed6c5b14026be5b3ede1fde5c4c5474e7e05e96bdff256c2d7664b\n",
      "2019-07-19 12:23:11,391 - INFO - downloader - image #226\thttps://img.theqoo.net/img/hasnM.png\n",
      "2019-07-19 12:23:11,445 - INFO - downloader - image #227\thttp://image.tving.com/upload/cms/cais/CAIS0400/S027132287.jpg\n",
      "2019-07-19 12:23:11,816 - INFO - downloader - image #228\thttps://previews.123rf.com/images/edler/edler1703/edler170300004/73331873-%EC%97%AC%EC%9E%90%EB%8A%94-%EC%86%8C%ED%8C%8C%EC%97%90-%EB%88%84%EC%9B%8C-%EC%9E%88%EA%B3%A0-%EB%AC%B4%ED%91%9C%EC%A0%95-%ED%95%B4-%EB%B3%B4%EC%9D%B8%EB%8B%A4-.jpg\n",
      "2019-07-19 12:23:12,183 - INFO - downloader - image #229\thttps://scontent-frt3-1.cdninstagram.com/vp/e4d15f8b2ddf77c7cf522a00fd695440/5DB84DCD/t51.2885-15/e35/64639459_150988862737619_4894905211875922521_n.jpg?_nc_ht=scontent-frt3-1.cdninstagram.com&se=7&ig_cache_key=MjA3NzMzMjY5OTU0NDQ1NzQwNw%3D%3D.2\n",
      "2019-07-19 12:23:12,212 - ERROR - downloader - Response status code 403, file https://scontent-sea1-1.cdninstagram.com/vp/4a2a71a021b075095349bd3a96478cd4/5CFBDC3F/t51.2885-15/e35/22710933_767473693446588_7664643506517835776_n.jpg?_nc_ht=scontent-sea1-1.cdninstagram.com&se=8&ig_cache_key=MTYzNDcxNTMyODk1MjI3MzQ3OA%3D%3D.2\n",
      "2019-07-19 12:23:12,496 - INFO - downloader - image #230\thttps://img0.yna.co.kr/photo/yna/YH/2012/03/05/PYH2012030505590001300_P4.jpg\n",
      "2019-07-19 12:23:13,051 - INFO - downloader - image #231\thttps://scontent-sjc3-1.cdninstagram.com/vp/f51fcd7e1f482a0930a464a2f6d95050/5DC2A064/t51.2885-15/e35/62458823_2264054507244220_8406397391809657027_n.jpg?_nc_ht=scontent-sjc3-1.cdninstagram.com&se=8&ig_cache_key=MjA3MzI4NjE2MTYyODE0MTAzMA%3D%3D.2\n",
      "2019-07-19 12:23:13,164 - INFO - downloader - image #232\thttps://i.pinimg.com/originals/b6/b2/e2/b6b2e2d5627a3c7253c6e506a34e6b6e.jpg\n",
      "2019-07-19 12:23:13,603 - INFO - downloader - image #233\thttps://slidesplayer.org/slide/16700807/96/images/5/%EC%95%88%EB%A9%B4%EA%B7%BC%EC%9C%A1+%EB%A7%88%EB%B9%84%EC%A6%9D%EC%9C%BC%EB%A1%9C+%EB%AC%B4%ED%91%9C%EC%A0%95%EC%9D%98+%EC%9D%B8%EC%83%9D%EC%9D%84+%EC%82%B4%EC%95%84%EC%98%A4%EB%8B%A4%EA%B0%80+A.D.C+%ED%94%84%EB%A1%9C%EA%B7%B8%EB%9E%A8%EC%9D%84+%EB%A7%8C%EB%82%98+%EC%A7%80%EA%B8%88%EC%9D%80+AN%EC%9D%98+%EB%AF%B8%EB%85%80+%EC%82%BC%EC%9D%B8%EB%B0%A9.jpg\n",
      "2019-07-19 12:23:13,632 - INFO - downloader - image #234\thttps://i.ytimg.com/vi/knaKTHmA3So/maxresdefault.jpg\n",
      "2019-07-19 12:23:14,057 - INFO - downloader - image #235\thttp://mblogthumb3.phinf.naver.net/MjAxNjEyMjNfMTYg/MDAxNDgyNDU4NzIwMDQw.IfLFoMZabHR9O785-clrqZpO2t56sP-GpMOLwC3acpkg.Bt3PIAiu_FVQnT8VgGA_w_aN04sHEvlXkiqG38bQ1_og.JPEG.shop2la2/%EB%AC%B4%ED%91%9C%EC%A0%954.jpg?type=w800\n",
      "2019-07-19 12:23:14,116 - INFO - downloader - image #236\thttps://data.ygosu.com/upload_files/board_love/116692/5b59e1f694d09.jpeg\n",
      "2019-07-19 12:23:14,445 - INFO - downloader - image #237\thttp://bmartcenter.com/web/upload/NNEditor/20170703/%EB%AC%B4%ED%91%9C%EC%A0%95%2003_shop1_161853.jpg\n",
      "2019-07-19 12:23:14,497 - INFO - downloader - image #238\thttps://scontent-dus1-1.cdninstagram.com/vp/f3aa29b5bb55f0ca5bbacbdc58fcd1de/5D9EE409/t51.2885-15/e35/56923055_283443975927263_5542389190684379322_n.jpg?_nc_ht=scontent-dus1-1.cdninstagram.com&se=7&ig_cache_key=MjAyNzcxNTMyMTkyNTc2Mjc3Nw%3D%3D.2\n",
      "2019-07-19 12:23:14,849 - ERROR - downloader - Response status code 403, file https://scontent-tpe.cdninstagram.com/vp/5d56d23b35d552700711f5bbf13559d7/5CFCCA62/t51.2885-15/e35/50818736_164041741247595_5357033190354550411_n.jpg?_nc_ht=instagram.ffra1-1.fna.fbcdn.net&se=7&ig_cache_key=MTk3MzA1MjU5MDM4NDA1NTQwNw%3D%3D.2\n",
      "2019-07-19 12:23:14,904 - INFO - parser - parsing result page https://www.google.com/search?q=%EB%AC%B4%ED%91%9C%EC%A0%95&ijn=3&start=300&tbs=isz%3Al%2Citp%3Aface%2Csur%3Af%2Ccdr%3A1%2Ccd_min%3A01%2F01%2F2015%2Ccd_max%3A07%2F11%2F2019&tbm=isch&lr=lang_Korean\n",
      "2019-07-19 12:23:15,281 - INFO - downloader - image #239\thttps://scontent-atl3-1.cdninstagram.com/vp/97af7d53960ed67f1b54fc5453ef5131/5D3C832D/t51.2885-15/e35/52285149_2272679119641307_2947197674521673686_n.jpg?_nc_ht=scontent-atl3-1.cdninstagram.com\n",
      "2019-07-19 12:23:15,318 - ERROR - downloader - Exception caught when downloading file http://img.bestpost.co.kr/img/upload/ori/1505937925969_Hz0.jpeg, error: HTTPConnectionPool(host='img.bestpost.co.kr', port=80): Max retries exceeded with url: /img/upload/ori/1505937925969_Hz0.jpeg (Caused by NewConnectionError('<urllib3.connection.HTTPConnection object at 0x0000022913CEEE48>: Failed to establish a new connection: [Errno 11001] getaddrinfo failed',)), remaining retry times: 2\n",
      "2019-07-19 12:23:15,322 - ERROR - downloader - Exception caught when downloading file http://img.bestpost.co.kr/img/upload/ori/1505937925969_Hz0.jpeg, error: HTTPConnectionPool(host='img.bestpost.co.kr', port=80): Max retries exceeded with url: /img/upload/ori/1505937925969_Hz0.jpeg (Caused by NewConnectionError('<urllib3.connection.HTTPConnection object at 0x000002295ADF0400>: Failed to establish a new connection: [Errno 11001] getaddrinfo failed',)), remaining retry times: 1\n",
      "2019-07-19 12:23:15,326 - ERROR - downloader - Exception caught when downloading file http://img.bestpost.co.kr/img/upload/ori/1505937925969_Hz0.jpeg, error: HTTPConnectionPool(host='img.bestpost.co.kr', port=80): Max retries exceeded with url: /img/upload/ori/1505937925969_Hz0.jpeg (Caused by NewConnectionError('<urllib3.connection.HTTPConnection object at 0x0000022913D03160>: Failed to establish a new connection: [Errno 11001] getaddrinfo failed',)), remaining retry times: 0\n",
      "2019-07-19 12:23:15,608 - INFO - downloader - image #240\thttp://i.beautytalk.co.kr/beauty_images/step/IMG_2019_04_10/000663051001.jpg\n",
      "2019-07-19 12:23:15,651 - INFO - downloader - image #241\thttps://scontent-dus1-1.cdninstagram.com/vp/180049a5f2c1bb007eb20e58781297e7/5DBBFA0F/t51.2885-15/e35/60534287_386492521950012_4146976251918916764_n.jpg?_nc_ht=scontent-dus1-1.cdninstagram.com&se=7&ig_cache_key=MjA0NTU0MDEwMDc4MzQxMjc3OQ%3D%3D.2\n"
     ]
    },
    {
     "name": "stderr",
     "output_type": "stream",
     "text": [
      "2019-07-19 12:23:16,384 - INFO - downloader - image #242\thttps://scontent-lhr3-1.cdninstagram.com/vp/a9dfdcc007789eac406ab565338adb0d/5D87E760/t51.2885-15/e35/47693401_750147928711439_1963795979336414793_n.jpg?_nc_ht=scontent-lhr3-1.cdninstagram.com&_nc_cat=111&se=8&ig_cache_key=MTk1NTIwODA5NjQ3MDUwODg2OA%3D%3D.2\n",
      "2019-07-19 12:23:16,760 - INFO - downloader - image #243\thttps://scontent-sjc3-1.cdninstagram.com/vp/215999b4d02b97c0de88f6f11753d9cc/5D9FD189/t51.2885-15/e35/18646012_810592452427637_6575072365800062976_n.jpg?_nc_ht=scontent-sjc3-1.cdninstagram.com\n",
      "2019-07-19 12:23:17,354 - INFO - downloader - image #244\thttps://www.nemopan.com/files/attach/images/6294/132/760/012/92bc5431e980f8e96506eecdc231faf1.jpeg\n",
      "2019-07-19 12:23:17,867 - INFO - downloader - image #245\thttps://scontent-lht6-1.cdninstagram.com/vp/215573f4fe75855880dd8055fff0a39b/5D49AB7A/t51.2885-15/e35/38643408_156570818540479_4704791821253869568_n.jpg?_nc_ht=scontent-lht6-1.cdninstagram.com&se=7&ig_cache_key=MTg0ODQ5ODk3OTIzNTY3NjYxOQ%3D%3D.2\n",
      "2019-07-19 12:23:17,893 - INFO - downloader - image #246\thttps://image.fmkorea.com/files/attach/new/20190616/486616/17329808/1909455986/2d8239db2c1ffe00bf3db2b74540658f.png\n",
      "2019-07-19 12:23:18,916 - INFO - downloader - image #247\thttps://scontent-sin6-1.cdninstagram.com/vp/531f8b16776bbe0a79b33663bbd20137/5D658781/t51.2885-15/e35/54511749_124597568635655_4655180164350210470_n.jpg?_nc_ht=scontent-sin6-1.cdninstagram.com\n",
      "2019-07-19 12:23:20,100 - INFO - downloader - image #248\thttps://scontent-atl3-1.cdninstagram.com/vp/81a41ef7c54297157fba032b18907521/5D9E250A/t51.2885-15/e35/p1080x1080/60594344_554243392068180_8562710279504599883_n.jpg?_nc_ht=scontent-atl3-1.cdninstagram.com\n",
      "2019-07-19 12:23:20,111 - INFO - downloader - image #249\thttps://dispatch.cdnser.be/wp-content/uploads/2018/06/829f1129ef91b10d45dc4d2fc79c35ca.jpg\n",
      "2019-07-19 12:23:21,169 - INFO - downloader - image #250\thttps://fimg2.pann.com/new/download.jsp?FileID=26139297\n",
      "2019-07-19 12:23:21,361 - INFO - downloader - image #251\thttps://scontent-frt3-2.cdninstagram.com/vp/91bd171bcde335c41addc0f035f7b505/5DC02097/t51.2885-15/e35/61800107_2109903149132811_4499156278091685316_n.jpg?_nc_ht=scontent-frt3-2.cdninstagram.com&se=7&ig_cache_key=MjA2MjQ2MTI3Mjk5ODU4NzIyNQ%3D%3D.2\n",
      "2019-07-19 12:23:21,681 - INFO - downloader - image #252\thttp://optimal.inven.co.kr/upload/2016/04/24/bbs/i11155474104.jpg\n",
      "2019-07-19 12:23:21,868 - INFO - downloader - image #253\thttps://scontent-ort2-1.cdninstagram.com/vp/13740dcf04e91e36c500362e4bc928b7/5D5641AC/t51.2885-15/e35/s1080x1080/60013303_355879731728860_98053922187981054_n.jpg?_nc_ht=scontent-ort2-1.cdninstagram.com\n",
      "2019-07-19 12:23:22,437 - INFO - downloader - image #254\thttp://t1.daumcdn.net/tvpot/thumb/se90apC55a3BooKDChthEDB/thumb.png?ts=1541704793\n",
      "2019-07-19 12:23:22,568 - INFO - downloader - image #255\thttp://file3.instiz.net/data/cached_img/upload/2018/05/01/11/1d55c47a74f040742ac83c1a046f9984.jpg\n",
      "2019-07-19 12:23:23,093 - INFO - downloader - image #256\thttps://pbs.twimg.com/media/D81auS9UYAIhfeo.jpg\n",
      "2019-07-19 12:23:24,491 - INFO - downloader - image #257\thttps://i.imgur.com/G6r073M.jpg\n",
      "2019-07-19 12:23:24,750 - INFO - downloader - image #258\thttps://scontent-lga3-1.cdninstagram.com/vp/eba9757d8be30d90ae6e4cdbfd52c4bb/5D5948D9/t51.2885-15/e35/31296786_198040357675179_7132196531091800064_n.jpg?_nc_ht=scontent-lga3-1.cdninstagram.com\n",
      "2019-07-19 12:23:25,055 - INFO - downloader - image #259\thttps://s1.dmcdn.net/wdWiG/x1080-4-_.jpg\n",
      "2019-07-19 12:23:25,435 - INFO - downloader - image #260\thttps://scontent-sin2-2.cdninstagram.com/vp/fd1b913992c1b237188fea3f83b2e08f/5D4B2DBE/t51.2885-15/e35/50792700_391053158364274_3905019388444613508_n.jpg?_nc_ht=scontent-sin2-2.cdninstagram.com&se=7&ig_cache_key=MTk2OTc2ODUxNTIwNTY2ODE5Nw%3D%3D.2\n",
      "2019-07-19 12:23:25,591 - ERROR - downloader - Exception caught when downloading file https://scontent-frx5-1.cdninstagram.com/vp/4120725e069b01fdaca28f9c898a3cb2/5D9CD455/t51.2885-15/e35/38688326_245231256316663_4309874431699714048_n.jpg?_nc_ht=scontent-frx5-1.cdninstagram.com&se=7&ig_cache_key=MTg0MjAzNzc3MTYxNzY0MjUxMA%3D%3D.2, error: HTTPSConnectionPool(host='scontent-frx5-1.cdninstagram.com', port=443): Read timed out., remaining retry times: 2\n",
      "2019-07-19 12:23:25,977 - INFO - downloader - image #261\thttps://scontent-ort2-1.cdninstagram.com/vp/2e075e8976facbff060961004020086d/5D73EC1F/t51.2885-15/e35/33314682_594079100973260_2755117801218768896_n.jpg?_nc_ht=scontent-ort2-1.cdninstagram.com\n",
      "2019-07-19 12:23:26,969 - INFO - downloader - image #262\thttps://scontent-cdg2-1.cdninstagram.com/vp/e3d53a082f73d73446928738d887437e/5DC665AF/t51.2885-15/e35/61186832_607894603057660_9105893605692712604_n.jpg?_nc_ht=scontent-cdg2-1.cdninstagram.com&se=7&ig_cache_key=MjA2NTEwNjY0NzA4MTM2OTk1Nw%3D%3D.2\n",
      "2019-07-19 12:23:27,200 - INFO - downloader - image #263\thttp://talkimg.imbc.com/TVianUpload/tvian/TViews/image/2018/11/19/e3370b2f-ddc1-49ba-a9cc-80cb0f0eac73.jpg\n",
      "2019-07-19 12:23:27,515 - INFO - downloader - image #264\thttp://www.mhc.kr/files/attach/images/134/959/236/006/ce33c14cef9cd32820d6c169f01e7d8b.JPG\n",
      "2019-07-19 12:23:28,564 - INFO - downloader - image #265\thttps://scontent-mxp1-1.cdninstagram.com/vp/e068037433e71aa387b72048fc8af571/5D38FFE9/t51.2885-15/e35/56542189_387777848561969_9104675162478433864_n.jpg?_nc_ht=scontent-mxp1-1.cdninstagram.com&se=7&ig_cache_key=MjAxNzkzODU3ODE0NzIzODk5Ng%3D%3D.2\n",
      "2019-07-19 12:23:29,364 - INFO - downloader - image #266\thttps://scontent-frx5-1.cdninstagram.com/vp/4120725e069b01fdaca28f9c898a3cb2/5D9CD455/t51.2885-15/e35/38688326_245231256316663_4309874431699714048_n.jpg?_nc_ht=scontent-frx5-1.cdninstagram.com&se=7&ig_cache_key=MTg0MjAzNzc3MTYxNzY0MjUxMA%3D%3D.2\n",
      "2019-07-19 12:23:29,383 - INFO - downloader - image #267\thttps://scontent-lax3-2.cdninstagram.com/vp/7f02e15951d716874fed91d2c01052d8/5D7B3379/t51.2885-15/e35/61147018_139933980415915_9160155442707945304_n.jpg?_nc_ht=scontent-lax3-2.cdninstagram.com&ig_cache_key=MjA2MTAzODI1OTM2MDE1MTg3Mw%3D%3D.2\n",
      "2019-07-19 12:23:29,711 - INFO - downloader - image #268\thttp://img.wantwice.com/files/attach/images/10540308/486/471/027/0f68c3c8f7e468ef3b9d02191059cd91.jpg\n",
      "2019-07-19 12:23:30,035 - INFO - downloader - image #269\thttps://mgall.app/api/file/851565\n",
      "2019-07-19 12:23:31,182 - INFO - downloader - image #270\thttps://scontent-atl3-1.cdninstagram.com/vp/9bc7a282b45dddedf853b89fa781971d/5D9C1D82/t51.2885-15/e35/43212451_2150158835234254_3881824908509970432_n.jpg?_nc_ht=scontent-atl3-1.cdninstagram.com\n",
      "2019-07-19 12:23:31,260 - INFO - downloader - image #271\thttps://scontent-sea1-1.cdninstagram.com/vp/d1e501092b0983720dcdeb45b2a7656a/5DBE97BC/t51.2885-15/e35/60365124_829419047413979_8793556066715641551_n.jpg?_nc_ht=scontent-sea1-1.cdninstagram.com\n",
      "2019-07-19 12:23:31,489 - INFO - downloader - image #272\thttps://mania.kr/nbamania/public_html/g2/data/file/multimedia/mania-done-1556084390_Mey97t3D_FFF9278E-47AD-4598-84E5-5EE47DE1F83B.jpg\n",
      "2019-07-19 12:23:31,595 - INFO - downloader - image #273\thttps://scontent-frt3-2.cdninstagram.com/vp/c3f179dc6c4d4dc8ca67f2925be56659/5D477F73/t51.2885-15/e35/49739628_960896020772099_1656980509823262327_n.jpg?_nc_ht=scontent-frt3-2.cdninstagram.com&se=7&ig_cache_key=MTk4OTk3MjU1MTMyNjk2Nzk5Nw%3D%3D.2\n",
      "2019-07-19 12:23:31,847 - INFO - downloader - image #274\thttps://scontent-amt2-1.cdninstagram.com/vp/ca1b8301d9b50f4b7edc60528ef6c222/5DA62D94/t51.2885-15/e35/12750311_252319178432974_925624929_n.jpg?_nc_ht=scontent-amt2-1.cdninstagram.com\n",
      "2019-07-19 12:23:31,986 - INFO - downloader - image #275\thttps://scontent.cdninstagram.com/vp/5d5e1d603155acea97156e62807e5e70/5D84B298/t51.2885-15/e35/61198445_453362298569857_5598065657460362163_n.jpg?_nc_ht=scontent-sjc3-1.cdninstagram.com\n",
      "2019-07-19 12:23:32,211 - ERROR - downloader - Response status code 403, file https://scontent-sea1-1.cdninstagram.com/vp/6ee5b9edbe4a6a7b485d67f4354c5d22/5C9DA66A/t51.2885-15/e35/46814020_1853463888109084_2151032849308053016_n.jpg?_nc_ht=scontent-sea1-1.cdninstagram.com&se=7&ig_cache_key=MTk0MTQ2ODM0NzkzMTM2NDU1Mg%3D%3D.2\n",
      "2019-07-19 12:23:32,946 - ERROR - downloader - Response status code 403, file https://scontent-ort2-2.cdninstagram.com/vp/b416e421a9e28b52c425762e21115115/5D0FD945/t51.2885-15/e35/47499175_1488129677988692_4774936022924842089_n.jpg?_nc_ht=scontent-ort2-2.cdninstagram.com\n"
     ]
    },
    {
     "name": "stderr",
     "output_type": "stream",
     "text": [
      "2019-07-19 12:23:33,055 - INFO - downloader - image #276\thttps://scontent-lga3-1.cdninstagram.com/vp/5e1c3331aed5757fb63c263222cff08f/5D9D1EBF/t51.2885-15/e35/57056274_1698484363631105_4837005777419254245_n.jpg?_nc_ht=scontent-lga3-1.cdninstagram.com\n",
      "2019-07-19 12:23:33,397 - INFO - downloader - image #277\thttps://scontent-frt3-1.cdninstagram.com/vp/fcd57cfbf9e826363c7f531b7b2d9967/5DBE6928/t51.2885-15/e35/42003995_109727603255461_2294737287057657607_n.jpg?_nc_ht=scontent-frt3-1.cdninstagram.com&se=7&ig_cache_key=MTg4Mjc1NDgxNTQ1OTMzMDY2OQ%3D%3D.2\n",
      "2019-07-19 12:23:34,052 - INFO - downloader - image #278\thttps://scontent-lht6-1.cdninstagram.com/vp/0ff84a7ed54c86e70f1360a249701b90/5D869647/t51.2885-15/e35/s1080x1080/61712984_414121615890909_1395658147318998991_n.jpg?_nc_ht=scontent-lht6-1.cdninstagram.com&ig_cache_key=MjA2NzkzNTYzMjAwNDc3MjM5NQ%3D%3D.2\n",
      "2019-07-19 12:23:34,282 - ERROR - downloader - Response status code 403, file https://scontent-dub4-1.cdninstagram.com/vp/0be62d7b8a30c0f2f737d21f211af421/5C5F7FD6/t51.2885-15/e35/29089004_222129848364748_6552953155376644096_n.jpg?se=8&ig_cache_key=MTc0MTI4MTEwNjExMzc4NDI0Ng%3D%3D.2\n",
      "2019-07-19 12:23:34,605 - ERROR - downloader - Response status code 403, file https://scontent-frt3-2.cdninstagram.com/vp/8b66024cd52f38725958911576dd9dd4/5D30F23C/t51.2885-15/e35/15035645_1713814612279717_4254085104332177408_n.jpg?_nc_ht=scontent-frt3-2.cdninstagram.com&se=8&ig_cache_key=MTM4MzczMzAxNDI2MTE0NjU2MQ%3D%3D.2\n",
      "2019-07-19 12:23:34,821 - INFO - downloader - image #279\thttps://scontent-lga3-1.cdninstagram.com/vp/c403f035f4ecfda6a2cbb2fbf623c8b0/5D6CD1BD/t51.2885-15/e35/52713958_2084417661848571_5222804138058209270_n.jpg?_nc_ht=scontent-lga3-1.cdninstagram.com&se=8\n",
      "2019-07-19 12:23:35,092 - INFO - downloader - image #280\thttps://scontent-lht6-1.cdninstagram.com/vp/267135637f3a45e77b586f18392e4198/5D4301DA/t51.2885-15/e35/50100474_141224466792983_3041792120751962039_n.jpg?_nc_ht=scontent-lht6-1.cdninstagram.com&se=7&ig_cache_key=MTk2MTM3Njg2NjE2NjE2OTg0NQ%3D%3D.2\n",
      "2019-07-19 12:23:35,970 - INFO - downloader - image #281\thttps://scontent-lht6-1.cdninstagram.com/vp/11841a840039f992f799b6eea6afce37/5D8AB099/t51.2885-15/e35/s1080x1080/60262862_402345747026784_2683063422283033118_n.jpg?_nc_ht=scontent-lht6-1.cdninstagram.com&ig_cache_key=MjA1MjIyOTQ4NjQ0MzU4MDA1NA%3D%3D.2\n",
      "2019-07-19 12:23:36,142 - INFO - downloader - image #282\thttps://2.bp.blogspot.com/-7VNqVRMlq00/WOMZ3ie9r8I/AAAAAAAAVp8/NleiNLfd9gYMgXqzNh-BC2MPxpx3xmmCgCLcB/s1600/C7mpi_vVQAAR4wJ.jpg\n",
      "2019-07-19 12:23:37,538 - INFO - downloader - image #283\thttp://img.ezmember.co.kr/cache/board/2017/03/13/756b60393c854186804408d23e534219.jpg\n",
      "2019-07-19 12:23:37,862 - INFO - downloader - image #284\thttps://mgall.app/api/file/1155913\n",
      "2019-07-19 12:23:38,370 - INFO - downloader - image #285\thttp://www.topstarnews.net/news/photo/201902/583715_260898_2616.jpg\n",
      "2019-07-19 12:23:38,494 - INFO - downloader - image #286\thttps://scontent-atl3-1.cdninstagram.com/vp/ceeb26b54a8b73d6fa8878e2b877f779/5DC2C8A0/t51.2885-15/e35/61746934_309572766634742_3511137674943277941_n.jpg?_nc_ht=scontent-atl3-1.cdninstagram.com\n",
      "2019-07-19 12:23:39,052 - INFO - downloader - image #287\thttps://pbs.twimg.com/media/DsqQMqHVAAAkImW.jpg\n",
      "2019-07-19 12:23:39,290 - INFO - downloader - image #288\thttp://knat.kr/data/file/anonymous_01/15461964557.jpg\n",
      "2019-07-19 12:23:40,246 - INFO - downloader - image #289\thttps://scontent-sjc3-1.cdninstagram.com/vp/805ca469587f2fad4fca10a2ca7086a2/5D317372/t51.2885-15/e35/52449583_182588052711934_5478732951351188155_n.jpg?_nc_ht=scontent-sjc3-1.cdninstagram.com\n",
      "2019-07-19 12:23:40,405 - INFO - downloader - image #290\thttp://modelnara.com/p/upload/per_img/rhy8683/65-6145-6480_Y_900x553_100_5.jpg\n",
      "2019-07-19 12:23:40,851 - INFO - downloader - image #291\thttps://i.ytimg.com/vi/29Cl-gc_Wp8/maxresdefault.jpg\n",
      "2019-07-19 12:23:40,907 - ERROR - downloader - Exception caught when downloading file https://scontent-frx5-1.cdninstagram.com/vp/b69eb826923737176520e08f8b272f45/5D90B175/t51.2885-15/e35/62373542_2369240880014207_5716993979179229604_n.jpg?_nc_ht=scontent-frx5-1.cdninstagram.com&se=7&ig_cache_key=MjA2MjUzMjQ1NTAwODY0MDg1NA%3D%3D.2, error: HTTPSConnectionPool(host='scontent-frx5-1.cdninstagram.com', port=443): Read timed out., remaining retry times: 2\n",
      "2019-07-19 12:23:40,935 - INFO - downloader - image #292\thttp://1.234.27.27/ExoBoard/upload3/i69568330.png\n",
      "2019-07-19 12:23:41,413 - INFO - downloader - image #293\thttps://scontent-cdg2-1.cdninstagram.com/vp/87d8d0bec80904b598e1c16ec79ac052/5D915EF7/t51.2885-15/e35/58766202_2661429143898315_5031583417840993355_n.jpg?_nc_ht=scontent-cdg2-1.cdninstagram.com&se=7&ig_cache_key=MjAzMDU2MDM4MDY3MzU4NTA5Nw%3D%3D.2\n",
      "2019-07-19 12:23:41,951 - ERROR - downloader - Response status code 403, file https://scontent-sin.cdninstagram.com/vp/6e03d6c1fd7086bf43f8ebf3c5f80402/5D2E76EC/t51.2885-15/e35/53535910_407711333376743_5361815871274955149_n.jpg?_nc_ht=instagram.fdtm2-1.fna.fbcdn.net&se=7&ig_cache_key=MjAxMjQxMzQ5Mzk0OTg0NTg5OA%3D%3D.2\n",
      "2019-07-19 12:23:42,917 - INFO - downloader - image #294\thttps://scontent-frx5-1.cdninstagram.com/vp/b69eb826923737176520e08f8b272f45/5D90B175/t51.2885-15/e35/62373542_2369240880014207_5716993979179229604_n.jpg?_nc_ht=scontent-frx5-1.cdninstagram.com&se=7&ig_cache_key=MjA2MjUzMjQ1NTAwODY0MDg1NA%3D%3D.2\n",
      "2019-07-19 12:23:43,178 - INFO - downloader - image #295\thttps://scontent-lhr3-1.cdninstagram.com/vp/458c3b00dff9a1496c9e10ae1cf0a441/5D9EDE43/t51.2885-15/e35/56161761_123835075453840_3641977685834185604_n.jpg?_nc_ht=scontent-lhr3-1.cdninstagram.com&_nc_cat=104&se=8&ig_cache_key=MjAyMTU5NTU4NjkzMjA1ODUzNA%3D%3D.2\n",
      "2019-07-19 12:23:43,373 - INFO - downloader - image #296\thttps://p16-tiktokcdn-com.akamaized.net/obj/v0201/g97v3aq02j82aj5t5mib00008652070v0200027c05\n",
      "2019-07-19 12:23:43,413 - INFO - downloader - image #297\thttps://scontent-frt3-2.cdninstagram.com/vp/707b9a1a7992d1494a58e1840b1d62ba/5DA8246B/t51.2885-15/e35/p1080x1080/61725107_2389541274623528_6910424946094818087_n.jpg?_nc_ht=scontent-frt3-2.cdninstagram.com&ig_cache_key=MjA3MDQzNDIyODMxNjEyNjMzMA%3D%3D.2\n",
      "2019-07-19 12:23:43,842 - INFO - downloader - image #298\thttps://t1.daumcdn.net/cfile/tistory/246CEE4356F92C9526\n",
      "2019-07-19 12:23:44,103 - INFO - downloader - image #299\thttp://img.vogue.co.kr/vogue/2016/01/style_56a9ed58de664.jpg\n",
      "2019-07-19 12:23:44,162 - ERROR - downloader - Response status code 401, file http://simg.donga.com/ugc/MLBPARK/Board/15/45/62/71/1545627126925.jpg\n",
      "2019-07-19 12:23:44,590 - INFO - downloader - image #300\thttp://img1.daumcdn.net/thumb/R1024x0/?fname=http://i1.daumcdn.net/cfile287/image/2233B34357E51A561DF643\n",
      "2019-07-19 12:23:45,080 - INFO - downloader - image #301\thttps://scontent-frx5-1.cdninstagram.com/vp/5c12a70d84d3af5f52063295438b7fb1/5DB11CCC/t51.2885-15/e35/p1080x1080/64498540_385734182047675_8907890290367880712_n.jpg?_nc_ht=scontent-frx5-1.cdninstagram.com\n",
      "2019-07-19 12:23:45,492 - INFO - downloader - image #302\thttp://the-star.co.kr/site/data/img_dir/2019/06/20/2019062080041_5.jpg\n",
      "2019-07-19 12:23:45,762 - INFO - downloader - image #303\thttps://scontent-lax3-1.cdninstagram.com/vp/0ebebc0eb9c6be0d8df70de49f64ec52/5DBAFD83/t51.2885-15/e35/60487703_343889769651107_4986311534572485225_n.jpg?_nc_ht=scontent-lax3-1.cdninstagram.com&se=7&ig_cache_key=MjA1MzY1MjU2MTUzMDkzNDI1MQ%3D%3D.2\n",
      "2019-07-19 12:23:46,447 - ERROR - downloader - Response status code 403, file https://scontent-sea1-1.cdninstagram.com/vp/e9e397faf880a1517713f36373cf54d6/5C52AA01/t51.2885-15/e35/37379138_1951553731733664_7261127807185453056_n.jpg?se=8&ig_cache_key=MTgzNDE4MDk0NTYyODk2NzczOQ%3D%3D.2\n",
      "2019-07-19 12:23:46,629 - INFO - downloader - image #304\thttps://scontent-dus1-1.cdninstagram.com/vp/893aaeced36dce7f61f3d40a6e9db2d8/5DB4A8DE/t51.2885-15/e35/s1080x1080/63049845_1214285285446861_9118877047289262033_n.jpg?_nc_ht=scontent-dus1-1.cdninstagram.com&ig_cache_key=MjA4MTI4NzEzODYzNzY3NzQ0Mg%3D%3D.2\n",
      "2019-07-19 12:23:46,860 - INFO - downloader - image #305\thttps://scontent-atl3-1.cdninstagram.com/vp/d374cb2cbdeb05110a6084a6089a3fec/5D96D346/t51.2885-15/e35/60234672_722421828174720_3053319137858746851_n.jpg?_nc_ht=scontent-atl3-1.cdninstagram.com\n",
      "2019-07-19 12:23:47,370 - INFO - downloader - image #306\thttp://pds26.egloos.com/pds/201804/12/00/d0030200_5ace5eccadeb2.jpg\n"
     ]
    },
    {
     "name": "stderr",
     "output_type": "stream",
     "text": [
      "2019-07-19 12:23:47,788 - INFO - downloader - image #307\thttps://scontent-atl3-1.cdninstagram.com/vp/0e3f99de1e63812a493a28f0c97a0c34/5D3CDB03/t51.2885-15/e35/51392208_514121202328468_4144213156947241068_n.jpg?_nc_ht=scontent-atl3-1.cdninstagram.com\n",
      "2019-07-19 12:23:47,925 - INFO - downloader - image #308\thttps://scontent-cdg2-1.cdninstagram.com/vp/d1619a249f8b41069fa22430926016b2/5D58AA20/t51.2885-15/e35/p1080x1080/59650448_2411174695772144_4124893409975448837_n.jpg?_nc_ht=scontent-cdg2-1.cdninstagram.com&ig_cache_key=MjA0NzIzMjkwOTIyOTY2MjI0OQ%3D%3D.2\n",
      "2019-07-19 12:23:47,994 - ERROR - downloader - Response status code 404, file http://amang.pagepia.com/data/file/contest/1889181732_nYpxms5e_DSC02383.JPG\n",
      "2019-07-19 12:23:48,184 - INFO - downloader - image #309\thttp://file3.instiz.net/data/cached_img/upload/2018/05/13/0/bbb6bd3b4c639a996247466dcb8fb13d.jpg\n",
      "2019-07-19 12:23:48,343 - INFO - downloader - image #310\thttps://dispatch.cdnser.be/wp-content/uploads/2016/12/369dc7f4ee26f887c1c1f592d04cd0c4.jpg\n",
      "2019-07-19 12:23:48,644 - INFO - downloader - image #311\thttps://scontent-sea1-1.cdninstagram.com/vp/4e4da4742f384d26d42907e24a95101a/5DA4905E/t51.2885-15/e35/26158088_163798327576051_8347270550388736000_n.jpg?_nc_ht=scontent-sea1-1.cdninstagram.com&se=8&ig_cache_key=MTY5NTAxNTUzMzY3NjU1MDA4OA%3D%3D.2\n",
      "2019-07-19 12:23:49,003 - INFO - downloader - image #312\thttps://scontent-cdg2-1.cdninstagram.com/vp/38f98f2190c157e03b25c2ad92a09a84/5D841DFE/t51.2885-15/e35/62217605_458103088299242_5182231097682232767_n.jpg?_nc_ht=scontent-cdg2-1.cdninstagram.com&se=7&ig_cache_key=MjA2NTUwNjgwMTgzNjUyNzY4Mg%3D%3D.2\n",
      "2019-07-19 12:23:49,294 - ERROR - downloader - Response status code 403, file https://scontent-frt3-1.cdninstagram.com/vp/b3cfde2852ea8209bf481a75249a16c2/5D10EC23/t51.2885-15/e35/53903862_573921963084217_8193959159518527898_n.jpg?_nc_ht=scontent-frt3-1.cdninstagram.com\n",
      "2019-07-19 12:23:49,537 - INFO - downloader - image #313\thttp://www.topstarnews.net/news/photo/first/201504/img_125029_1.jpg\n",
      "2019-07-19 12:23:50,357 - INFO - downloader - image #314\thttp://opsimg.sbs.co.kr/Img/S01/201805/06/427054857/4274083b-f088-4496-8425-b2a169512567.jpg\n",
      "2019-07-19 12:23:50,588 - INFO - downloader - image #315\thttps://scontent-ort2-1.cdninstagram.com/vp/cacec4807e61d853fe5ec5f5a94b2933/5D79C857/t51.2885-15/e35/s1080x1080/58994686_142120313511200_4350066115931711784_n.jpg?_nc_ht=scontent-ort2-1.cdninstagram.com\n",
      "2019-07-19 12:23:50,890 - INFO - downloader - image #316\thttp://t1.daumcdn.net/thumb/R1024x0/?fname=http://i2.ruliweb.com/img/18/06/22/16425487822131b7d.jpg\n",
      "2019-07-19 12:23:50,894 - INFO - downloader - image #317\thttps://scontent-atl3-1.cdninstagram.com/vp/4a31b82638e219470b9b3641ee0ab224/5D7C5B53/t51.2885-15/e35/42654630_471105916631953_122105433580724874_n.jpg?_nc_ht=scontent-atl3-1.cdninstagram.com\n",
      "2019-07-19 12:23:51,065 - ERROR - downloader - Response status code 403, file https://scontent-sea1-1.cdninstagram.com/vp/a9364154cf047dc482ff0e761d7aa6cc/5CDAB3A2/t51.2885-15/e35/37528929_1598475010451763_4904475927565565952_n.jpg?_nc_ht=scontent-sea1-1.cdninstagram.com&se=7&ig_cache_key=MTg0NjIwMDMzNDE4ODMzMTA3Mw%3D%3D.2\n",
      "2019-07-19 12:23:51,347 - INFO - downloader - image #318\thttps://image.fmkorea.com/files/attach/new/20181112/3655109/1075203649/1380735053/7b895ad8505ffc2ee5308a8fa24a9914.jpg\n",
      "2019-07-19 12:23:51,654 - INFO - downloader - image #319\thttp://optimal.inven.co.kr/upload/2017/10/10/bbs/i13368888255.png\n",
      "2019-07-19 12:23:52,058 - INFO - downloader - image #320\thttp://talkimg.imbc.com/TVianUpload/tvian/TViews/image/2018/04/20/dPjGWWd7t6QW636598081018868121.JPG\n",
      "2019-07-19 12:23:52,070 - INFO - downloader - image #321\thttp://img2.sbs.co.kr/img/seditor/VD/2017/11/02/VD18175238_w1280.jpg\n",
      "2019-07-19 12:23:52,072 - INFO - downloader - image #322\thttps://scontent-den4-1.cdninstagram.com/vp/e073317f7f5cf7c7d7ec782afbc8e506/5DB06657/t51.2885-15/e35/66430697_145024013234714_774697882386310799_n.jpg?_nc_ht=scontent-den4-1.cdninstagram.com\n",
      "2019-07-19 12:23:52,319 - INFO - downloader - image #323\thttp://www.etobang.co.kr/data/mw.cheditor/181111/thumbnail3/b46670cf1b49b3d65436590a6649c8c2_ThvBvuomsO2fmqpdu2MFnyVZKcVjO.jpg\n",
      "2019-07-19 12:23:52,864 - INFO - downloader - image #324\thttps://i.ytimg.com/vi/7TaLZ4WrQJ8/maxresdefault.jpg\n",
      "2019-07-19 12:23:53,070 - INFO - parser - no more page urls for thread parser-001 to parse\n",
      "2019-07-19 12:23:53,070 - INFO - parser - thread parser-001 exit\n",
      "2019-07-19 12:23:54,068 - INFO - downloader - image #325\thttps://scontent-ber1-1.cdninstagram.com/vp/952d7c90451bb0e907b0e70340627c49/5D555909/t51.2885-15/e35/44630703_918168348372291_8645943358117331140_n.jpg?_nc_ht=scontent-ber1-1.cdninstagram.com&se=7&ig_cache_key=MTkxNTI0NjU3NzYxNjAxODI1MQ%3D%3D.2\n",
      "2019-07-19 12:23:54,316 - INFO - downloader - image #326\thttps://scontent-cdt1-1.cdninstagram.com/vp/1873878a158386ba7d747179715c8d9c/5D658708/t51.2885-15/e35/57085387_648225692271685_1470185532916072055_n.jpg?_nc_ht=scontent-cdt1-1.cdninstagram.com&se=7&ig_cache_key=MjAzMDY2NTMyMjQ2MjU2NDEwNA%3D%3D.2\n",
      "2019-07-19 12:23:57,325 - INFO - downloader - no more download task for thread downloader-004\n",
      "2019-07-19 12:23:57,328 - INFO - downloader - thread downloader-004 exit\n",
      "2019-07-19 12:23:57,870 - INFO - downloader - no more download task for thread downloader-002\n",
      "2019-07-19 12:23:57,871 - INFO - downloader - thread downloader-002 exit\n",
      "2019-07-19 12:23:59,078 - INFO - downloader - no more download task for thread downloader-001\n",
      "2019-07-19 12:23:59,080 - INFO - downloader - thread downloader-001 exit\n",
      "2019-07-19 12:23:59,332 - INFO - downloader - no more download task for thread downloader-003\n",
      "2019-07-19 12:23:59,334 - INFO - downloader - thread downloader-003 exit\n",
      "2019-07-19 12:24:00,153 - INFO - icrawler.crawler - Crawling task done!\n"
     ]
    }
   ],
   "source": [
    "from icrawler.builtin import GoogleImageCrawler\n",
    "import urllib.parse as parse\n",
    "\n",
    "qer={\"query\":\"증명사진\"}\n",
    "param=parse.urlencode(qer)\n",
    "\n",
    "google_crawler = GoogleImageCrawler(\n",
    "    feeder_threads=1,\n",
    "    parser_threads=1,\n",
    "    downloader_threads=4,\n",
    "    storage={'root_dir': 'your_image_dir'})\n",
    "\n",
    "filters = dict(\n",
    "    size='large',\n",
    "    type='face',\n",
    "    license='noncommercial',\n",
    "    date=((2015, 1, 1), (2019, 7, 11)))\n",
    "\n",
    "\n",
    "google_crawler.crawl(keyword= '무표정', language='Korean', filters=filters, offset=0, max_num=400,\n",
    "                     min_size=(200,200), max_size=None, file_idx_offset=0)\n"
   ]
  },
  {
   "cell_type": "markdown",
   "metadata": {},
   "source": [
    "## Crop face region by OpenCV face detection - RGB 유지"
   ]
  },
  {
   "cell_type": "code",
   "execution_count": 66,
   "metadata": {},
   "outputs": [],
   "source": [
    "import cv2\n",
    "import os\n",
    "import numpy as np\n",
    "\n",
    "\n",
    "path = 'C:/Users/Affinity/your_image_dir'\n",
    "save_path = 'C:/Users/Affinity/0'\n",
    "base_name = 'bigss'\n",
    "\n",
    "def load_images_from_folder(folder):\n",
    "    images = []\n",
    "    for filename in os.listdir(folder):\n",
    "        img = cv2.imread(os.path.join(folder,filename))\n",
    "        if img is not None:\n",
    "            images.append(img)\n",
    "    return images\n",
    "\n",
    "image = load_images_from_folder(path)\n",
    "#print(image[1])\n",
    "\n",
    "for i in range(len(image)):\n",
    "    #print(image[i])\n",
    "    img = image[i]\n",
    "    image_copy = np.copy(img)\n",
    "#     b, g, r = cv2.split(img)\n",
    "#     img2 = cv2.merge([r, g, b])\n",
    "#     img3 =img2\n",
    "    \n",
    "    face_cascade = cv2.CascadeClassifier('haarcascade_frontalface_default.xml')\n",
    "    faces = face_cascade.detectMultiScale(img, 1.25, 6)\n",
    "    #print('--------------------------------------------------')\n",
    "    \n",
    "    face_crop = []\n",
    "    for f in faces:\n",
    "        x, y, w, h = [ v for v in f ]\n",
    "        cv2.rectangle(image_copy, (x,y), (x+w, y+h), (255,0,0), 3)\n",
    "        face_crop.append(img[y:y+h, x:x+w])\n",
    "    \n",
    "    for face in face_crop:\n",
    "        \n",
    "        filename = \"%s/dfile_%d.jpg\"%(save_path, i)\n",
    "        cv2.imwrite(filename, face)\n",
    "        cv2.waitKey(0)"
   ]
  },
  {
   "cell_type": "markdown",
   "metadata": {},
   "source": [
    "## +  파란 이미지 원래로 돌려놓기"
   ]
  },
  {
   "cell_type": "code",
   "execution_count": null,
   "metadata": {},
   "outputs": [],
   "source": [
    "img = cv2.imread(\"\")\n",
    "img = cv2.cvtColor(image[i], cv2.COLOR_BGR2RGB)"
   ]
  },
  {
   "cell_type": "code",
   "execution_count": null,
   "metadata": {},
   "outputs": [],
   "source": [
    "import cv2\n",
    "import os\n",
    "\n",
    "\n",
    "path = 'C:/Users/Affinity/predict'\n",
    "save_path = 'C:/Users/Affinity/class2'\n",
    "base_name = 'crop_face'\n",
    "\n",
    "def load_images_from_folder(folder):\n",
    "    images = []\n",
    "    for filename in os.listdir(folder):\n",
    "        img = cv2.imread(os.path.join(folder,filename))\n",
    "        if img is not None:\n",
    "            images.append(img)\n",
    "    return images\n",
    "\n",
    "image = load_images_from_folder(path)\n",
    "\n",
    "for i in range(len(image)):\n",
    "    img = cv2.cvtColor(image[i], cv2.COLOR_BGR2RGB)\n",
    "#     b, g, r = cv2.split(img)\n",
    "#     img2 = cv2.merge([r, g, b])\n",
    "#     img3 =img2\n",
    "    \n",
    "    face_cascade = cv2.CascadeClassifier('haarcascade_frontalface_default.xml')\n",
    "    faces = face_cascade.detectMultiScale(img, 1.25, 6)\n",
    "    \n",
    "    filename = \"%s/file_%d.jpg\"%(save_path, i)\n",
    "    cv2.imwrite(filename, img)\n",
    "    cv2.waitKey(0)"
   ]
  },
  {
   "cell_type": "markdown",
   "metadata": {},
   "source": [
    "## dir 만들기"
   ]
  },
  {
   "cell_type": "code",
   "execution_count": 5,
   "metadata": {},
   "outputs": [],
   "source": [
    "# os -> 운영체제에서 제공되는 여러 기능을 파이썬에서 수행\n",
    "# shutil -> (shell utility)는 파일 및 디렉터리 작업을 수행하는 데 사용할 모듈\n",
    "import os, shutil\n",
    "\n",
    "\n",
    "# 원본 데이터셋을 압축 해제한 디렉터리 경로\n",
    "original_dataset_dir = 'C:/Users/Affinity/org_train'\n",
    "\n",
    "# 소규모 데이터셋을 저장할 디렉터리\n",
    "base_dir = 'C:/Users/Affinity/asian_datasets'\n",
    "if os.path.exists(base_dir):  # 반복적인 실행을 위해 디렉토리를 삭제합니다.\n",
    "    shutil.rmtree(base_dir)   # 이 코드는 책에 포함되어 있지 않습니다.\n",
    "os.mkdir(base_dir)"
   ]
  },
  {
   "cell_type": "code",
   "execution_count": 3,
   "metadata": {},
   "outputs": [
    {
     "ename": "FileNotFoundError",
     "evalue": "[WinError 3] 지정된 경로를 찾을 수 없습니다: 'C:/Users/Affinity/smile_datasets\\\\train'",
     "output_type": "error",
     "traceback": [
      "\u001b[1;31m---------------------------------------------------------------------------\u001b[0m",
      "\u001b[1;31mFileNotFoundError\u001b[0m                         Traceback (most recent call last)",
      "\u001b[1;32m<ipython-input-3-911fbb6779a2>\u001b[0m in \u001b[0;36m<module>\u001b[1;34m\u001b[0m\n\u001b[0;32m      1\u001b[0m \u001b[1;31m# 훈련, 검증, 테스트 분할을 위한 디렉터리\u001b[0m\u001b[1;33m\u001b[0m\u001b[1;33m\u001b[0m\u001b[1;33m\u001b[0m\u001b[0m\n\u001b[0;32m      2\u001b[0m \u001b[0mtrain_dir\u001b[0m \u001b[1;33m=\u001b[0m \u001b[0mos\u001b[0m\u001b[1;33m.\u001b[0m\u001b[0mpath\u001b[0m\u001b[1;33m.\u001b[0m\u001b[0mjoin\u001b[0m\u001b[1;33m(\u001b[0m\u001b[0mbase_dir\u001b[0m\u001b[1;33m,\u001b[0m \u001b[1;34m'train'\u001b[0m\u001b[1;33m)\u001b[0m\u001b[1;33m\u001b[0m\u001b[1;33m\u001b[0m\u001b[0m\n\u001b[1;32m----> 3\u001b[1;33m \u001b[0mos\u001b[0m\u001b[1;33m.\u001b[0m\u001b[0mmkdir\u001b[0m\u001b[1;33m(\u001b[0m\u001b[0mtrain_dir\u001b[0m\u001b[1;33m)\u001b[0m\u001b[1;33m\u001b[0m\u001b[1;33m\u001b[0m\u001b[0m\n\u001b[0m\u001b[0;32m      4\u001b[0m \u001b[0mvalidation_dir\u001b[0m \u001b[1;33m=\u001b[0m \u001b[0mos\u001b[0m\u001b[1;33m.\u001b[0m\u001b[0mpath\u001b[0m\u001b[1;33m.\u001b[0m\u001b[0mjoin\u001b[0m\u001b[1;33m(\u001b[0m\u001b[0mbase_dir\u001b[0m\u001b[1;33m,\u001b[0m \u001b[1;34m'validation'\u001b[0m\u001b[1;33m)\u001b[0m\u001b[1;33m\u001b[0m\u001b[1;33m\u001b[0m\u001b[0m\n\u001b[0;32m      5\u001b[0m \u001b[0mos\u001b[0m\u001b[1;33m.\u001b[0m\u001b[0mmkdir\u001b[0m\u001b[1;33m(\u001b[0m\u001b[0mvalidation_dir\u001b[0m\u001b[1;33m)\u001b[0m\u001b[1;33m\u001b[0m\u001b[1;33m\u001b[0m\u001b[0m\n",
      "\u001b[1;31mFileNotFoundError\u001b[0m: [WinError 3] 지정된 경로를 찾을 수 없습니다: 'C:/Users/Affinity/smile_datasets\\\\train'"
     ]
    }
   ],
   "source": [
    "# 훈련, 검증, 테스트 분할을 위한 디렉터리\n",
    "train_dir = os.path.join(base_dir, 'train')\n",
    "os.mkdir(train_dir)\n",
    "validation_dir = os.path.join(base_dir, 'validation')\n",
    "os.mkdir(validation_dir)\n",
    "test_dir = os.path.join(base_dir, 'test')\n",
    "os.mkdir(test_dir)\n",
    "\n",
    "\n",
    "train_0_dir = os.path.join(train_dir, '0')\n",
    "os.mkdir(train_0_dir)\n",
    "\n",
    "validation_0_dir = os.path.join(validation_dir, '0')\n",
    "os.mkdir(validation_0_dir)\n",
    "\n",
    "test_0_dir = os.path.join(test_dir, '0')\n",
    "os.mkdir(test_0_dir)\n",
    "\n",
    "\n",
    "\n",
    "train_1_dir = os.path.join(train_dir, '1')\n",
    "os.mkdir(train_1_dir)\n",
    "\n",
    "validation_1_dir = os.path.join(validation_dir, '1')\n",
    "os.mkdir(validation_1_dir)\n",
    "\n",
    "test_1_dir = os.path.join(test_dir, '1')\n",
    "os.mkdir(test_1_dir)\n",
    "\n",
    "\n",
    "\n",
    "train_2_dir = os.path.join(train_dir, '2')\n",
    "os.mkdir(train_2_dir)\n",
    "\n",
    "validation_2_dir = os.path.join(validation_dir, '2')\n",
    "os.mkdir(validation_2_dir)\n",
    "\n",
    "test_2_dir = os.path.join(test_dir, '2')\n",
    "os.mkdir(test_2_dir)"
   ]
  },
  {
   "cell_type": "markdown",
   "metadata": {},
   "source": [
    "## dir 선언 "
   ]
  },
  {
   "cell_type": "code",
   "execution_count": 2,
   "metadata": {},
   "outputs": [],
   "source": [
    "import os\n",
    "\n",
    "base_dir = 'C:/Users/Affinity/smile_datasets'\n",
    "train_dir = os.path.join(base_dir, 'train')\n",
    "validation_dir = os.path.join(base_dir, 'validation')\n",
    "test_dir = os.path.join(base_dir, 'test')\n",
    "train_0_dir = os.path.join(train_dir, '0')\n",
    "validation_0_dir = os.path.join(validation_dir, '0')\n",
    "test_0_dir = os.path.join(test_dir, '0')\n",
    "train_1_dir = os.path.join(train_dir, '1')\n",
    "validation_1_dir = os.path.join(validation_dir, '1')\n",
    "test_1_dir = os.path.join(test_dir, '1')\n",
    "train_2_dir = os.path.join(train_dir, '2')\n",
    "validation_2_dir = os.path.join(validation_dir, '2')\n",
    "test_2_dir = os.path.join(test_dir, '2')"
   ]
  },
  {
   "cell_type": "markdown",
   "metadata": {},
   "source": [
    "## Data split"
   ]
  },
  {
   "cell_type": "code",
   "execution_count": 7,
   "metadata": {},
   "outputs": [],
   "source": [
    "# non smile split\n",
    "\n",
    "fnames = ['non ({}).jpg'.format(i) for i in range(1,901)]\n",
    "for fname in fnames:\n",
    "    src = os.path.join(original_dataset_dir+ '/0', fname)\n",
    "    dst = os.path.join(train_0_dir, fname)\n",
    "    shutil.copyfile(src, dst)\n",
    "\n",
    "fnames = ['non ({}).jpg'.format(i) for i in range(901, 1202)]\n",
    "for fname in fnames:\n",
    "    src = os.path.join(original_dataset_dir+ '/0', fname)\n",
    "    dst = os.path.join(validation_0_dir, fname)\n",
    "    shutil.copyfile(src, dst)\n",
    "    \n",
    "fnames = ['non ({}).jpg'.format(i) for i in range(1202, 1762)]\n",
    "for fname in fnames:\n",
    "    src = os.path.join(original_dataset_dir+ '/0', fname)\n",
    "    dst = os.path.join(test_0_dir, fname)\n",
    "    shutil.copyfile(src, dst)\n",
    "    \n",
    "\n",
    "# smile split\n",
    "\n",
    "fnames = ['smile ({}).jpg'.format(i) for i in range(1,901)]\n",
    "for fname in fnames:\n",
    "    src = os.path.join(original_dataset_dir+ '/1', fname)\n",
    "    dst = os.path.join(train_1_dir, fname)\n",
    "    shutil.copyfile(src, dst)\n",
    "\n",
    "fnames = ['smile ({}).jpg'.format(i) for i in range(901, 1202)]\n",
    "for fname in fnames:\n",
    "    src = os.path.join(original_dataset_dir+ '/1', fname)\n",
    "    dst = os.path.join(validation_1_dir, fname)\n",
    "    shutil.copyfile(src, dst)\n",
    "    \n",
    "fnames = ['smile ({}).jpg'.format(i) for i in range(1202, 2016)]\n",
    "for fname in fnames:\n",
    "    src = os.path.join(original_dataset_dir+ '/1', fname)\n",
    "    dst = os.path.join(test_1_dir, fname)\n",
    "    shutil.copyfile(src, dst)\n",
    "\n",
    "    \n",
    "# non smile split\n",
    "\n",
    "fnames = ['fake ({}).jpg'.format(i) for i in range(1,901)]\n",
    "for fname in fnames:\n",
    "    src = os.path.join(original_dataset_dir+ '/2', fname)\n",
    "    dst = os.path.join(train_2_dir, fname)\n",
    "    shutil.copyfile(src, dst)\n",
    "\n",
    "fnames = ['fake ({}).jpg'.format(i) for i in range(901, 1102)]\n",
    "for fname in fnames:\n",
    "    src = os.path.join(original_dataset_dir+ '/2', fname)\n",
    "    dst = os.path.join(validation_2_dir, fname)\n",
    "    shutil.copyfile(src, dst)\n",
    "    \n",
    "fnames = ['fake ({}).jpg'.format(i) for i in range(1102, 1150)]\n",
    "for fname in fnames:\n",
    "    src = os.path.join(original_dataset_dir+ '/2', fname)\n",
    "    dst = os.path.join(test_2_dir, fname)\n",
    "    shutil.copyfile(src, dst)"
   ]
  },
  {
   "cell_type": "markdown",
   "metadata": {},
   "source": [
    "## Categorical Classification\n",
    "## (Real Smile, Non, Fake Smile)\n",
    "## -> Crop face region by OpenCV face detection"
   ]
  },
  {
   "cell_type": "code",
   "execution_count": 3,
   "metadata": {},
   "outputs": [
    {
     "ename": "NameError",
     "evalue": "name 'train_dir' is not defined",
     "output_type": "error",
     "traceback": [
      "\u001b[1;31m---------------------------------------------------------------------------\u001b[0m",
      "\u001b[1;31mNameError\u001b[0m                                 Traceback (most recent call last)",
      "\u001b[1;32m<ipython-input-3-d252418e0268>\u001b[0m in \u001b[0;36m<module>\u001b[1;34m\u001b[0m\n\u001b[0;32m     16\u001b[0m train_generator = train_datagen.flow_from_directory(\n\u001b[0;32m     17\u001b[0m         \u001b[1;31m# 타깃 디렉터리\u001b[0m\u001b[1;33m\u001b[0m\u001b[1;33m\u001b[0m\u001b[1;33m\u001b[0m\u001b[0m\n\u001b[1;32m---> 18\u001b[1;33m         \u001b[0mtrain_dir\u001b[0m\u001b[1;33m,\u001b[0m\u001b[1;33m\u001b[0m\u001b[1;33m\u001b[0m\u001b[0m\n\u001b[0m\u001b[0;32m     19\u001b[0m         \u001b[1;31m# 모든 이미지를 150 × 150 크기로 바꿉니다\u001b[0m\u001b[1;33m\u001b[0m\u001b[1;33m\u001b[0m\u001b[1;33m\u001b[0m\u001b[0m\n\u001b[0;32m     20\u001b[0m         \u001b[0mtarget_size\u001b[0m\u001b[1;33m=\u001b[0m\u001b[1;33m(\u001b[0m\u001b[1;36m64\u001b[0m\u001b[1;33m,\u001b[0m \u001b[1;36m64\u001b[0m\u001b[1;33m)\u001b[0m\u001b[1;33m,\u001b[0m\u001b[1;33m\u001b[0m\u001b[1;33m\u001b[0m\u001b[0m\n",
      "\u001b[1;31mNameError\u001b[0m: name 'train_dir' is not defined"
     ]
    }
   ],
   "source": [
    "from keras.preprocessing.image import ImageDataGenerator\n",
    "\n",
    "\n",
    "'''\n",
    "ImageDataGenerator 클래스는 디스크에 있는 이미지 파일을 전처리된 배치 tensor로 자동 변환해주는 python generator\n",
    "'''\n",
    "\n",
    "# 모든 이미지를 1/255로 스케일을 조정합니다 -> 픽셀 값을 0~255 사이의 스케일을 [0,1] 사이로 조정 (신경망은 작은 입력 값을 선호) \n",
    "train_datagen = ImageDataGenerator(rescale=1./255)\n",
    "test_datagen = ImageDataGenerator(rescale=1./255)\n",
    "\n",
    "\n",
    "'''\n",
    "전체 Sample에서 Batch를 반복 반환하기 위한 generator\n",
    "'''\n",
    "train_generator = train_datagen.flow_from_directory(\n",
    "        # 타깃 디렉터리\n",
    "        train_dir,\n",
    "        # 모든 이미지를 150 × 150 크기로 바꿉니다\n",
    "        target_size=(64, 64),\n",
    "        batch_size=20,\n",
    "        # binary_crossentropy 손실을 사용하기 때문에 이진 레이블이 필요합니다\n",
    "        class_mode='categorical'\n",
    "    ,color_mode='grayscale')\n",
    "\n",
    "validation_generator = test_datagen.flow_from_directory(\n",
    "        validation_dir,\n",
    "        target_size=(64, 64),\n",
    "        batch_size=20,\n",
    "    class_mode='categorical',\n",
    "        color_mode='grayscale')\n",
    "\n",
    "\n",
    "##### test data Preprocessing\n",
    "test_generator = test_datagen.flow_from_directory(\n",
    "        test_dir,\n",
    "        target_size=(64, 64),\n",
    "        batch_size=20,\n",
    "    class_mode='categorical',\n",
    "    color_mode='grayscale')\n"
   ]
  },
  {
   "cell_type": "markdown",
   "metadata": {},
   "source": [
    "## Define Network - yun1"
   ]
  },
  {
   "cell_type": "code",
   "execution_count": 4,
   "metadata": {},
   "outputs": [
    {
     "name": "stderr",
     "output_type": "stream",
     "text": [
      "Using TensorFlow backend.\n"
     ]
    }
   ],
   "source": [
    "from keras import layers\n",
    "from keras import models\n",
    "\n",
    "model = models.Sequential()\n",
    "\n",
    "                     # 32- > filter의 수 -> output\n",
    "model.add(layers.Conv2D(10, (3, 3), activation='relu', input_shape=(64, 64, 1)))\n",
    "model.add(layers.MaxPooling2D((2, 2)))\n",
    "model.add(layers.Conv2D(64, (3, 3), activation='tanh'))\n",
    "model.add(layers.MaxPooling2D((2, 2)))\n",
    "model.add(layers.Dropout(0.5))\n",
    "model.add(layers.Conv2D(64, (3, 3), activation='relu'))\n",
    "model.add(layers.Flatten())\n",
    "\n",
    "model.add(layers.Dense(64, activation='relu'))\n",
    "model.add(layers.Dense(3, activation='softmax'))\n",
    "#복잡한 데이터에서 스트라이드를 커널사이즈보다 크게되면 더 잘 나올 수도 잇음 "
   ]
  },
  {
   "cell_type": "code",
   "execution_count": 26,
   "metadata": {},
   "outputs": [],
   "source": [
    "model.compile(optimizer='rmsprop',\n",
    "              loss='categorical_crossentropy',\n",
    "              metrics=['accuracy'])"
   ]
  },
  {
   "cell_type": "code",
   "execution_count": 10,
   "metadata": {},
   "outputs": [
    {
     "name": "stdout",
     "output_type": "stream",
     "text": [
      "Epoch 1/40\n",
      "100/100 [==============================] - 6s 63ms/step - loss: 0.9454 - acc: 0.5285 - val_loss: 0.6463 - val_acc: 0.7782\n",
      "Epoch 2/40\n",
      "100/100 [==============================] - 4s 41ms/step - loss: 0.5790 - acc: 0.7670 - val_loss: 0.4795 - val_acc: 0.7874\n",
      "Epoch 3/40\n",
      "100/100 [==============================] - 4s 42ms/step - loss: 0.4756 - acc: 0.8190 - val_loss: 0.4975 - val_acc: 0.8118\n",
      "Epoch 4/40\n",
      "100/100 [==============================] - 4s 39ms/step - loss: 0.4089 - acc: 0.8410 - val_loss: 0.3781 - val_acc: 0.8515\n",
      "Epoch 5/40\n",
      "100/100 [==============================] - 4s 43ms/step - loss: 0.3458 - acc: 0.8690 - val_loss: 0.3693 - val_acc: 0.8613\n",
      "Epoch 6/40\n",
      "100/100 [==============================] - 4s 44ms/step - loss: 0.3301 - acc: 0.8780 - val_loss: 0.6982 - val_acc: 0.7497\n",
      "Epoch 7/40\n",
      "100/100 [==============================] - 4s 44ms/step - loss: 0.2837 - acc: 0.8960 - val_loss: 0.5432 - val_acc: 0.7874\n",
      "Epoch 8/40\n",
      "100/100 [==============================] - 4s 44ms/step - loss: 0.2551 - acc: 0.8995 - val_loss: 0.4685 - val_acc: 0.8372\n",
      "Epoch 9/40\n",
      "100/100 [==============================] - 4s 44ms/step - loss: 0.2251 - acc: 0.9120 - val_loss: 0.3688 - val_acc: 0.8769\n",
      "Epoch 10/40\n",
      "100/100 [==============================] - 5s 45ms/step - loss: 0.2294 - acc: 0.9110 - val_loss: 0.3612 - val_acc: 0.8747\n",
      "Epoch 11/40\n",
      "100/100 [==============================] - 5s 47ms/step - loss: 0.2068 - acc: 0.9305 - val_loss: 0.3693 - val_acc: 0.8728\n",
      "Epoch 12/40\n",
      "100/100 [==============================] - 5s 49ms/step - loss: 0.1768 - acc: 0.9355 - val_loss: 0.4953 - val_acc: 0.8250\n",
      "Epoch 13/40\n",
      "100/100 [==============================] - 5s 47ms/step - loss: 0.1484 - acc: 0.9460 - val_loss: 0.3731 - val_acc: 0.8810\n",
      "Epoch 14/40\n",
      "100/100 [==============================] - 6s 55ms/step - loss: 0.1587 - acc: 0.9435 - val_loss: 0.4190 - val_acc: 0.8489\n",
      "Epoch 15/40\n",
      "100/100 [==============================] - 5s 55ms/step - loss: 0.1295 - acc: 0.9535 - val_loss: 0.3647 - val_acc: 0.8718\n",
      "Epoch 16/40\n",
      "100/100 [==============================] - 5s 46ms/step - loss: 0.1153 - acc: 0.9605 - val_loss: 0.3756 - val_acc: 0.8942\n",
      "Epoch 17/40\n",
      "100/100 [==============================] - 4s 43ms/step - loss: 0.0980 - acc: 0.9665 - val_loss: 0.4626 - val_acc: 0.8789\n",
      "Epoch 18/40\n",
      "100/100 [==============================] - 5s 45ms/step - loss: 0.0936 - acc: 0.9645 - val_loss: 0.4593 - val_acc: 0.8769\n",
      "Epoch 19/40\n",
      "100/100 [==============================] - 5s 45ms/step - loss: 0.0980 - acc: 0.9655 - val_loss: 0.5119 - val_acc: 0.8665\n",
      "Epoch 20/40\n",
      "100/100 [==============================] - 5s 47ms/step - loss: 0.0788 - acc: 0.9715 - val_loss: 0.5327 - val_acc: 0.8698\n",
      "Epoch 21/40\n",
      "100/100 [==============================] - 5s 45ms/step - loss: 0.0675 - acc: 0.9735 - val_loss: 0.6084 - val_acc: 0.8433\n",
      "Epoch 22/40\n",
      "100/100 [==============================] - 5s 47ms/step - loss: 0.0610 - acc: 0.9765 - val_loss: 0.5069 - val_acc: 0.8861\n",
      "Epoch 23/40\n",
      "100/100 [==============================] - 5s 47ms/step - loss: 0.0751 - acc: 0.9720 - val_loss: 0.6045 - val_acc: 0.8437\n",
      "Epoch 24/40\n",
      "100/100 [==============================] - 5s 47ms/step - loss: 0.0488 - acc: 0.9800 - val_loss: 0.6418 - val_acc: 0.8667\n",
      "Epoch 25/40\n",
      "100/100 [==============================] - 5s 46ms/step - loss: 0.0613 - acc: 0.9765 - val_loss: 0.5410 - val_acc: 0.8525\n",
      "Epoch 26/40\n",
      "100/100 [==============================] - 5s 46ms/step - loss: 0.0408 - acc: 0.9815 - val_loss: 0.5989 - val_acc: 0.8820\n",
      "Epoch 27/40\n",
      "100/100 [==============================] - 5s 46ms/step - loss: 0.0563 - acc: 0.9830 - val_loss: 0.5495 - val_acc: 0.8932\n",
      "Epoch 28/40\n",
      "100/100 [==============================] - 5s 46ms/step - loss: 0.0330 - acc: 0.9870 - val_loss: 0.6497 - val_acc: 0.8602\n",
      "Epoch 29/40\n",
      "100/100 [==============================] - 4s 44ms/step - loss: 0.0445 - acc: 0.9835 - val_loss: 0.6179 - val_acc: 0.8850\n",
      "Epoch 30/40\n",
      "100/100 [==============================] - 4s 45ms/step - loss: 0.0345 - acc: 0.9885 - val_loss: 0.6351 - val_acc: 0.8810\n",
      "Epoch 31/40\n",
      "100/100 [==============================] - 4s 44ms/step - loss: 0.0255 - acc: 0.9890 - val_loss: 0.7445 - val_acc: 0.8657\n",
      "Epoch 32/40\n",
      "100/100 [==============================] - 5s 46ms/step - loss: 0.0273 - acc: 0.9920 - val_loss: 0.7418 - val_acc: 0.8799\n",
      "Epoch 33/40\n",
      "100/100 [==============================] - 5s 48ms/step - loss: 0.0375 - acc: 0.9875 - val_loss: 1.0595 - val_acc: 0.8566\n",
      "Epoch 34/40\n",
      "100/100 [==============================] - 5s 46ms/step - loss: 0.0315 - acc: 0.9910 - val_loss: 0.7775 - val_acc: 0.8657\n",
      "Epoch 35/40\n",
      "100/100 [==============================] - 5s 47ms/step - loss: 0.0307 - acc: 0.9895 - val_loss: 0.8039 - val_acc: 0.8830\n",
      "Epoch 36/40\n",
      "100/100 [==============================] - 5s 46ms/step - loss: 0.0250 - acc: 0.9920 - val_loss: 0.7702 - val_acc: 0.8667\n",
      "Epoch 37/40\n",
      "100/100 [==============================] - 5s 49ms/step - loss: 0.0205 - acc: 0.9935 - val_loss: 0.8985 - val_acc: 0.8675\n",
      "Epoch 38/40\n",
      "100/100 [==============================] - 5s 47ms/step - loss: 0.0399 - acc: 0.9890 - val_loss: 0.7403 - val_acc: 0.8810\n",
      "Epoch 39/40\n",
      "100/100 [==============================] - 5s 45ms/step - loss: 0.0295 - acc: 0.9870 - val_loss: 1.0697 - val_acc: 0.8494\n",
      "Epoch 40/40\n",
      "100/100 [==============================] - 5s 49ms/step - loss: 0.0224 - acc: 0.9930 - val_loss: 0.7153 - val_acc: 0.8861\n"
     ]
    }
   ],
   "source": [
    "history = model.fit_generator(\n",
    "      train_generator,\n",
    "      steps_per_epoch=100,\n",
    "      epochs=40,\n",
    "      validation_data=validation_generator,\n",
    "      validation_steps=50)"
   ]
  },
  {
   "cell_type": "markdown",
   "metadata": {},
   "source": [
    "## acc, loss 그래프 - yun1"
   ]
  },
  {
   "cell_type": "code",
   "execution_count": 11,
   "metadata": {},
   "outputs": [
    {
     "name": "stdout",
     "output_type": "stream",
     "text": [
      "loss:  0.15486289892915062\n",
      "val loss:  0.5862286250066845\n",
      "\n",
      "acc:  0.9390999964624644\n",
      "val acc:  0.857435038303781\n"
     ]
    },
    {
     "data": {
      "image/png": "[encoded data removed]",
      "text/plain": [
       "<Figure size 432x288 with 1 Axes>"
      ]
     },
     "metadata": {
      "needs_background": "light"
     },
     "output_type": "display_data"
    },
    {
     "data": {
      "image/png": "[encoded data removed]",
      "text/plain": [
       "<Figure size 432x288 with 1 Axes>"
      ]
     },
     "metadata": {
      "needs_background": "light"
     },
     "output_type": "display_data"
    }
   ],
   "source": [
    "import matplotlib.pyplot as plt\n",
    "import numpy as np\n",
    "%matplotlib inline\n",
    "\n",
    "\n",
    "history_dict = history.history\n",
    "history_dict.keys()\n",
    "\n",
    "acc = history.history['acc']\n",
    "val_acc = history.history['val_acc']\n",
    "loss = history.history['loss']\n",
    "val_loss = history.history['val_loss']\n",
    "\n",
    "print(\"loss: \", np.mean(loss))\n",
    "print(\"val loss: \", np.mean(val_loss))\n",
    "\n",
    "print(\"acc: \", np.mean(acc))\n",
    "print(\"val acc: \", np.mean(val_acc))\n",
    "\n",
    "\n",
    "epochs = range(1, len(acc) + 1)\n",
    "\n",
    "\n",
    "plt.plot(epochs, acc, 'r', label='Training acc')\n",
    "plt.plot(epochs, val_acc, 'b', label='Validation acc')\n",
    "plt.title('Training and validation accuracy')\n",
    "plt.legend()\n",
    "\n",
    "plt.figure()\n",
    "\n",
    "# ‘bo’는 파란색 점을 의미합니다\n",
    "plt.plot(epochs, loss, 'r', label='Training loss')\n",
    "\n",
    "# ‘b’는 파란색 실선을 의미합니다\n",
    "plt.plot(epochs, val_loss, 'b', label='Validation loss')\n",
    "\n",
    "plt.title('Training and validation loss')\n",
    "plt.xlabel('Epochs')\n",
    "plt.ylabel('Loss')\n",
    "plt.legend()\n",
    "\n",
    "plt.show()"
   ]
  },
  {
   "cell_type": "markdown",
   "metadata": {},
   "source": [
    "## 지수 평균 이동선"
   ]
  },
  {
   "cell_type": "code",
   "execution_count": 12,
   "metadata": {},
   "outputs": [
    {
     "data": {
      "image/png": "[encoded data removed]",
      "text/plain": [
       "<Figure size 432x288 with 1 Axes>"
      ]
     },
     "metadata": {
      "needs_background": "light"
     },
     "output_type": "display_data"
    },
    {
     "data": {
      "image/png": "[encoded data removed]",
      "text/plain": [
       "<Figure size 432x288 with 1 Axes>"
      ]
     },
     "metadata": {
      "needs_background": "light"
     },
     "output_type": "display_data"
    }
   ],
   "source": [
    "def smooth_curve(points, factor=0.8):\n",
    "  smoothed_points = []\n",
    "  for point in points:\n",
    "    if smoothed_points:\n",
    "      previous = smoothed_points[-1]\n",
    "      smoothed_points.append(previous * factor + point * (1 - factor))\n",
    "    else:\n",
    "      smoothed_points.append(point)\n",
    "  return smoothed_points\n",
    "\n",
    "plt.plot(epochs,\n",
    "         smooth_curve(acc), 'r', label='Smoothed training acc')\n",
    "plt.plot(epochs,\n",
    "         smooth_curve(val_acc), 'b', label='Smoothed validation acc')\n",
    "plt.title('Training and validation accuracy')\n",
    "plt.legend()\n",
    "\n",
    "plt.figure()\n",
    "\n",
    "plt.plot(epochs,\n",
    "         smooth_curve(loss), 'r', label='Smoothed training loss')\n",
    "plt.plot(epochs,\n",
    "         smooth_curve(val_loss), 'b', label='Smoothed validation loss')\n",
    "plt.title('Training and validation loss')\n",
    "plt.legend()\n",
    "\n",
    "plt.show()"
   ]
  },
  {
   "cell_type": "markdown",
   "metadata": {},
   "source": [
    "##early stopping"
   ]
  },
  {
   "cell_type": "code",
   "execution_count": 27,
   "metadata": {},
   "outputs": [
    {
     "name": "stdout",
     "output_type": "stream",
     "text": [
      "Epoch 1/40\n",
      "100/100 [==============================] - 7s 66ms/step - loss: 1.0164 - acc: 0.4730 - val_loss: 0.7948 - val_acc: 0.6119\n",
      "Epoch 2/40\n",
      "100/100 [==============================] - 6s 60ms/step - loss: 0.6478 - acc: 0.7275 - val_loss: 0.7544 - val_acc: 0.6511\n",
      "Epoch 3/40\n",
      "100/100 [==============================] - 6s 63ms/step - loss: 0.5119 - acc: 0.7835 - val_loss: 0.5862 - val_acc: 0.7650\n",
      "Epoch 4/40\n",
      "100/100 [==============================] - 7s 66ms/step - loss: 0.4372 - acc: 0.8405 - val_loss: 0.3886 - val_acc: 0.8586\n",
      "Epoch 5/40\n",
      "100/100 [==============================] - 6s 62ms/step - loss: 0.3686 - acc: 0.8600 - val_loss: 0.3807 - val_acc: 0.8594\n",
      "Epoch 6/40\n",
      "100/100 [==============================] - 6s 63ms/step - loss: 0.3494 - acc: 0.8700 - val_loss: 0.3716 - val_acc: 0.8571\n",
      "Epoch 7/40\n",
      "100/100 [==============================] - 6s 63ms/step - loss: 0.3172 - acc: 0.8740 - val_loss: 0.3824 - val_acc: 0.8635\n",
      "Epoch 8/40\n",
      "100/100 [==============================] - 6s 63ms/step - loss: 0.2916 - acc: 0.8905 - val_loss: 0.3622 - val_acc: 0.8830\n",
      "Epoch 9/40\n",
      "100/100 [==============================] - 7s 67ms/step - loss: 0.2401 - acc: 0.9110 - val_loss: 0.3688 - val_acc: 0.8795\n",
      "Epoch 10/40\n",
      "100/100 [==============================] - 7s 68ms/step - loss: 0.2571 - acc: 0.9020 - val_loss: 0.5026 - val_acc: 0.8538\n",
      "Epoch 11/40\n",
      "100/100 [==============================] - 7s 66ms/step - loss: 0.2160 - acc: 0.9235 - val_loss: 0.3811 - val_acc: 0.8840\n"
     ]
    }
   ],
   "source": [
    "from keras.callbacks import EarlyStopping, ModelCheckpoint\n",
    "#ModelCheckpoint 구조정보, 각각 w에 할당되는 값을 저장\n",
    "\n",
    "callbacks_list = [EarlyStopping(monitor='val_loss', patience=3),\n",
    "                  ModelCheckpoint(filepath='EarlyStopModel.h5', monitor='val_loss', save_best_only=True)]\n",
    "\n",
    "history = model.fit_generator(train_generator,\n",
    "                              validation_data=validation_generator,\n",
    "                              validation_steps=100,\n",
    "                              epochs=40,\n",
    "                              steps_per_epoch=100,\n",
    "                              callbacks=callbacks_list)\n",
    "\n",
    "\n",
    "# patience : n , mini-batch를 쓰면 오르락내리락을 할 수 있어서 오버피팅 되기전에 \n",
    "# 올라갔다 다시 내려갈 수 있어서 n번정도는 기다려준다.\n",
    "\n",
    "# 상대경로 : (모델 구조저장하는)포맷h5 --> model.h5 또는 ./model.h5==>파이썬을 돌리는 현재 경로에 저장\n",
    "# ../model.h5 : 현재 경로의 상위 폴더\n",
    "# 절대 경로 : 'C:/~/~/~/.model.h5'\n",
    "\n",
    "# save_best_only = 'True' best만 저장\n",
    "\n",
    "\n",
    "\n",
    "# history = EarlyStopModel.fit(X_train,\n",
    "#                              y_train, \n",
    "#                              epochs=20,\n",
    "#                              batch_size=256,\n",
    "#                              validation_data=(X_valid, y_valid),\n",
    "#                              callbacks = callbacks_list)"
   ]
  },
  {
   "cell_type": "code",
   "execution_count": 44,
   "metadata": {},
   "outputs": [
    {
     "data": {
      "image/png": "[encoded data removed]",
      "text/plain": [
       "<Figure size 432x288 with 1 Axes>"
      ]
     },
     "metadata": {
      "needs_background": "light"
     },
     "output_type": "display_data"
    }
   ],
   "source": [
    "import matplotlib.pyplot as plt\n",
    "%matplotlib inline\n",
    "\n",
    "acc, val_acc = history.history['acc'], history.history['val_acc']\n",
    "epochs = range(1, len(loss)+1)\n",
    "\n",
    "plt.plot(epochs, acc, 'r', label='Training acc') # 'b'는 파란색 실선을 의미\n",
    "plt.plot(epochs, val_acc, 'b--', label='Validation acc') # 'bo'는 파란색 점을 의미\n",
    "plt.title('Training and validation acc')\n",
    "plt.xlabel('Epochs')\n",
    "plt.ylabel('acc')\n",
    "plt.xticks(epochs)\n",
    "plt.legend()\n",
    "\n",
    "plt.show()"
   ]
  },
  {
   "cell_type": "code",
   "execution_count": 42,
   "metadata": {},
   "outputs": [
    {
     "data": {
      "image/png": "[encoded data removed]",
      "text/plain": [
       "<Figure size 432x288 with 1 Axes>"
      ]
     },
     "metadata": {
      "needs_background": "light"
     },
     "output_type": "display_data"
    }
   ],
   "source": [
    "import matplotlib.pyplot as plt\n",
    "%matplotlib inline\n",
    "\n",
    "loss, val_loss = history.history['loss'], history.history['val_loss']\n",
    "epochs = range(1, len(loss)+1)\n",
    "\n",
    "plt.plot(epochs, loss, 'r', label='Training loss') # 'b'는 파란색 실선을 의미\n",
    "plt.plot(epochs, val_loss, 'b--', label='Validation loss') # 'bo'는 파란색 점을 의미\n",
    "plt.title('Training and validation loss')\n",
    "plt.xlabel('Epochs')\n",
    "plt.ylabel('Loss')\n",
    "plt.xticks(epochs)\n",
    "plt.legend()\n",
    "\n",
    "plt.show()"
   ]
  },
  {
   "cell_type": "code",
   "execution_count": 5,
   "metadata": {},
   "outputs": [
    {
     "name": "stdout",
     "output_type": "stream",
     "text": [
      ">> model load!!\n"
     ]
    }
   ],
   "source": [
    "from keras.models import load_model\n",
    "\n",
    "model = load_model('EarlyStopModel.h5')\n",
    "print('>> model load!!')"
   ]
  },
  {
   "cell_type": "code",
   "execution_count": 6,
   "metadata": {},
   "outputs": [
    {
     "ename": "NameError",
     "evalue": "name 'test_generator' is not defined",
     "output_type": "error",
     "traceback": [
      "\u001b[1;31m---------------------------------------------------------------------------\u001b[0m",
      "\u001b[1;31mNameError\u001b[0m                                 Traceback (most recent call last)",
      "\u001b[1;32m<ipython-input-6-a23141d0bd06>\u001b[0m in \u001b[0;36m<module>\u001b[1;34m\u001b[0m\n\u001b[1;32m----> 1\u001b[1;33m \u001b[0mtest_loss\u001b[0m\u001b[1;33m,\u001b[0m \u001b[0mtest_acc\u001b[0m \u001b[1;33m=\u001b[0m \u001b[0mmodel\u001b[0m\u001b[1;33m.\u001b[0m\u001b[0mevaluate_generator\u001b[0m\u001b[1;33m(\u001b[0m\u001b[0mtest_generator\u001b[0m\u001b[1;33m,\u001b[0m \u001b[0msteps\u001b[0m\u001b[1;33m=\u001b[0m\u001b[1;36m5\u001b[0m\u001b[1;33m)\u001b[0m\u001b[1;33m\u001b[0m\u001b[1;33m\u001b[0m\u001b[0m\n\u001b[0m\u001b[0;32m      2\u001b[0m \u001b[0mprint\u001b[0m\u001b[1;33m(\u001b[0m\u001b[1;34m'test loss: '\u001b[0m\u001b[1;33m,\u001b[0m \u001b[0mtest_loss\u001b[0m\u001b[1;33m)\u001b[0m\u001b[1;33m\u001b[0m\u001b[1;33m\u001b[0m\u001b[0m\n\u001b[0;32m      3\u001b[0m \u001b[0mprint\u001b[0m\u001b[1;33m(\u001b[0m\u001b[1;34m'test acc: '\u001b[0m\u001b[1;33m,\u001b[0m \u001b[0mtest_acc\u001b[0m\u001b[1;33m)\u001b[0m\u001b[1;33m\u001b[0m\u001b[1;33m\u001b[0m\u001b[0m\n\u001b[0;32m      4\u001b[0m \u001b[1;33m\u001b[0m\u001b[0m\n\u001b[0;32m      5\u001b[0m \u001b[1;31m#저장된 모델 불러올 때 from keras.model import load_model\u001b[0m\u001b[1;33m\u001b[0m\u001b[1;33m\u001b[0m\u001b[1;33m\u001b[0m\u001b[0m\n",
      "\u001b[1;31mNameError\u001b[0m: name 'test_generator' is not defined"
     ]
    }
   ],
   "source": [
    "test_loss, test_acc = model.evaluate_generator(test_generator, steps=5)\n",
    "print('test loss: ', test_loss)\n",
    "print('test acc: ', test_acc)\n",
    "\n",
    "#저장된 모델 불러올 때 from keras.model import load_model"
   ]
  },
  {
   "cell_type": "code",
   "execution_count": null,
   "metadata": {},
   "outputs": [],
   "source": []
  },
  {
   "cell_type": "code",
   "execution_count": null,
   "metadata": {},
   "outputs": [],
   "source": []
  },
  {
   "cell_type": "markdown",
   "metadata": {},
   "source": [
    "# dir 바꿔서 asian_dataset으로 vgg16"
   ]
  },
  {
   "cell_type": "code",
   "execution_count": 1,
   "metadata": {},
   "outputs": [],
   "source": [
    "# os -> 운영체제에서 제공되는 여러 기능을 파이썬에서 수행\n",
    "# shutil -> (shell utility)는 파일 및 디렉터리 작업을 수행하는 데 사용할 모듈\n",
    "import os, shutil\n",
    "\n",
    "\n",
    "# 원본 데이터셋을 압축 해제한 디렉터리 경로\n",
    "original_dataset_dir = 'C:/Users/Affinity/org_train'\n",
    "\n",
    "# 소규모 데이터셋을 저장할 디렉터리\n",
    "base_dir = 'C:/Users/Affinity/asian_datasets'\n",
    "if os.path.exists(base_dir):  # 반복적인 실행을 위해 디렉토리를 삭제합니다.\n",
    "    shutil.rmtree(base_dir)   # 이 코드는 책에 포함되어 있지 않습니다.\n",
    "os.mkdir(base_dir)"
   ]
  },
  {
   "cell_type": "code",
   "execution_count": 2,
   "metadata": {},
   "outputs": [],
   "source": [
    "# 훈련, 검증, 테스트 분할을 위한 디렉터리\n",
    "train_dir = os.path.join(base_dir, 'train')\n",
    "os.mkdir(train_dir)\n",
    "validation_dir = os.path.join(base_dir, 'validation')\n",
    "os.mkdir(validation_dir)\n",
    "test_dir = os.path.join(base_dir, 'test')\n",
    "os.mkdir(test_dir)\n"
   ]
  },
  {
   "cell_type": "code",
   "execution_count": 3,
   "metadata": {},
   "outputs": [],
   "source": [
    "train_0_dir = os.path.join(train_dir, '0')\n",
    "os.mkdir(train_0_dir)\n",
    "\n",
    "validation_0_dir = os.path.join(validation_dir, '0')\n",
    "os.mkdir(validation_0_dir)\n",
    "\n",
    "test_0_dir = os.path.join(test_dir, '0')\n",
    "os.mkdir(test_0_dir)\n",
    "\n",
    "\n",
    "\n",
    "train_1_dir = os.path.join(train_dir, '1')\n",
    "os.mkdir(train_1_dir)\n",
    "\n",
    "validation_1_dir = os.path.join(validation_dir, '1')\n",
    "os.mkdir(validation_1_dir)\n",
    "\n",
    "test_1_dir = os.path.join(test_dir, '1')\n",
    "os.mkdir(test_1_dir)\n",
    "\n",
    "\n",
    "\n",
    "train_2_dir = os.path.join(train_dir, '2')\n",
    "os.mkdir(train_2_dir)\n",
    "\n",
    "validation_2_dir = os.path.join(validation_dir, '2')\n",
    "os.mkdir(validation_2_dir)\n",
    "\n",
    "test_2_dir = os.path.join(test_dir, '2')\n",
    "os.mkdir(test_2_dir)"
   ]
  },
  {
   "cell_type": "code",
   "execution_count": 4,
   "metadata": {},
   "outputs": [],
   "source": [
    "# non smile split\n",
    "\n",
    "fnames = ['non ({}).jpg'.format(i) for i in range(1,401)]\n",
    "for fname in fnames:\n",
    "    src = os.path.join(original_dataset_dir+ '/0', fname)\n",
    "    dst = os.path.join(train_0_dir, fname)\n",
    "    shutil.copyfile(src, dst)\n",
    "\n",
    "fnames = ['non ({}).jpg'.format(i) for i in range(901, 502)]\n",
    "for fname in fnames:\n",
    "    src = os.path.join(original_dataset_dir+ '/0', fname)\n",
    "    dst = os.path.join(validation_0_dir, fname)\n",
    "    shutil.copyfile(src, dst)\n",
    "    \n",
    "fnames = ['non ({}).jpg'.format(i) for i in range(502, 744)]\n",
    "for fname in fnames:\n",
    "    src = os.path.join(original_dataset_dir+ '/0', fname)\n",
    "    dst = os.path.join(test_0_dir, fname)\n",
    "    shutil.copyfile(src, dst)\n",
    "    \n",
    "\n",
    "# smile split\n",
    "\n",
    "fnames = ['smile ({}).jpg'.format(i) for i in range(1,401)]\n",
    "for fname in fnames:\n",
    "    src = os.path.join(original_dataset_dir+ '/1', fname)\n",
    "    dst = os.path.join(train_1_dir, fname)\n",
    "    shutil.copyfile(src, dst)\n",
    "\n",
    "fnames = ['smile ({}).jpg'.format(i) for i in range(901, 502)]\n",
    "for fname in fnames:\n",
    "    src = os.path.join(original_dataset_dir+ '/1', fname)\n",
    "    dst = os.path.join(validation_1_dir, fname)\n",
    "    shutil.copyfile(src, dst)\n",
    "    \n",
    "fnames = ['smile ({}).jpg'.format(i) for i in range(502, 601)]\n",
    "for fname in fnames:\n",
    "    src = os.path.join(original_dataset_dir+ '/1', fname)\n",
    "    dst = os.path.join(test_1_dir, fname)\n",
    "    shutil.copyfile(src, dst)\n",
    "\n",
    "    \n",
    "# non smile split\n",
    "\n",
    "fnames = ['fake ({}).jpg'.format(i) for i in range(1,401)]\n",
    "for fname in fnames:\n",
    "    src = os.path.join(original_dataset_dir+ '/2', fname)\n",
    "    dst = os.path.join(train_2_dir, fname)\n",
    "    shutil.copyfile(src, dst)\n",
    "\n",
    "fnames = ['fake ({}).jpg'.format(i) for i in range(401, 502)]\n",
    "for fname in fnames:\n",
    "    src = os.path.join(original_dataset_dir+ '/2', fname)\n",
    "    dst = os.path.join(validation_2_dir, fname)\n",
    "    shutil.copyfile(src, dst)\n",
    "    \n",
    "fnames = ['fake ({}).jpg'.format(i) for i in range(502, 837)]\n",
    "for fname in fnames:\n",
    "    src = os.path.join(original_dataset_dir+ '/2', fname)\n",
    "    dst = os.path.join(test_2_dir, fname)\n",
    "    shutil.copyfile(src, dst)"
   ]
  },
  {
   "cell_type": "code",
   "execution_count": null,
   "metadata": {},
   "outputs": [],
   "source": []
  },
  {
   "cell_type": "markdown",
   "metadata": {},
   "source": [
    "## dir 선언"
   ]
  },
  {
   "cell_type": "code",
   "execution_count": 8,
   "metadata": {},
   "outputs": [],
   "source": [
    "import os\n",
    "\n",
    "base_dir = 'C:/Users/Affinity/asian_datasets'\n",
    "train_dir = os.path.join(base_dir, 'train')\n",
    "validation_dir = os.path.join(base_dir, 'validation')\n",
    "test_dir = os.path.join(base_dir, 'test')\n",
    "train_0_dir = os.path.join(train_dir, '0')\n",
    "validation_0_dir = os.path.join(validation_dir, '0')\n",
    "test_0_dir = os.path.join(test_dir, '0')\n",
    "train_1_dir = os.path.join(train_dir, '1')\n",
    "validation_1_dir = os.path.join(validation_dir, '1')\n",
    "test_1_dir = os.path.join(test_dir, '1')\n",
    "train_2_dir = os.path.join(train_dir, '2')\n",
    "validation_2_dir = os.path.join(validation_dir, '2')\n",
    "test_2_dir = os.path.join(test_dir, '2')"
   ]
  },
  {
   "cell_type": "markdown",
   "metadata": {},
   "source": [
    "## yun2 vgg16 color flatten+dense(256,relu) + dropout(0.5) / "
   ]
  },
  {
   "cell_type": "code",
   "execution_count": 30,
   "metadata": {},
   "outputs": [],
   "source": [
    "from keras.applications import VGG16\n",
    "\n",
    "conv_base = VGG16(weights='imagenet',\n",
    "                  include_top=False,\n",
    "                  input_shape=(64, 64, 3))"
   ]
  },
  {
   "cell_type": "code",
   "execution_count": 31,
   "metadata": {},
   "outputs": [
    {
     "name": "stdout",
     "output_type": "stream",
     "text": [
      "_________________________________________________________________\n",
      "Layer (type)                 Output Shape              Param #   \n",
      "=================================================================\n",
      "input_2 (InputLayer)         (None, 64, 64, 3)         0         \n",
      "_________________________________________________________________\n",
      "block1_conv1 (Conv2D)        (None, 64, 64, 64)        1792      \n",
      "_________________________________________________________________\n",
      "block1_conv2 (Conv2D)        (None, 64, 64, 64)        36928     \n",
      "_________________________________________________________________\n",
      "block1_pool (MaxPooling2D)   (None, 32, 32, 64)        0         \n",
      "_________________________________________________________________\n",
      "block2_conv1 (Conv2D)        (None, 32, 32, 128)       73856     \n",
      "_________________________________________________________________\n",
      "block2_conv2 (Conv2D)        (None, 32, 32, 128)       147584    \n",
      "_________________________________________________________________\n",
      "block2_pool (MaxPooling2D)   (None, 16, 16, 128)       0         \n",
      "_________________________________________________________________\n",
      "block3_conv1 (Conv2D)        (None, 16, 16, 256)       295168    \n",
      "_________________________________________________________________\n",
      "block3_conv2 (Conv2D)        (None, 16, 16, 256)       590080    \n",
      "_________________________________________________________________\n",
      "block3_conv3 (Conv2D)        (None, 16, 16, 256)       590080    \n",
      "_________________________________________________________________\n",
      "block3_pool (MaxPooling2D)   (None, 8, 8, 256)         0         \n",
      "_________________________________________________________________\n",
      "block4_conv1 (Conv2D)        (None, 8, 8, 512)         1180160   \n",
      "_________________________________________________________________\n",
      "block4_conv2 (Conv2D)        (None, 8, 8, 512)         2359808   \n",
      "_________________________________________________________________\n",
      "block4_conv3 (Conv2D)        (None, 8, 8, 512)         2359808   \n",
      "_________________________________________________________________\n",
      "block4_pool (MaxPooling2D)   (None, 4, 4, 512)         0         \n",
      "_________________________________________________________________\n",
      "block5_conv1 (Conv2D)        (None, 4, 4, 512)         2359808   \n",
      "_________________________________________________________________\n",
      "block5_conv2 (Conv2D)        (None, 4, 4, 512)         2359808   \n",
      "_________________________________________________________________\n",
      "block5_conv3 (Conv2D)        (None, 4, 4, 512)         2359808   \n",
      "_________________________________________________________________\n",
      "block5_pool (MaxPooling2D)   (None, 2, 2, 512)         0         \n",
      "=================================================================\n",
      "Total params: 14,714,688\n",
      "Trainable params: 14,714,688\n",
      "Non-trainable params: 0\n",
      "_________________________________________________________________\n"
     ]
    }
   ],
   "source": [
    "conv_base.summary()"
   ]
  },
  {
   "cell_type": "code",
   "execution_count": 32,
   "metadata": {},
   "outputs": [
    {
     "name": "stdout",
     "output_type": "stream",
     "text": [
      "WARNING:tensorflow:From C:\\Users\\Affinity\\.conda\\envs\\keras\\lib\\site-packages\\keras\\backend\\tensorflow_backend.py:3445: calling dropout (from tensorflow.python.ops.nn_ops) with keep_prob is deprecated and will be removed in a future version.\n",
      "Instructions for updating:\n",
      "Please use `rate` instead of `keep_prob`. Rate should be set to `rate = 1 - keep_prob`.\n"
     ]
    }
   ],
   "source": [
    "\n",
    "\n",
    "from keras import models\n",
    "from keras import layers\n",
    "from keras import optimizers\n",
    "\n",
    "model = models.Sequential()\n",
    "\n",
    "model.add(conv_base)\n",
    "\n",
    "model.add(layers.Flatten())\n",
    "model.add(layers.Dense(256, activation='relu'))\n",
    "model.add(layers.Dropout(0.5))\n",
    "model.add(layers.Dense(3, activation='softmax'))"
   ]
  },
  {
   "cell_type": "code",
   "execution_count": 33,
   "metadata": {},
   "outputs": [
    {
     "name": "stdout",
     "output_type": "stream",
     "text": [
      "_________________________________________________________________\n",
      "Layer (type)                 Output Shape              Param #   \n",
      "=================================================================\n",
      "vgg16 (Model)                (None, 2, 2, 512)         14714688  \n",
      "_________________________________________________________________\n",
      "flatten_1 (Flatten)          (None, 2048)              0         \n",
      "_________________________________________________________________\n",
      "dense_1 (Dense)              (None, 256)               524544    \n",
      "_________________________________________________________________\n",
      "dropout_1 (Dropout)          (None, 256)               0         \n",
      "_________________________________________________________________\n",
      "dense_2 (Dense)              (None, 3)                 771       \n",
      "=================================================================\n",
      "Total params: 15,240,003\n",
      "Trainable params: 15,240,003\n",
      "Non-trainable params: 0\n",
      "_________________________________________________________________\n"
     ]
    }
   ],
   "source": [
    "model.summary()"
   ]
  },
  {
   "cell_type": "code",
   "execution_count": 34,
   "metadata": {},
   "outputs": [
    {
     "name": "stdout",
     "output_type": "stream",
     "text": [
      "conv_base를 동결하기 전 훈련되는 가중치의 수: 30\n",
      "conv_base를 동결한 후 훈련되는 가중치의 수: 4\n"
     ]
    }
   ],
   "source": [
    "print('conv_base를 동결하기 전 훈련되는 가중치의 수:', len(model.trainable_weights))\n",
    "conv_base.trainable =False\n",
    "print('conv_base를 동결한 후 훈련되는 가중치의 수:', len(model.trainable_weights))"
   ]
  },
  {
   "cell_type": "code",
   "execution_count": 35,
   "metadata": {},
   "outputs": [],
   "source": [
    "conv_base.trainable =True\n",
    "\n",
    "set_trainable = False\n",
    "for layer in conv_base.layers:\n",
    "    if layer.name == 'block5_conv1':\n",
    "        set_trainable = True\n",
    "    if set_trainable:\n",
    "        layer.trainable= True\n",
    "    else:\n",
    "        layer.trainable = False"
   ]
  },
  {
   "cell_type": "code",
   "execution_count": 36,
   "metadata": {},
   "outputs": [
    {
     "name": "stdout",
     "output_type": "stream",
     "text": [
      "훈련되는 가중치의 수: 10\n"
     ]
    }
   ],
   "source": [
    "print('훈련되는 가중치의 수:', len(model.trainable_weights))"
   ]
  },
  {
   "cell_type": "code",
   "execution_count": 37,
   "metadata": {},
   "outputs": [],
   "source": [
    "from keras import optimizers\n",
    "\n",
    "model.compile(loss='categorical_crossentropy',\n",
    "              optimizer=optimizers.RMSprop(lr=1e-4),\n",
    "              metrics=['acc'])"
   ]
  },
  {
   "cell_type": "code",
   "execution_count": 38,
   "metadata": {},
   "outputs": [
    {
     "name": "stdout",
     "output_type": "stream",
     "text": [
      "Found 1200 images belonging to 3 classes.\n",
      "Found 101 images belonging to 3 classes.\n",
      "Found 676 images belonging to 3 classes.\n"
     ]
    }
   ],
   "source": [
    "from keras.preprocessing.image import ImageDataGenerator\n",
    "'''\n",
    "ImageDataGenerator 클래스는 디스크에 있는 이미지 파일을 전처리된 배치 tensor로 자동 변환해주는 python generator\n",
    "'''\n",
    "# 모든 이미지를 1/255로 스케일을 조정합니다 -> 픽셀 값을 0~255 사이의 스케일을 [0,1] 사이로 조정 (신경망은 작은 입력 값을 선호) \n",
    "train_datagen = ImageDataGenerator(rescale=1./255)\n",
    "test_datagen = ImageDataGenerator(rescale=1./255)\n",
    "'''\n",
    "전체 Sample에서 Batch를 반복 반환하기 위한 generator\n",
    "'''\n",
    "train_generator = train_datagen.flow_from_directory(\n",
    "    # 타깃 디렉터리\n",
    "    train_dir,\n",
    "    # 모든 이미지를 150 × 150 크기로 바꿉니다\n",
    "    target_size=(64, 64),\n",
    "    batch_size=20,\n",
    "    # binary_crossentropy 손실을 사용하기 때문에 이진 레이블이 필요합니다\n",
    "    class_mode='categorical')\n",
    "\n",
    "validation_generator = test_datagen.flow_from_directory(\n",
    "    validation_dir,\n",
    "    target_size=(64, 64),\n",
    "    batch_size=20,\n",
    "    class_mode='categorical')\n",
    "\n",
    "##### test data Preprocessing\n",
    "test_generator = test_datagen.flow_from_directory(\n",
    "    test_dir,\n",
    "    target_size=(64, 64),\n",
    "    batch_size=20,\n",
    "    class_mode='categorical')"
   ]
  },
  {
   "cell_type": "code",
   "execution_count": 39,
   "metadata": {},
   "outputs": [
    {
     "name": "stdout",
     "output_type": "stream",
     "text": [
      "WARNING:tensorflow:From C:\\Users\\Affinity\\.conda\\envs\\keras\\lib\\site-packages\\tensorflow\\python\\ops\\math_ops.py:3066: to_int32 (from tensorflow.python.ops.math_ops) is deprecated and will be removed in a future version.\n",
      "Instructions for updating:\n",
      "Use tf.cast instead.\n",
      "Epoch 1/40\n",
      "100/100 [==============================] - 13s 129ms/step - loss: 0.9788 - acc: 0.5185 - val_loss: 1.1715 - val_acc: 0.4245\n",
      "Epoch 2/40\n",
      " 99/100 [============================>.] - ETA: 0s - loss: 0.7250 - acc: 0.6939"
     ]
    },
    {
     "ename": "KeyboardInterrupt",
     "evalue": "",
     "output_type": "error",
     "traceback": [
      "\u001b[1;31m---------------------------------------------------------------------------\u001b[0m",
      "\u001b[1;31mKeyboardInterrupt\u001b[0m                         Traceback (most recent call last)",
      "\u001b[1;32m<ipython-input-39-d13c5aee658b>\u001b[0m in \u001b[0;36m<module>\u001b[1;34m\u001b[0m\n\u001b[0;32m      3\u001b[0m                               \u001b[0mepochs\u001b[0m\u001b[1;33m=\u001b[0m\u001b[1;36m40\u001b[0m\u001b[1;33m,\u001b[0m\u001b[1;33m\u001b[0m\u001b[1;33m\u001b[0m\u001b[0m\n\u001b[0;32m      4\u001b[0m                               \u001b[0mvalidation_data\u001b[0m\u001b[1;33m=\u001b[0m\u001b[0mvalidation_generator\u001b[0m\u001b[1;33m,\u001b[0m\u001b[1;33m\u001b[0m\u001b[1;33m\u001b[0m\u001b[0m\n\u001b[1;32m----> 5\u001b[1;33m                               validation_steps=50)\n\u001b[0m",
      "\u001b[1;32m~\\.conda\\envs\\keras\\lib\\site-packages\\keras\\legacy\\interfaces.py\u001b[0m in \u001b[0;36mwrapper\u001b[1;34m(*args, **kwargs)\u001b[0m\n\u001b[0;32m     89\u001b[0m                 warnings.warn('Update your `' + object_name + '` call to the ' +\n\u001b[0;32m     90\u001b[0m                               'Keras 2 API: ' + signature, stacklevel=2)\n\u001b[1;32m---> 91\u001b[1;33m             \u001b[1;32mreturn\u001b[0m \u001b[0mfunc\u001b[0m\u001b[1;33m(\u001b[0m\u001b[1;33m*\u001b[0m\u001b[0margs\u001b[0m\u001b[1;33m,\u001b[0m \u001b[1;33m**\u001b[0m\u001b[0mkwargs\u001b[0m\u001b[1;33m)\u001b[0m\u001b[1;33m\u001b[0m\u001b[1;33m\u001b[0m\u001b[0m\n\u001b[0m\u001b[0;32m     92\u001b[0m         \u001b[0mwrapper\u001b[0m\u001b[1;33m.\u001b[0m\u001b[0m_original_function\u001b[0m \u001b[1;33m=\u001b[0m \u001b[0mfunc\u001b[0m\u001b[1;33m\u001b[0m\u001b[1;33m\u001b[0m\u001b[0m\n\u001b[0;32m     93\u001b[0m         \u001b[1;32mreturn\u001b[0m \u001b[0mwrapper\u001b[0m\u001b[1;33m\u001b[0m\u001b[1;33m\u001b[0m\u001b[0m\n",
      "\u001b[1;32m~\\.conda\\envs\\keras\\lib\\site-packages\\keras\\engine\\training.py\u001b[0m in \u001b[0;36mfit_generator\u001b[1;34m(self, generator, steps_per_epoch, epochs, verbose, callbacks, validation_data, validation_steps, class_weight, max_queue_size, workers, use_multiprocessing, shuffle, initial_epoch)\u001b[0m\n\u001b[0;32m   1416\u001b[0m             \u001b[0muse_multiprocessing\u001b[0m\u001b[1;33m=\u001b[0m\u001b[0muse_multiprocessing\u001b[0m\u001b[1;33m,\u001b[0m\u001b[1;33m\u001b[0m\u001b[1;33m\u001b[0m\u001b[0m\n\u001b[0;32m   1417\u001b[0m             \u001b[0mshuffle\u001b[0m\u001b[1;33m=\u001b[0m\u001b[0mshuffle\u001b[0m\u001b[1;33m,\u001b[0m\u001b[1;33m\u001b[0m\u001b[1;33m\u001b[0m\u001b[0m\n\u001b[1;32m-> 1418\u001b[1;33m             initial_epoch=initial_epoch)\n\u001b[0m\u001b[0;32m   1419\u001b[0m \u001b[1;33m\u001b[0m\u001b[0m\n\u001b[0;32m   1420\u001b[0m     \u001b[1;33m@\u001b[0m\u001b[0minterfaces\u001b[0m\u001b[1;33m.\u001b[0m\u001b[0mlegacy_generator_methods_support\u001b[0m\u001b[1;33m\u001b[0m\u001b[1;33m\u001b[0m\u001b[0m\n",
      "\u001b[1;32m~\\.conda\\envs\\keras\\lib\\site-packages\\keras\\engine\\training_generator.py\u001b[0m in \u001b[0;36mfit_generator\u001b[1;34m(model, generator, steps_per_epoch, epochs, verbose, callbacks, validation_data, validation_steps, class_weight, max_queue_size, workers, use_multiprocessing, shuffle, initial_epoch)\u001b[0m\n\u001b[0;32m    232\u001b[0m                             \u001b[0mval_enqueuer_gen\u001b[0m\u001b[1;33m,\u001b[0m\u001b[1;33m\u001b[0m\u001b[1;33m\u001b[0m\u001b[0m\n\u001b[0;32m    233\u001b[0m                             \u001b[0mvalidation_steps\u001b[0m\u001b[1;33m,\u001b[0m\u001b[1;33m\u001b[0m\u001b[1;33m\u001b[0m\u001b[0m\n\u001b[1;32m--> 234\u001b[1;33m                             workers=0)\n\u001b[0m\u001b[0;32m    235\u001b[0m                     \u001b[1;32melse\u001b[0m\u001b[1;33m:\u001b[0m\u001b[1;33m\u001b[0m\u001b[1;33m\u001b[0m\u001b[0m\n\u001b[0;32m    236\u001b[0m                         \u001b[1;31m# No need for try/except because\u001b[0m\u001b[1;33m\u001b[0m\u001b[1;33m\u001b[0m\u001b[1;33m\u001b[0m\u001b[0m\n",
      "\u001b[1;32m~\\.conda\\envs\\keras\\lib\\site-packages\\keras\\legacy\\interfaces.py\u001b[0m in \u001b[0;36mwrapper\u001b[1;34m(*args, **kwargs)\u001b[0m\n\u001b[0;32m     89\u001b[0m                 warnings.warn('Update your `' + object_name + '` call to the ' +\n\u001b[0;32m     90\u001b[0m                               'Keras 2 API: ' + signature, stacklevel=2)\n\u001b[1;32m---> 91\u001b[1;33m             \u001b[1;32mreturn\u001b[0m \u001b[0mfunc\u001b[0m\u001b[1;33m(\u001b[0m\u001b[1;33m*\u001b[0m\u001b[0margs\u001b[0m\u001b[1;33m,\u001b[0m \u001b[1;33m**\u001b[0m\u001b[0mkwargs\u001b[0m\u001b[1;33m)\u001b[0m\u001b[1;33m\u001b[0m\u001b[1;33m\u001b[0m\u001b[0m\n\u001b[0m\u001b[0;32m     92\u001b[0m         \u001b[0mwrapper\u001b[0m\u001b[1;33m.\u001b[0m\u001b[0m_original_function\u001b[0m \u001b[1;33m=\u001b[0m \u001b[0mfunc\u001b[0m\u001b[1;33m\u001b[0m\u001b[1;33m\u001b[0m\u001b[0m\n\u001b[0;32m     93\u001b[0m         \u001b[1;32mreturn\u001b[0m \u001b[0mwrapper\u001b[0m\u001b[1;33m\u001b[0m\u001b[1;33m\u001b[0m\u001b[0m\n",
      "\u001b[1;32m~\\.conda\\envs\\keras\\lib\\site-packages\\keras\\engine\\training.py\u001b[0m in \u001b[0;36mevaluate_generator\u001b[1;34m(self, generator, steps, max_queue_size, workers, use_multiprocessing, verbose)\u001b[0m\n\u001b[0;32m   1470\u001b[0m             \u001b[0mworkers\u001b[0m\u001b[1;33m=\u001b[0m\u001b[0mworkers\u001b[0m\u001b[1;33m,\u001b[0m\u001b[1;33m\u001b[0m\u001b[1;33m\u001b[0m\u001b[0m\n\u001b[0;32m   1471\u001b[0m             \u001b[0muse_multiprocessing\u001b[0m\u001b[1;33m=\u001b[0m\u001b[0muse_multiprocessing\u001b[0m\u001b[1;33m,\u001b[0m\u001b[1;33m\u001b[0m\u001b[1;33m\u001b[0m\u001b[0m\n\u001b[1;32m-> 1472\u001b[1;33m             verbose=verbose)\n\u001b[0m\u001b[0;32m   1473\u001b[0m \u001b[1;33m\u001b[0m\u001b[0m\n\u001b[0;32m   1474\u001b[0m     \u001b[1;33m@\u001b[0m\u001b[0minterfaces\u001b[0m\u001b[1;33m.\u001b[0m\u001b[0mlegacy_generator_methods_support\u001b[0m\u001b[1;33m\u001b[0m\u001b[1;33m\u001b[0m\u001b[0m\n",
      "\u001b[1;32m~\\.conda\\envs\\keras\\lib\\site-packages\\keras\\engine\\training_generator.py\u001b[0m in \u001b[0;36mevaluate_generator\u001b[1;34m(model, generator, steps, max_queue_size, workers, use_multiprocessing, verbose)\u001b[0m\n\u001b[0;32m    328\u001b[0m \u001b[1;33m\u001b[0m\u001b[0m\n\u001b[0;32m    329\u001b[0m         \u001b[1;32mwhile\u001b[0m \u001b[0msteps_done\u001b[0m \u001b[1;33m<\u001b[0m \u001b[0msteps\u001b[0m\u001b[1;33m:\u001b[0m\u001b[1;33m\u001b[0m\u001b[1;33m\u001b[0m\u001b[0m\n\u001b[1;32m--> 330\u001b[1;33m             \u001b[0mgenerator_output\u001b[0m \u001b[1;33m=\u001b[0m \u001b[0mnext\u001b[0m\u001b[1;33m(\u001b[0m\u001b[0moutput_generator\u001b[0m\u001b[1;33m)\u001b[0m\u001b[1;33m\u001b[0m\u001b[1;33m\u001b[0m\u001b[0m\n\u001b[0m\u001b[0;32m    331\u001b[0m             \u001b[1;32mif\u001b[0m \u001b[1;32mnot\u001b[0m \u001b[0mhasattr\u001b[0m\u001b[1;33m(\u001b[0m\u001b[0mgenerator_output\u001b[0m\u001b[1;33m,\u001b[0m \u001b[1;34m'__len__'\u001b[0m\u001b[1;33m)\u001b[0m\u001b[1;33m:\u001b[0m\u001b[1;33m\u001b[0m\u001b[1;33m\u001b[0m\u001b[0m\n\u001b[0;32m    332\u001b[0m                 raise ValueError('Output of generator should be a tuple '\n",
      "\u001b[1;32m~\\.conda\\envs\\keras\\lib\\site-packages\\keras\\utils\\data_utils.py\u001b[0m in \u001b[0;36mget\u001b[1;34m(self)\u001b[0m\n\u001b[0;32m    683\u001b[0m         \u001b[1;32mtry\u001b[0m\u001b[1;33m:\u001b[0m\u001b[1;33m\u001b[0m\u001b[1;33m\u001b[0m\u001b[0m\n\u001b[0;32m    684\u001b[0m             \u001b[1;32mwhile\u001b[0m \u001b[0mself\u001b[0m\u001b[1;33m.\u001b[0m\u001b[0mis_running\u001b[0m\u001b[1;33m(\u001b[0m\u001b[1;33m)\u001b[0m\u001b[1;33m:\u001b[0m\u001b[1;33m\u001b[0m\u001b[1;33m\u001b[0m\u001b[0m\n\u001b[1;32m--> 685\u001b[1;33m                 \u001b[0minputs\u001b[0m \u001b[1;33m=\u001b[0m \u001b[0mself\u001b[0m\u001b[1;33m.\u001b[0m\u001b[0mqueue\u001b[0m\u001b[1;33m.\u001b[0m\u001b[0mget\u001b[0m\u001b[1;33m(\u001b[0m\u001b[0mblock\u001b[0m\u001b[1;33m=\u001b[0m\u001b[1;32mTrue\u001b[0m\u001b[1;33m)\u001b[0m\u001b[1;33m.\u001b[0m\u001b[0mget\u001b[0m\u001b[1;33m(\u001b[0m\u001b[1;33m)\u001b[0m\u001b[1;33m\u001b[0m\u001b[1;33m\u001b[0m\u001b[0m\n\u001b[0m\u001b[0;32m    686\u001b[0m                 \u001b[0mself\u001b[0m\u001b[1;33m.\u001b[0m\u001b[0mqueue\u001b[0m\u001b[1;33m.\u001b[0m\u001b[0mtask_done\u001b[0m\u001b[1;33m(\u001b[0m\u001b[1;33m)\u001b[0m\u001b[1;33m\u001b[0m\u001b[1;33m\u001b[0m\u001b[0m\n\u001b[0;32m    687\u001b[0m                 \u001b[1;32mif\u001b[0m \u001b[0minputs\u001b[0m \u001b[1;32mis\u001b[0m \u001b[1;32mnot\u001b[0m \u001b[1;32mNone\u001b[0m\u001b[1;33m:\u001b[0m\u001b[1;33m\u001b[0m\u001b[1;33m\u001b[0m\u001b[0m\n",
      "\u001b[1;32m~\\.conda\\envs\\keras\\lib\\multiprocessing\\pool.py\u001b[0m in \u001b[0;36mget\u001b[1;34m(self, timeout)\u001b[0m\n\u001b[0;32m    636\u001b[0m \u001b[1;33m\u001b[0m\u001b[0m\n\u001b[0;32m    637\u001b[0m     \u001b[1;32mdef\u001b[0m \u001b[0mget\u001b[0m\u001b[1;33m(\u001b[0m\u001b[0mself\u001b[0m\u001b[1;33m,\u001b[0m \u001b[0mtimeout\u001b[0m\u001b[1;33m=\u001b[0m\u001b[1;32mNone\u001b[0m\u001b[1;33m)\u001b[0m\u001b[1;33m:\u001b[0m\u001b[1;33m\u001b[0m\u001b[1;33m\u001b[0m\u001b[0m\n\u001b[1;32m--> 638\u001b[1;33m         \u001b[0mself\u001b[0m\u001b[1;33m.\u001b[0m\u001b[0mwait\u001b[0m\u001b[1;33m(\u001b[0m\u001b[0mtimeout\u001b[0m\u001b[1;33m)\u001b[0m\u001b[1;33m\u001b[0m\u001b[1;33m\u001b[0m\u001b[0m\n\u001b[0m\u001b[0;32m    639\u001b[0m         \u001b[1;32mif\u001b[0m \u001b[1;32mnot\u001b[0m \u001b[0mself\u001b[0m\u001b[1;33m.\u001b[0m\u001b[0mready\u001b[0m\u001b[1;33m(\u001b[0m\u001b[1;33m)\u001b[0m\u001b[1;33m:\u001b[0m\u001b[1;33m\u001b[0m\u001b[1;33m\u001b[0m\u001b[0m\n\u001b[0;32m    640\u001b[0m             \u001b[1;32mraise\u001b[0m \u001b[0mTimeoutError\u001b[0m\u001b[1;33m\u001b[0m\u001b[1;33m\u001b[0m\u001b[0m\n",
      "\u001b[1;32m~\\.conda\\envs\\keras\\lib\\multiprocessing\\pool.py\u001b[0m in \u001b[0;36mwait\u001b[1;34m(self, timeout)\u001b[0m\n\u001b[0;32m    633\u001b[0m \u001b[1;33m\u001b[0m\u001b[0m\n\u001b[0;32m    634\u001b[0m     \u001b[1;32mdef\u001b[0m \u001b[0mwait\u001b[0m\u001b[1;33m(\u001b[0m\u001b[0mself\u001b[0m\u001b[1;33m,\u001b[0m \u001b[0mtimeout\u001b[0m\u001b[1;33m=\u001b[0m\u001b[1;32mNone\u001b[0m\u001b[1;33m)\u001b[0m\u001b[1;33m:\u001b[0m\u001b[1;33m\u001b[0m\u001b[1;33m\u001b[0m\u001b[0m\n\u001b[1;32m--> 635\u001b[1;33m         \u001b[0mself\u001b[0m\u001b[1;33m.\u001b[0m\u001b[0m_event\u001b[0m\u001b[1;33m.\u001b[0m\u001b[0mwait\u001b[0m\u001b[1;33m(\u001b[0m\u001b[0mtimeout\u001b[0m\u001b[1;33m)\u001b[0m\u001b[1;33m\u001b[0m\u001b[1;33m\u001b[0m\u001b[0m\n\u001b[0m\u001b[0;32m    636\u001b[0m \u001b[1;33m\u001b[0m\u001b[0m\n\u001b[0;32m    637\u001b[0m     \u001b[1;32mdef\u001b[0m \u001b[0mget\u001b[0m\u001b[1;33m(\u001b[0m\u001b[0mself\u001b[0m\u001b[1;33m,\u001b[0m \u001b[0mtimeout\u001b[0m\u001b[1;33m=\u001b[0m\u001b[1;32mNone\u001b[0m\u001b[1;33m)\u001b[0m\u001b[1;33m:\u001b[0m\u001b[1;33m\u001b[0m\u001b[1;33m\u001b[0m\u001b[0m\n",
      "\u001b[1;32m~\\.conda\\envs\\keras\\lib\\threading.py\u001b[0m in \u001b[0;36mwait\u001b[1;34m(self, timeout)\u001b[0m\n\u001b[0;32m    549\u001b[0m             \u001b[0msignaled\u001b[0m \u001b[1;33m=\u001b[0m \u001b[0mself\u001b[0m\u001b[1;33m.\u001b[0m\u001b[0m_flag\u001b[0m\u001b[1;33m\u001b[0m\u001b[1;33m\u001b[0m\u001b[0m\n\u001b[0;32m    550\u001b[0m             \u001b[1;32mif\u001b[0m \u001b[1;32mnot\u001b[0m \u001b[0msignaled\u001b[0m\u001b[1;33m:\u001b[0m\u001b[1;33m\u001b[0m\u001b[1;33m\u001b[0m\u001b[0m\n\u001b[1;32m--> 551\u001b[1;33m                 \u001b[0msignaled\u001b[0m \u001b[1;33m=\u001b[0m \u001b[0mself\u001b[0m\u001b[1;33m.\u001b[0m\u001b[0m_cond\u001b[0m\u001b[1;33m.\u001b[0m\u001b[0mwait\u001b[0m\u001b[1;33m(\u001b[0m\u001b[0mtimeout\u001b[0m\u001b[1;33m)\u001b[0m\u001b[1;33m\u001b[0m\u001b[1;33m\u001b[0m\u001b[0m\n\u001b[0m\u001b[0;32m    552\u001b[0m             \u001b[1;32mreturn\u001b[0m \u001b[0msignaled\u001b[0m\u001b[1;33m\u001b[0m\u001b[1;33m\u001b[0m\u001b[0m\n\u001b[0;32m    553\u001b[0m \u001b[1;33m\u001b[0m\u001b[0m\n",
      "\u001b[1;32m~\\.conda\\envs\\keras\\lib\\threading.py\u001b[0m in \u001b[0;36mwait\u001b[1;34m(self, timeout)\u001b[0m\n\u001b[0;32m    293\u001b[0m         \u001b[1;32mtry\u001b[0m\u001b[1;33m:\u001b[0m    \u001b[1;31m# restore state no matter what (e.g., KeyboardInterrupt)\u001b[0m\u001b[1;33m\u001b[0m\u001b[1;33m\u001b[0m\u001b[0m\n\u001b[0;32m    294\u001b[0m             \u001b[1;32mif\u001b[0m \u001b[0mtimeout\u001b[0m \u001b[1;32mis\u001b[0m \u001b[1;32mNone\u001b[0m\u001b[1;33m:\u001b[0m\u001b[1;33m\u001b[0m\u001b[1;33m\u001b[0m\u001b[0m\n\u001b[1;32m--> 295\u001b[1;33m                 \u001b[0mwaiter\u001b[0m\u001b[1;33m.\u001b[0m\u001b[0macquire\u001b[0m\u001b[1;33m(\u001b[0m\u001b[1;33m)\u001b[0m\u001b[1;33m\u001b[0m\u001b[1;33m\u001b[0m\u001b[0m\n\u001b[0m\u001b[0;32m    296\u001b[0m                 \u001b[0mgotit\u001b[0m \u001b[1;33m=\u001b[0m \u001b[1;32mTrue\u001b[0m\u001b[1;33m\u001b[0m\u001b[1;33m\u001b[0m\u001b[0m\n\u001b[0;32m    297\u001b[0m             \u001b[1;32melse\u001b[0m\u001b[1;33m:\u001b[0m\u001b[1;33m\u001b[0m\u001b[1;33m\u001b[0m\u001b[0m\n",
      "\u001b[1;31mKeyboardInterrupt\u001b[0m: "
     ]
    }
   ],
   "source": [
    "history = model.fit_generator(train_generator,\n",
    "                              steps_per_epoch=100,\n",
    "                              epochs=40,\n",
    "                              validation_data=validation_generator,\n",
    "                              validation_steps=50)"
   ]
  },
  {
   "cell_type": "code",
   "execution_count": 28,
   "metadata": {},
   "outputs": [
    {
     "name": "stdout",
     "output_type": "stream",
     "text": [
      "loss:  0.12530176138891633\n",
      "val loss:  2.4203039818489573\n",
      "acc:  0.9577374986466023\n",
      "val acc:  0.6589547666211916\n"
     ]
    }
   ],
   "source": [
    "import numpy as np\n",
    "\n",
    "history_dict = history.history\n",
    "history_dict.keys()\n",
    "\n",
    "acc = history.history['acc']\n",
    "val_acc = history.history['val_acc']\n",
    "loss = history.history['loss']\n",
    "val_loss = history.history['val_loss']\n",
    "\n",
    "print(\"loss: \", np.mean(loss))\n",
    "print(\"val loss: \", np.mean(val_loss))\n",
    "\n",
    "print(\"acc: \", np.mean(acc))\n",
    "print(\"val acc: \", np.mean(val_acc))"
   ]
  },
  {
   "cell_type": "markdown",
   "metadata": {},
   "source": [
    "## yun3 - 2의 early stop"
   ]
  },
  {
   "cell_type": "code",
   "execution_count": 40,
   "metadata": {
    "scrolled": false
   },
   "outputs": [
    {
     "name": "stdout",
     "output_type": "stream",
     "text": [
      "Epoch 1/40\n",
      "100/100 [==============================] - 19s 189ms/step - loss: 0.5141 - acc: 0.7845 - val_loss: 0.7488 - val_acc: 0.6935\n",
      "Epoch 2/40\n",
      "100/100 [==============================] - 20s 195ms/step - loss: 0.3599 - acc: 0.8620 - val_loss: 0.8646 - val_acc: 0.6350\n",
      "Epoch 3/40\n",
      "100/100 [==============================] - 21s 207ms/step - loss: 0.2345 - acc: 0.9160 - val_loss: 0.5681 - val_acc: 0.8002\n",
      "Epoch 4/40\n",
      "100/100 [==============================] - 23s 226ms/step - loss: 0.1560 - acc: 0.9485 - val_loss: 1.2670 - val_acc: 0.7018\n",
      "Epoch 5/40\n",
      "100/100 [==============================] - 23s 231ms/step - loss: 0.1207 - acc: 0.9595 - val_loss: 0.7743 - val_acc: 0.8514\n",
      "Epoch 6/40\n",
      "100/100 [==============================] - 27s 266ms/step - loss: 0.0589 - acc: 0.9775 - val_loss: 1.5654 - val_acc: 0.6535\n"
     ]
    }
   ],
   "source": [
    "from keras.callbacks import EarlyStopping, ModelCheckpoint\n",
    "#ModelCheckpoint 구조정보, 각각 w에 할당되는 값을 저장\n",
    "\n",
    "callbacks_list = [EarlyStopping(monitor='val_loss', patience=3),\n",
    "                  ModelCheckpoint(filepath='EarlyStopModel.h5', monitor='val_loss', save_best_only=True)]\n",
    "\n",
    "history = model.fit_generator(train_generator,\n",
    "                              validation_data=validation_generator,\n",
    "                              validation_steps=100,\n",
    "                              epochs=40,\n",
    "                              steps_per_epoch=100,\n",
    "                              callbacks=callbacks_list)"
   ]
  },
  {
   "cell_type": "code",
   "execution_count": 41,
   "metadata": {},
   "outputs": [
    {
     "name": "stdout",
     "output_type": "stream",
     "text": [
      "loss:  0.24066654688698083\n",
      "val loss:  0.9646896182949888\n",
      "acc:  0.9079999960462252\n",
      "val acc:  0.7225956737836702\n"
     ]
    }
   ],
   "source": [
    "import numpy as np\n",
    "\n",
    "history_dict = history.history\n",
    "history_dict.keys()\n",
    "\n",
    "acc = history.history['acc']\n",
    "val_acc = history.history['val_acc']\n",
    "loss = history.history['loss']\n",
    "val_loss = history.history['val_loss']\n",
    "\n",
    "print(\"loss: \", np.mean(loss))\n",
    "print(\"val loss: \", np.mean(val_loss))\n",
    "\n",
    "print(\"acc: \", np.mean(acc))\n",
    "print(\"val acc: \", np.mean(val_acc))"
   ]
  },
  {
   "cell_type": "code",
   "execution_count": 1,
   "metadata": {},
   "outputs": [
    {
     "name": "stderr",
     "output_type": "stream",
     "text": [
      "Using TensorFlow backend.\n"
     ]
    },
    {
     "name": "stdout",
     "output_type": "stream",
     "text": [
      "WARNING:tensorflow:From C:\\Users\\Affinity\\.conda\\envs\\keras\\lib\\site-packages\\tensorflow\\python\\framework\\op_def_library.py:263: colocate_with (from tensorflow.python.framework.ops) is deprecated and will be removed in a future version.\n",
      "Instructions for updating:\n",
      "Colocations handled automatically by placer.\n",
      "WARNING:tensorflow:From C:\\Users\\Affinity\\.conda\\envs\\keras\\lib\\site-packages\\keras\\backend\\tensorflow_backend.py:3445: calling dropout (from tensorflow.python.ops.nn_ops) with keep_prob is deprecated and will be removed in a future version.\n",
      "Instructions for updating:\n",
      "Please use `rate` instead of `keep_prob`. Rate should be set to `rate = 1 - keep_prob`.\n",
      "WARNING:tensorflow:From C:\\Users\\Affinity\\.conda\\envs\\keras\\lib\\site-packages\\tensorflow\\python\\ops\\math_ops.py:3066: to_int32 (from tensorflow.python.ops.math_ops) is deprecated and will be removed in a future version.\n",
      "Instructions for updating:\n",
      "Use tf.cast instead.\n",
      ">> model load!!\n"
     ]
    }
   ],
   "source": [
    "from keras.models import load_model\n",
    "\n",
    "model = load_model('EarlyStopModel.h5')\n",
    "print('>> model load!!')"
   ]
  },
  {
   "cell_type": "code",
   "execution_count": 20,
   "metadata": {},
   "outputs": [
    {
     "ename": "NameError",
     "evalue": "name 'test_generator' is not defined",
     "output_type": "error",
     "traceback": [
      "\u001b[1;31m---------------------------------------------------------------------------\u001b[0m",
      "\u001b[1;31mNameError\u001b[0m                                 Traceback (most recent call last)",
      "\u001b[1;32m<ipython-input-20-a3172943683b>\u001b[0m in \u001b[0;36m<module>\u001b[1;34m\u001b[0m\n\u001b[1;32m----> 1\u001b[1;33m \u001b[0mtest_loss\u001b[0m\u001b[1;33m,\u001b[0m \u001b[0mtest_acc\u001b[0m \u001b[1;33m=\u001b[0m \u001b[0mmodel\u001b[0m\u001b[1;33m.\u001b[0m\u001b[0mevaluate_generator\u001b[0m\u001b[1;33m(\u001b[0m\u001b[0mtest_generator\u001b[0m\u001b[1;33m,\u001b[0m \u001b[0msteps\u001b[0m\u001b[1;33m=\u001b[0m\u001b[1;36m5\u001b[0m\u001b[1;33m)\u001b[0m\u001b[1;33m\u001b[0m\u001b[1;33m\u001b[0m\u001b[0m\n\u001b[0m\u001b[0;32m      2\u001b[0m \u001b[0mprint\u001b[0m\u001b[1;33m(\u001b[0m\u001b[1;34m'test loss: '\u001b[0m\u001b[1;33m,\u001b[0m \u001b[0mtest_loss\u001b[0m\u001b[1;33m)\u001b[0m\u001b[1;33m\u001b[0m\u001b[1;33m\u001b[0m\u001b[0m\n\u001b[0;32m      3\u001b[0m \u001b[0mprint\u001b[0m\u001b[1;33m(\u001b[0m\u001b[1;34m'test acc: '\u001b[0m\u001b[1;33m,\u001b[0m \u001b[0mtest_acc\u001b[0m\u001b[1;33m)\u001b[0m\u001b[1;33m\u001b[0m\u001b[1;33m\u001b[0m\u001b[0m\n",
      "\u001b[1;31mNameError\u001b[0m: name 'test_generator' is not defined"
     ]
    }
   ],
   "source": [
    "test_loss, test_acc = model.evaluate_generator(test_generator, steps=5)\n",
    "print('test loss: ', test_loss)\n",
    "print('test acc: ', test_acc)"
   ]
  },
  {
   "cell_type": "markdown",
   "metadata": {},
   "source": [
    "## 개별 사진 test"
   ]
  },
  {
   "cell_type": "code",
   "execution_count": 6,
   "metadata": {},
   "outputs": [
    {
     "name": "stdout",
     "output_type": "stream",
     "text": [
      "[[[155 155 155]\n",
      "  [155 155 155]\n",
      "  [155 155 155]\n",
      "  ...\n",
      "  [153 153 153]\n",
      "  [153 153 153]\n",
      "  [153 153 153]]\n",
      "\n",
      " [[155 155 155]\n",
      "  [155 155 155]\n",
      "  [155 155 155]\n",
      "  ...\n",
      "  [153 153 153]\n",
      "  [153 153 153]\n",
      "  [153 153 153]]\n",
      "\n",
      " [[155 155 155]\n",
      "  [155 155 155]\n",
      "  [155 155 155]\n",
      "  ...\n",
      "  [154 154 154]\n",
      "  [154 154 154]\n",
      "  [154 154 154]]\n",
      "\n",
      " ...\n",
      "\n",
      " [[217 217 217]\n",
      "  [218 218 218]\n",
      "  [218 218 218]\n",
      "  ...\n",
      "  [214 214 214]\n",
      "  [214 214 214]\n",
      "  [214 214 214]]\n",
      "\n",
      " [[218 218 218]\n",
      "  [218 218 218]\n",
      "  [218 218 218]\n",
      "  ...\n",
      "  [214 214 214]\n",
      "  [214 214 214]\n",
      "  [214 214 214]]\n",
      "\n",
      " [[218 218 218]\n",
      "  [218 218 218]\n",
      "  [219 219 219]\n",
      "  ...\n",
      "  [214 214 214]\n",
      "  [214 214 214]\n",
      "  [214 214 214]]]\n"
     ]
    }
   ],
   "source": [
    "import matplotlib.pyplot as plt\n",
    "import cv2\n",
    "\n",
    "img = cv2.imread('C:/Users/Affinity/asian_datasets/test/2/fake (530).jpg', cv2.IMREAD_COLOR)\n",
    "print(img)"
   ]
  },
  {
   "cell_type": "code",
   "execution_count": 37,
   "metadata": {},
   "outputs": [
    {
     "data": {
      "image/png": "[encoded data removed]",
      "text/plain": [
       "<Figure size 432x288 with 1 Axes>"
      ]
     },
     "metadata": {
      "needs_background": "light"
     },
     "output_type": "display_data"
    },
    {
     "name": "stdout",
     "output_type": "stream",
     "text": [
      "[[무표정(%), 진짜 웃음(%), 가짜 웃음(%)]] = [[0.10% 0.08% 99.82%]]\n"
     ]
    }
   ],
   "source": [
    "b, g, r = cv2.split(img)   # img파일을 b,g,r로 분리\n",
    "img2 = cv2.merge([r,g,b]) # b, r을 바꿔서 Merge\n",
    "\n",
    "img3 = img2 # copy\n",
    "\n",
    "img2 = cv2.resize(img2, dsize=(64, 64), interpolation=cv2.INTER_CUBIC)\n",
    "img2 = img2.astype('float32') / 255\n",
    "img2 = img2.reshape((1, 64, 64, 3))\n",
    "\n",
    "\n",
    "predict_img = model.predict(img2, steps=1)\n",
    "\n",
    "plt.imshow(img3)\n",
    "plt.show()\n",
    "\n",
    "np.set_printoptions(formatter={'float': lambda x: \"{0:0.2f}%\".format(x*100)})\n",
    "print(\"[[무표정(%), 진짜 웃음(%), 가짜 웃음(%)]] =\" , predict_img)"
   ]
  },
  {
   "cell_type": "code",
   "execution_count": null,
   "metadata": {},
   "outputs": [],
   "source": []
  },
  {
   "cell_type": "code",
   "execution_count": null,
   "metadata": {},
   "outputs": [],
   "source": []
  },
  {
   "cell_type": "markdown",
   "metadata": {},
   "source": [
    "## yun2 시각화"
   ]
  },
  {
   "cell_type": "code",
   "execution_count": null,
   "metadata": {},
   "outputs": [],
   "source": []
  },
  {
   "cell_type": "code",
   "execution_count": null,
   "metadata": {},
   "outputs": [],
   "source": []
  },
  {
   "cell_type": "code",
   "execution_count": null,
   "metadata": {},
   "outputs": [],
   "source": []
  },
  {
   "cell_type": "code",
   "execution_count": null,
   "metadata": {},
   "outputs": [],
   "source": []
  },
  {
   "cell_type": "code",
   "execution_count": null,
   "metadata": {},
   "outputs": [],
   "source": []
  },
  {
   "cell_type": "code",
   "execution_count": null,
   "metadata": {},
   "outputs": [],
   "source": []
  },
  {
   "cell_type": "code",
   "execution_count": null,
   "metadata": {},
   "outputs": [],
   "source": []
  },
  {
   "cell_type": "markdown",
   "metadata": {},
   "source": [
    "## Data agumentation"
   ]
  },
  {
   "cell_type": "code",
   "execution_count": null,
   "metadata": {},
   "outputs": [],
   "source": [
    "# Training Data의 조작, 변형\n",
    "train_datagen = ImageDataGenerator(\n",
    "    rescale=1./255,\n",
    "    rotation_range=40,\n",
    "    width_shift_range=0.2,\n",
    "    height_shift_range=0.2,\n",
    "    shear_range=0.2,\n",
    "    zoom_range=0.2,\n",
    "    horizontal_flip=True,)\n",
    "\n",
    "# 검증 데이터는 증식되어서는 안 됩니다!\n",
    "test_datagen = ImageDataGenerator(rescale=1./255)\n",
    "\n",
    "train_generator = train_datagen.flow_from_directory(\n",
    "        # 타깃 디렉터리\n",
    "        train_dir,\n",
    "        # 모든 이미지를 150 × 150 크기로 바꿉니다\n",
    "        target_size=(64, 64),\n",
    "        batch_size=32,\n",
    "        # binary_crossentropy 손실을 사용하기 때문에 이진 레이블을 만들어야 합니다\n",
    "        class_mode='categorical')\n",
    "\n",
    "# Validation Data는 데이터 조작 하지 않음\n",
    "validation_generator = test_datagen.flow_from_directory(\n",
    "        validation_dir,\n",
    "        target_size=(64, 64),\n",
    "        batch_size=32,\n",
    "        class_mode='categorical')\n",
    "\n",
    "# Training Model \n",
    "history = model.fit_generator(\n",
    "      train_generator,          # training data -> 한 epoch에 32 x 100 = 3200 -> 100 epoch -> 320,000 images \n",
    "      steps_per_epoch=100,      # generator에선 데이터가 끝없이 생성되기 때문에, 하나의 epoch에서 얼마나 많은 샘플을 뽑을 것인지 \n",
    "      epochs=40,               # 전체 / 배치사이즈 -> steps_per_epoch -> 직접 설정\n",
    "      validation_data=validation_generator,\n",
    "      validation_steps=50)"
   ]
  },
  {
   "cell_type": "markdown",
   "metadata": {},
   "source": [
    "## Define network2"
   ]
  },
  {
   "cell_type": "code",
   "execution_count": null,
   "metadata": {},
   "outputs": [],
   "source": [
    "from keras import layers\n",
    "from keras import models\n",
    "\n",
    "model = models.Sequential()\n",
    "\n",
    "model.add(layers.Conv2D(32, (3, 3), activation='relu', input_shape=(64, 64, 1)))\n",
    "model.add(layers.MaxPooling2D((2, 2)))\n",
    "model.add(layers.Conv2D(64, (3, 3), activation='tanh'))\n",
    "model.add(layers.MaxPooling2D((2, 2)))\n",
    "model.add(layers.Conv2D(64, (3, 3), activation='relu'))\n",
    "model.add(layers.Flatten())\n",
    "\n",
    "model.add(layers.Dense(64, activation='relu'))\n",
    "model.add(layers.Dense(3, activation='softmax'))"
   ]
  },
  {
   "cell_type": "markdown",
   "metadata": {},
   "source": [
    "## 조기종료 콜백함수"
   ]
  },
  {
   "cell_type": "code",
   "execution_count": null,
   "metadata": {},
   "outputs": [],
   "source": [
    "from keras.models import Sequential\n",
    "from keras.layers import Dense\n",
    "from keras.callbacks import EarlyStopping, ModelCheckpoint\n",
    "#ModelCheckpoint 구조정보, 각각 w에 할당되는 값을 저장\n",
    "\n",
    "EarlyStopModel = Sequential()\n",
    "EarlyStopModel.add(Dense(16, activation='relu', input_shape=(10000,)))\n",
    "EarlyStopModel.add(Dense(16, activation='relu'))\n",
    "EarlyStopModel.add(Dense(1, activation='sigmoid'))\n",
    "\n",
    "EarlyStopModel.compile(optimizer = 'rmsprop',\n",
    "              loss = 'binary_crossentropy',\n",
    "              metrics = ['accuracy'])\n",
    "\n",
    "callbacks_list = [EarlyStopping(monitor='val_loss', patience=3),\n",
    "                  ModelCheckpoint(filepath='EarlyStopModel.h5', monitor='val_loss', save_best_only=True)]\n",
    "\n",
    "# patience : n , mini-batch를 쓰면 오르락내리락을 할 수 있어서 오버피팅 되기전에 \n",
    "# 올라갔다 다시 내려갈 수 있어서 n번정도는 기다려준다.\n",
    "\n",
    "# 상대경로 : (모델 구조저장하는)포맷h5 --> model.h5 또는 ./model.h5==>파이썬을 돌리는 현재 경로에 저장\n",
    "# ../model.h5 : 현재 경로의 상위 폴더\n",
    "# 절대 경로 : 'C:/~/~/~/.model.h5'\n",
    "\n",
    "# save_best_only = 'True' best만 저장\n",
    "\n",
    "history = EarlyStopModel.fit(X_train,\n",
    "                             y_train, \n",
    "                             epochs=20,\n",
    "                             batch_size=256,\n",
    "                             validation_data=(X_valid, y_valid),\n",
    "                             callbacks = callbacks_list)\n",
    "\n",
    "#generator 쓸 때\n",
    "\n",
    "callbacks_list = [EarlyStopping(monitor='val_loss', patience=3),\n",
    "                  ModelCheckpoint(filepath='EarlyStopModel.h5', monitor='val_loss', save_best_only=True)]\n",
    "\n",
    "history = model.fit(train_generator,\n",
    "                   epochs=20,\n",
    "                   batch_size=20\n",
    "                   validation_data=validation_generator,\n",
    "                   callbacks = callbacks_list)"
   ]
  },
  {
   "cell_type": "markdown",
   "metadata": {},
   "source": [
    "## 조기종료 학습과정 확인"
   ]
  },
  {
   "cell_type": "code",
   "execution_count": null,
   "metadata": {},
   "outputs": [],
   "source": [
    "import matplotlib.pyplot as plt\n",
    "%matplotlib inline\n",
    "\n",
    "loss, val_loss = history.history['loss'], history.history['val_loss']\n",
    "epochs = range(1, len(loss)+1)\n",
    "\n",
    "plt.plot(epochs, loss, 'b', label='Training loss') # 'b'는 파란색 실선을 의미\n",
    "plt.plot(epochs, val_loss, 'bo', label='Validation loss') # 'bo'는 파란색 점을 의미\n",
    "plt.title('Training and validation loss')\n",
    "plt.xlabel('Epochs')\n",
    "plt.ylabel('Loss')\n",
    "plt.xticks(epochs)\n",
    "plt.legend()\n",
    "\n",
    "plt.show()"
   ]
  },
  {
   "cell_type": "markdown",
   "metadata": {},
   "source": [
    "## 최적 모델 불러오기"
   ]
  },
  {
   "cell_type": "code",
   "execution_count": null,
   "metadata": {},
   "outputs": [],
   "source": [
    "from keras.models import load_model\n",
    "\n",
    "model = load_model('EarlyStopModel.h5')\n",
    "print('>> model load!!')"
   ]
  },
  {
   "cell_type": "markdown",
   "metadata": {},
   "source": [
    "## 성능평가"
   ]
  },
  {
   "cell_type": "code",
   "execution_count": null,
   "metadata": {},
   "outputs": [],
   "source": [
    "test_loss, test_acc = model.evaluate(X_test, y_test)\n",
    "print('test loss: ', test_loss)\n",
    "print('test acc: ', test_acc)\n",
    "\n",
    "#저장된 모델 불러올 때 from keras.model import load_model\n",
    "\n",
    "\n",
    "#generator는\n",
    "test_loss, test_acc = model.evaluate_generator(test_generator, steps=5)\n",
    "print('test loss: ', test_loss)\n",
    "print('test acc: ', test_acc)"
   ]
  },
  {
   "cell_type": "code",
   "execution_count": 7,
   "metadata": {},
   "outputs": [
    {
     "ename": "FileNotFoundError",
     "evalue": "[WinError 3] 지정된 경로를 찾을 수 없습니다: 'C:/Users/Affinity/smile_datasets\\\\test'",
     "output_type": "error",
     "traceback": [
      "\u001b[1;31m---------------------------------------------------------------------------\u001b[0m",
      "\u001b[1;31mFileNotFoundError\u001b[0m                         Traceback (most recent call last)",
      "\u001b[1;32m<ipython-input-7-cf6315cdcd7a>\u001b[0m in \u001b[0;36m<module>\u001b[1;34m\u001b[0m\n\u001b[0;32m      3\u001b[0m     \u001b[0mtarget_size\u001b[0m\u001b[1;33m=\u001b[0m\u001b[1;33m(\u001b[0m\u001b[1;36m64\u001b[0m\u001b[1;33m,\u001b[0m \u001b[1;36m64\u001b[0m\u001b[1;33m)\u001b[0m\u001b[1;33m,\u001b[0m\u001b[1;33m\u001b[0m\u001b[1;33m\u001b[0m\u001b[0m\n\u001b[0;32m      4\u001b[0m     \u001b[0mbatch_size\u001b[0m\u001b[1;33m=\u001b[0m\u001b[1;36m20\u001b[0m\u001b[1;33m,\u001b[0m\u001b[1;33m\u001b[0m\u001b[1;33m\u001b[0m\u001b[0m\n\u001b[1;32m----> 5\u001b[1;33m     class_mode='categorical')\n\u001b[0m",
      "\u001b[1;32m~\\.conda\\envs\\keras\\lib\\site-packages\\keras_preprocessing\\image\\image_data_generator.py\u001b[0m in \u001b[0;36mflow_from_directory\u001b[1;34m(self, directory, target_size, color_mode, classes, class_mode, batch_size, shuffle, seed, save_to_dir, save_prefix, save_format, follow_links, subset, interpolation)\u001b[0m\n\u001b[0;32m    538\u001b[0m             \u001b[0mfollow_links\u001b[0m\u001b[1;33m=\u001b[0m\u001b[0mfollow_links\u001b[0m\u001b[1;33m,\u001b[0m\u001b[1;33m\u001b[0m\u001b[1;33m\u001b[0m\u001b[0m\n\u001b[0;32m    539\u001b[0m             \u001b[0msubset\u001b[0m\u001b[1;33m=\u001b[0m\u001b[0msubset\u001b[0m\u001b[1;33m,\u001b[0m\u001b[1;33m\u001b[0m\u001b[1;33m\u001b[0m\u001b[0m\n\u001b[1;32m--> 540\u001b[1;33m             \u001b[0minterpolation\u001b[0m\u001b[1;33m=\u001b[0m\u001b[0minterpolation\u001b[0m\u001b[1;33m\u001b[0m\u001b[1;33m\u001b[0m\u001b[0m\n\u001b[0m\u001b[0;32m    541\u001b[0m         )\n\u001b[0;32m    542\u001b[0m \u001b[1;33m\u001b[0m\u001b[0m\n",
      "\u001b[1;32m~\\.conda\\envs\\keras\\lib\\site-packages\\keras_preprocessing\\image\\directory_iterator.py\u001b[0m in \u001b[0;36m__init__\u001b[1;34m(self, directory, image_data_generator, target_size, color_mode, classes, class_mode, batch_size, shuffle, seed, data_format, save_to_dir, save_prefix, save_format, follow_links, subset, interpolation, dtype)\u001b[0m\n\u001b[0;32m    104\u001b[0m         \u001b[1;32mif\u001b[0m \u001b[1;32mnot\u001b[0m \u001b[0mclasses\u001b[0m\u001b[1;33m:\u001b[0m\u001b[1;33m\u001b[0m\u001b[1;33m\u001b[0m\u001b[0m\n\u001b[0;32m    105\u001b[0m             \u001b[0mclasses\u001b[0m \u001b[1;33m=\u001b[0m \u001b[1;33m[\u001b[0m\u001b[1;33m]\u001b[0m\u001b[1;33m\u001b[0m\u001b[1;33m\u001b[0m\u001b[0m\n\u001b[1;32m--> 106\u001b[1;33m             \u001b[1;32mfor\u001b[0m \u001b[0msubdir\u001b[0m \u001b[1;32min\u001b[0m \u001b[0msorted\u001b[0m\u001b[1;33m(\u001b[0m\u001b[0mos\u001b[0m\u001b[1;33m.\u001b[0m\u001b[0mlistdir\u001b[0m\u001b[1;33m(\u001b[0m\u001b[0mdirectory\u001b[0m\u001b[1;33m)\u001b[0m\u001b[1;33m)\u001b[0m\u001b[1;33m:\u001b[0m\u001b[1;33m\u001b[0m\u001b[1;33m\u001b[0m\u001b[0m\n\u001b[0m\u001b[0;32m    107\u001b[0m                 \u001b[1;32mif\u001b[0m \u001b[0mos\u001b[0m\u001b[1;33m.\u001b[0m\u001b[0mpath\u001b[0m\u001b[1;33m.\u001b[0m\u001b[0misdir\u001b[0m\u001b[1;33m(\u001b[0m\u001b[0mos\u001b[0m\u001b[1;33m.\u001b[0m\u001b[0mpath\u001b[0m\u001b[1;33m.\u001b[0m\u001b[0mjoin\u001b[0m\u001b[1;33m(\u001b[0m\u001b[0mdirectory\u001b[0m\u001b[1;33m,\u001b[0m \u001b[0msubdir\u001b[0m\u001b[1;33m)\u001b[0m\u001b[1;33m)\u001b[0m\u001b[1;33m:\u001b[0m\u001b[1;33m\u001b[0m\u001b[1;33m\u001b[0m\u001b[0m\n\u001b[0;32m    108\u001b[0m                     \u001b[0mclasses\u001b[0m\u001b[1;33m.\u001b[0m\u001b[0mappend\u001b[0m\u001b[1;33m(\u001b[0m\u001b[0msubdir\u001b[0m\u001b[1;33m)\u001b[0m\u001b[1;33m\u001b[0m\u001b[1;33m\u001b[0m\u001b[0m\n",
      "\u001b[1;31mFileNotFoundError\u001b[0m: [WinError 3] 지정된 경로를 찾을 수 없습니다: 'C:/Users/Affinity/smile_datasets\\\\test'"
     ]
    }
   ],
   "source": [
    "test_generator = test_datagen.flow_from_directory(\n",
    "    test_dir,\n",
    "    target_size=(64, 64),\n",
    "    batch_size=20,\n",
    "    class_mode='categorical')"
   ]
  },
  {
   "cell_type": "markdown",
   "metadata": {},
   "source": [
    "## 시각화"
   ]
  },
  {
   "cell_type": "code",
   "execution_count": 37,
   "metadata": {},
   "outputs": [
    {
     "name": "stdout",
     "output_type": "stream",
     "text": [
      "(1, 64, 64, 3)\n"
     ]
    }
   ],
   "source": [
    "## 개별 이미지 전처리하기\n",
    "img_path= 'C:/Users/Affinity/asian_datasets/test/2/fake (530).jpg'\n",
    "\n",
    "from keras.preprocessing import image\n",
    "import numpy as np\n",
    "\n",
    "img=image.load_img(img_path, target_size=(64,64))\n",
    "img_tensor = image.img_to_array(img)\n",
    "img_tensor = np.expand_dims(img_tensor, axis=0) #이미지를 4d 텐서로 바꿔서 넣어줌 (0,64,64,3)\n",
    "img_tensor/=255. #모델이 훈련될 대 입력에 적용한 전처리 방식을 동일하게 넣어줌\n",
    "\n",
    "print(img_tensor.shape)"
   ]
  },
  {
   "cell_type": "code",
   "execution_count": 39,
   "metadata": {},
   "outputs": [
    {
     "data": {
      "image/png": "[encoded data removed]",
      "text/plain": [
       "<Figure size 432x288 with 1 Axes>"
      ]
     },
     "metadata": {
      "needs_background": "light"
     },
     "output_type": "display_data"
    }
   ],
   "source": [
    "import matplotlib.pyplot as plt\n",
    "\n",
    "plt.imshow(img_tensor[0])\n",
    "plt.show()"
   ]
  },
  {
   "cell_type": "code",
   "execution_count": 36,
   "metadata": {},
   "outputs": [
    {
     "ename": "AttributeError",
     "evalue": "Layer vgg16 has multiple inbound nodes, hence the notion of \"layer output\" is ill-defined. Use `get_output_at(node_index)` instead.",
     "output_type": "error",
     "traceback": [
      "\u001b[1;31m---------------------------------------------------------------------------\u001b[0m",
      "\u001b[1;31mAttributeError\u001b[0m                            Traceback (most recent call last)",
      "\u001b[1;32m<ipython-input-36-fb9f1bc8a777>\u001b[0m in \u001b[0;36m<module>\u001b[1;34m\u001b[0m\n\u001b[0;32m      1\u001b[0m \u001b[1;32mfrom\u001b[0m \u001b[0mkeras\u001b[0m \u001b[1;32mimport\u001b[0m \u001b[0mmodels\u001b[0m\u001b[1;33m\u001b[0m\u001b[1;33m\u001b[0m\u001b[0m\n\u001b[0;32m      2\u001b[0m \u001b[1;33m\u001b[0m\u001b[0m\n\u001b[1;32m----> 3\u001b[1;33m \u001b[0mlayer_outputs\u001b[0m \u001b[1;33m=\u001b[0m \u001b[1;33m[\u001b[0m\u001b[0mlayer\u001b[0m\u001b[1;33m.\u001b[0m\u001b[0moutput\u001b[0m \u001b[1;32mfor\u001b[0m \u001b[0mlayer\u001b[0m \u001b[1;32min\u001b[0m \u001b[0mmodel\u001b[0m\u001b[1;33m.\u001b[0m\u001b[0mlayers\u001b[0m\u001b[1;33m[\u001b[0m\u001b[1;33m:\u001b[0m\u001b[1;36m8\u001b[0m\u001b[1;33m]\u001b[0m\u001b[1;33m]\u001b[0m\u001b[1;33m\u001b[0m\u001b[1;33m\u001b[0m\u001b[0m\n\u001b[0m\u001b[0;32m      4\u001b[0m \u001b[0mactivation_model\u001b[0m\u001b[1;33m=\u001b[0m\u001b[0mmodels\u001b[0m\u001b[1;33m.\u001b[0m\u001b[0mModel\u001b[0m\u001b[1;33m(\u001b[0m\u001b[0minputs\u001b[0m \u001b[1;33m=\u001b[0m \u001b[0mmodel\u001b[0m\u001b[1;33m.\u001b[0m\u001b[0minput\u001b[0m\u001b[1;33m,\u001b[0m \u001b[0moutputs\u001b[0m\u001b[1;33m=\u001b[0m\u001b[0mlayer_outputs\u001b[0m\u001b[1;33m)\u001b[0m\u001b[1;33m\u001b[0m\u001b[1;33m\u001b[0m\u001b[0m\n\u001b[0;32m      5\u001b[0m \u001b[1;33m\u001b[0m\u001b[0m\n",
      "\u001b[1;32m<ipython-input-36-fb9f1bc8a777>\u001b[0m in \u001b[0;36m<listcomp>\u001b[1;34m(.0)\u001b[0m\n\u001b[0;32m      1\u001b[0m \u001b[1;32mfrom\u001b[0m \u001b[0mkeras\u001b[0m \u001b[1;32mimport\u001b[0m \u001b[0mmodels\u001b[0m\u001b[1;33m\u001b[0m\u001b[1;33m\u001b[0m\u001b[0m\n\u001b[0;32m      2\u001b[0m \u001b[1;33m\u001b[0m\u001b[0m\n\u001b[1;32m----> 3\u001b[1;33m \u001b[0mlayer_outputs\u001b[0m \u001b[1;33m=\u001b[0m \u001b[1;33m[\u001b[0m\u001b[0mlayer\u001b[0m\u001b[1;33m.\u001b[0m\u001b[0moutput\u001b[0m \u001b[1;32mfor\u001b[0m \u001b[0mlayer\u001b[0m \u001b[1;32min\u001b[0m \u001b[0mmodel\u001b[0m\u001b[1;33m.\u001b[0m\u001b[0mlayers\u001b[0m\u001b[1;33m[\u001b[0m\u001b[1;33m:\u001b[0m\u001b[1;36m8\u001b[0m\u001b[1;33m]\u001b[0m\u001b[1;33m]\u001b[0m\u001b[1;33m\u001b[0m\u001b[1;33m\u001b[0m\u001b[0m\n\u001b[0m\u001b[0;32m      4\u001b[0m \u001b[0mactivation_model\u001b[0m\u001b[1;33m=\u001b[0m\u001b[0mmodels\u001b[0m\u001b[1;33m.\u001b[0m\u001b[0mModel\u001b[0m\u001b[1;33m(\u001b[0m\u001b[0minputs\u001b[0m \u001b[1;33m=\u001b[0m \u001b[0mmodel\u001b[0m\u001b[1;33m.\u001b[0m\u001b[0minput\u001b[0m\u001b[1;33m,\u001b[0m \u001b[0moutputs\u001b[0m\u001b[1;33m=\u001b[0m\u001b[0mlayer_outputs\u001b[0m\u001b[1;33m)\u001b[0m\u001b[1;33m\u001b[0m\u001b[1;33m\u001b[0m\u001b[0m\n\u001b[0;32m      5\u001b[0m \u001b[1;33m\u001b[0m\u001b[0m\n",
      "\u001b[1;32m~\\.conda\\envs\\keras\\lib\\site-packages\\keras\\engine\\base_layer.py\u001b[0m in \u001b[0;36moutput\u001b[1;34m(self)\u001b[0m\n\u001b[0;32m    811\u001b[0m         \u001b[1;32mif\u001b[0m \u001b[0mlen\u001b[0m\u001b[1;33m(\u001b[0m\u001b[0mself\u001b[0m\u001b[1;33m.\u001b[0m\u001b[0m_inbound_nodes\u001b[0m\u001b[1;33m)\u001b[0m \u001b[1;33m>\u001b[0m \u001b[1;36m1\u001b[0m\u001b[1;33m:\u001b[0m\u001b[1;33m\u001b[0m\u001b[1;33m\u001b[0m\u001b[0m\n\u001b[0;32m    812\u001b[0m             raise AttributeError('Layer ' + self.name +\n\u001b[1;32m--> 813\u001b[1;33m                                  \u001b[1;34m' has multiple inbound nodes, '\u001b[0m\u001b[1;33m\u001b[0m\u001b[1;33m\u001b[0m\u001b[0m\n\u001b[0m\u001b[0;32m    814\u001b[0m                                  \u001b[1;34m'hence the notion of \"layer output\" '\u001b[0m\u001b[1;33m\u001b[0m\u001b[1;33m\u001b[0m\u001b[0m\n\u001b[0;32m    815\u001b[0m                                  \u001b[1;34m'is ill-defined. '\u001b[0m\u001b[1;33m\u001b[0m\u001b[1;33m\u001b[0m\u001b[0m\n",
      "\u001b[1;31mAttributeError\u001b[0m: Layer vgg16 has multiple inbound nodes, hence the notion of \"layer output\" is ill-defined. Use `get_output_at(node_index)` instead."
     ]
    }
   ],
   "source": [
    "from keras import models\n",
    "\n",
    "layer_outputs = [layer.output for layer in model.layers[:8]]\n",
    "activation_model=models.Model(inputs = model.input, outputs=layer_outputs)\n",
    "\n",
    "#vgg는 multiple inbound node를 갖기 때문에 layer output이 ill-defined. get_output_at(node_index)\n",
    "\n",
    "activations = activation_model.predict(img_tensor)\n",
    "first_layer_activation = activations[0]\n",
    "\n",
    "import matplotlib.pyplot as plt\n",
    "%matplotlib inline\n",
    "\n",
    "plt.matshow(first_layer_activation[0,:,:,19], cmap='viridis')# 이미지의 채널 중 20번째 채널을 뽑아보기"
   ]
  },
  {
   "cell_type": "code",
   "execution_count": null,
   "metadata": {},
   "outputs": [],
   "source": []
  }
 ],
 "metadata": {
  "kernelspec": {
   "display_name": "keras",
   "language": "python",
   "name": "keras"
  },
  "language_info": {
   "codemirror_mode": {
    "name": "ipython",
    "version": 3
   },
   "file_extension": ".py",
   "mimetype": "text/x-python",
   "name": "python",
   "nbconvert_exporter": "python",
   "pygments_lexer": "ipython3",
   "version": "3.6.8"
  },
  "widgets": {
   "state": {},
   "version": "1.1.2"
  }
 },
 "nbformat": 4,
 "nbformat_minor": 2
}
